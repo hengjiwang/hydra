{
 "cells": [
  {
   "cell_type": "code",
   "execution_count": 1,
   "metadata": {},
   "outputs": [],
   "source": [
    "%load_ext autoreload\n",
    "%autoreload 2"
   ]
  },
  {
   "cell_type": "code",
   "execution_count": 2,
   "metadata": {},
   "outputs": [],
   "source": [
    "import sys\n",
    "sys.path.append('../..')"
   ]
  },
  {
   "cell_type": "code",
   "execution_count": 32,
   "metadata": {},
   "outputs": [],
   "source": [
    "import pickle\n",
    "import numpy as np\n",
    "import matplotlib.pyplot as plt\n",
    "import matplotlib.animation as animation\n",
    "from cv2 import cv2\n",
    "from tqdm import tqdm"
   ]
  },
  {
   "cell_type": "code",
   "execution_count": 36,
   "metadata": {},
   "outputs": [],
   "source": [
    "with open('../results/data/calcium.pickle', 'rb') as handle:\n",
    "    calcium = pickle.load(handle)"
   ]
  },
  {
   "cell_type": "code",
   "execution_count": 30,
   "metadata": {},
   "outputs": [],
   "source": [
    "T = 50\n",
    "dt = 0.0002\n",
    "save_interval = 5000\n",
    "numx = 30\n",
    "numy = 60\n",
    "dpi = 100\n",
    "fps = 10"
   ]
  },
  {
   "cell_type": "code",
   "execution_count": 49,
   "metadata": {},
   "outputs": [
    {
     "name": "stderr",
     "output_type": "stream",
     "text": [
      "100%|██████████| 11/11 [14:58<00:00, 81.65s/it]\n"
     ]
    }
   ],
   "source": [
    "# Create frames\n",
    "\n",
    "fig = plt.figure()\n",
    "\n",
    "for gipx_index in tqdm(range(11)):\n",
    "    for gipy_index in range(11):\n",
    "        \n",
    "        for iframe in range(calcium.shape[2]):\n",
    "\n",
    "            plt.clf()\n",
    "            plt.imshow(np.flip(calcium[gipx_index, gipy_index, iframe].T, 0),\n",
    "                       vmin=0.04,\n",
    "                       vmax=1,\n",
    "                       cmap='hot')\n",
    "            plt.text(1, 5, str(iframe) + 's', color='white', size=15, fontweight='bold')\n",
    "            plt.colorbar()\n",
    "            plt.gca().xaxis.set_major_locator(plt.NullLocator())\n",
    "            plt.gca().yaxis.set_major_locator(plt.NullLocator())\n",
    "\n",
    "            plt.savefig('../results/video/frames/img' + str(iframe) + '.jpg', dpi=dpi, bbox_inches='tight')\n",
    "            plt.close()\n",
    "\n",
    "        # Make video\n",
    "        fourcc = cv2.VideoWriter_fourcc(*'MJPG')\n",
    "        videoWriter = cv2.VideoWriter('../results/video/couple_coeff/x' + \n",
    "                                      str(gipx_index) + 'y' + str(gipy_index) + \n",
    "                                      '.avi', fourcc, fps, (246, 332))\n",
    "\n",
    "        for iframe in range(50):\n",
    "            frame = cv2.imread('../results/video/frames/img' + str(iframe) + '.jpg')\n",
    "            videoWriter.write(frame)\n",
    "        videoWriter.release()\n",
    "        cv2.destroyAllWindows()"
   ]
  },
  {
   "cell_type": "code",
   "execution_count": null,
   "metadata": {},
   "outputs": [],
   "source": []
  }
 ],
 "metadata": {
  "kernelspec": {
   "display_name": "Python 3",
   "language": "python",
   "name": "python3"
  },
  "language_info": {
   "codemirror_mode": {
    "name": "ipython",
    "version": 3
   },
   "file_extension": ".py",
   "mimetype": "text/x-python",
   "name": "python",
   "nbconvert_exporter": "python",
   "pygments_lexer": "ipython3",
   "version": "3.8.5"
  }
 },
 "nbformat": 4,
 "nbformat_minor": 4
}
