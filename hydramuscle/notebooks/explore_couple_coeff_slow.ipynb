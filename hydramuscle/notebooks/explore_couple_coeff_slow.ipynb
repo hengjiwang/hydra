{
 "cells": [
  {
   "cell_type": "code",
   "execution_count": 1,
   "metadata": {},
   "outputs": [],
   "source": [
    "%load_ext autoreload\n",
    "%autoreload 2"
   ]
  },
  {
   "cell_type": "code",
   "execution_count": 2,
   "metadata": {},
   "outputs": [],
   "source": [
    "import sys\n",
    "sys.path.append('../..')"
   ]
  },
  {
   "cell_type": "code",
   "execution_count": 3,
   "metadata": {},
   "outputs": [],
   "source": [
    "import numpy as np\n",
    "import matplotlib.pyplot as plt\n",
    "\n",
    "from hydramuscle.model.smc import SMC\n",
    "from hydramuscle.model.layer import Layer"
   ]
  },
  {
   "cell_type": "code",
   "execution_count": 4,
   "metadata": {},
   "outputs": [],
   "source": [
    "def calc_prop_range(data, step_time=1, thres=0.1):\n",
    "    nsteps, numx, numy = data.shape\n",
    "    \n",
    "    # Extract longitudinal and circular data separately\n",
    "    data_x = data[:, :, 0]\n",
    "    data_y = data[:, numx // 2, :]\n",
    "    \n",
    "    # Track wavefronts\n",
    "    wavefronts_x = np.zeros(nsteps)\n",
    "    wavefronts_y = np.zeros(nsteps)\n",
    "    \n",
    "    for i in range(nsteps):\n",
    "        for k in range(numx - 1, -1, -1):\n",
    "            if data_x[i, k] > thres:\n",
    "                wavefronts_x[i] = k\n",
    "                break\n",
    "        \n",
    "        for k in range(numy):\n",
    "            if data_y[i, k] > thres:\n",
    "                wavefronts_y[i] = k\n",
    "    \n",
    "    # Calculate range\n",
    "    range_x = max(wavefronts_x - numx // 2)\n",
    "    range_y = max(wavefronts_y)\n",
    "    \n",
    "    return range_x, range_y #, wavefronts_x, wavefronts_y"
   ]
  },
  {
   "cell_type": "code",
   "execution_count": 5,
   "metadata": {},
   "outputs": [],
   "source": [
    "numx = 30\n",
    "numy = 60\n",
    "T = 50\n",
    "dt = 0.0002\n",
    "save_interval = 5000"
   ]
  },
  {
   "cell_type": "code",
   "execution_count": 6,
   "metadata": {
    "scrolled": true
   },
   "outputs": [
    {
     "name": "stderr",
     "output_type": "stream",
     "text": [
      "  0%|          | 136/250000 [00:00<03:04, 1355.39it/s]"
     ]
    },
    {
     "name": "stdout",
     "output_type": "stream",
     "text": [
      "0 0\n"
     ]
    },
    {
     "name": "stderr",
     "output_type": "stream",
     "text": [
      "100%|██████████| 250000/250000 [02:03<00:00, 2026.65it/s]\n",
      "  0%|          | 188/250000 [00:00<02:13, 1872.83it/s]"
     ]
    },
    {
     "name": "stdout",
     "output_type": "stream",
     "text": [
      "0 1\n"
     ]
    },
    {
     "name": "stderr",
     "output_type": "stream",
     "text": [
      "100%|██████████| 250000/250000 [02:10<00:00, 1913.38it/s]\n",
      "  0%|          | 196/250000 [00:00<02:07, 1957.72it/s]"
     ]
    },
    {
     "name": "stdout",
     "output_type": "stream",
     "text": [
      "0 2\n"
     ]
    },
    {
     "name": "stderr",
     "output_type": "stream",
     "text": [
      "100%|██████████| 250000/250000 [02:02<00:00, 2045.68it/s]\n",
      "  0%|          | 148/250000 [00:00<02:49, 1478.23it/s]"
     ]
    },
    {
     "name": "stdout",
     "output_type": "stream",
     "text": [
      "0 3\n"
     ]
    },
    {
     "name": "stderr",
     "output_type": "stream",
     "text": [
      "100%|██████████| 250000/250000 [02:05<00:00, 1995.14it/s]\n",
      "  0%|          | 201/250000 [00:00<02:04, 2004.06it/s]"
     ]
    },
    {
     "name": "stdout",
     "output_type": "stream",
     "text": [
      "0 4\n"
     ]
    },
    {
     "name": "stderr",
     "output_type": "stream",
     "text": [
      "100%|██████████| 250000/250000 [02:02<00:00, 2047.08it/s]\n",
      "  0%|          | 184/250000 [00:00<02:17, 1823.15it/s]"
     ]
    },
    {
     "name": "stdout",
     "output_type": "stream",
     "text": [
      "0 5\n"
     ]
    },
    {
     "name": "stderr",
     "output_type": "stream",
     "text": [
      "100%|██████████| 250000/250000 [01:59<00:00, 2099.19it/s]\n",
      "  0%|          | 208/250000 [00:00<02:00, 2071.55it/s]"
     ]
    },
    {
     "name": "stdout",
     "output_type": "stream",
     "text": [
      "0 6\n"
     ]
    },
    {
     "name": "stderr",
     "output_type": "stream",
     "text": [
      "100%|██████████| 250000/250000 [02:04<00:00, 2007.88it/s]\n",
      "  0%|          | 172/250000 [00:00<02:25, 1713.56it/s]"
     ]
    },
    {
     "name": "stdout",
     "output_type": "stream",
     "text": [
      "0 7\n"
     ]
    },
    {
     "name": "stderr",
     "output_type": "stream",
     "text": [
      "100%|██████████| 250000/250000 [02:04<00:00, 2009.21it/s]\n",
      "  0%|          | 209/250000 [00:00<01:59, 2083.79it/s]"
     ]
    },
    {
     "name": "stdout",
     "output_type": "stream",
     "text": [
      "0 8\n"
     ]
    },
    {
     "name": "stderr",
     "output_type": "stream",
     "text": [
      "100%|██████████| 250000/250000 [32:11<00:00, 129.47it/s]   \n",
      "  0%|          | 174/250000 [00:00<02:24, 1733.04it/s]"
     ]
    },
    {
     "name": "stdout",
     "output_type": "stream",
     "text": [
      "0 9\n"
     ]
    },
    {
     "name": "stderr",
     "output_type": "stream",
     "text": [
      "100%|██████████| 250000/250000 [1:33:59<00:00, 44.33it/s]   \n",
      "  0%|          | 221/250000 [00:00<01:53, 2202.47it/s]"
     ]
    },
    {
     "name": "stdout",
     "output_type": "stream",
     "text": [
      "0 10\n"
     ]
    },
    {
     "name": "stderr",
     "output_type": "stream",
     "text": [
      "100%|██████████| 250000/250000 [3:02:12<00:00, 22.87it/s]    \n",
      "  0%|          | 222/250000 [00:00<01:52, 2212.85it/s]"
     ]
    },
    {
     "name": "stdout",
     "output_type": "stream",
     "text": [
      "1 0\n"
     ]
    },
    {
     "name": "stderr",
     "output_type": "stream",
     "text": [
      "100%|██████████| 250000/250000 [1:32:07<00:00, 45.23it/s]    \n",
      "  0%|          | 219/250000 [00:00<01:54, 2183.30it/s]"
     ]
    },
    {
     "name": "stdout",
     "output_type": "stream",
     "text": [
      "1 1\n"
     ]
    },
    {
     "name": "stderr",
     "output_type": "stream",
     "text": [
      "100%|██████████| 250000/250000 [46:59<00:00, 88.66it/s]   \n",
      "  0%|          | 219/250000 [00:00<01:54, 2182.32it/s]"
     ]
    },
    {
     "name": "stdout",
     "output_type": "stream",
     "text": [
      "1 2\n"
     ]
    },
    {
     "name": "stderr",
     "output_type": "stream",
     "text": [
      "100%|██████████| 250000/250000 [2:47:53<00:00, 24.82it/s]    \n",
      "  0%|          | 179/250000 [00:00<02:20, 1780.99it/s]"
     ]
    },
    {
     "name": "stdout",
     "output_type": "stream",
     "text": [
      "1 3\n"
     ]
    },
    {
     "name": "stderr",
     "output_type": "stream",
     "text": [
      "100%|██████████| 250000/250000 [23:04<00:00, 180.62it/s] \n",
      "  0%|          | 185/250000 [00:00<02:15, 1845.54it/s]"
     ]
    },
    {
     "name": "stdout",
     "output_type": "stream",
     "text": [
      "1 4\n"
     ]
    },
    {
     "name": "stderr",
     "output_type": "stream",
     "text": [
      "100%|██████████| 250000/250000 [02:10<00:00, 1913.42it/s]\n",
      "  0%|          | 200/250000 [00:00<02:05, 1989.18it/s]"
     ]
    },
    {
     "name": "stdout",
     "output_type": "stream",
     "text": [
      "1 5\n"
     ]
    },
    {
     "name": "stderr",
     "output_type": "stream",
     "text": [
      "100%|██████████| 250000/250000 [02:14<00:00, 1859.48it/s]\n",
      "  0%|          | 180/250000 [00:00<02:18, 1798.49it/s]"
     ]
    },
    {
     "name": "stdout",
     "output_type": "stream",
     "text": [
      "1 6\n"
     ]
    },
    {
     "name": "stderr",
     "output_type": "stream",
     "text": [
      "100%|██████████| 250000/250000 [02:07<00:00, 1965.18it/s]\n",
      "  0%|          | 199/250000 [00:00<02:05, 1984.66it/s]"
     ]
    },
    {
     "name": "stdout",
     "output_type": "stream",
     "text": [
      "1 7\n"
     ]
    },
    {
     "name": "stderr",
     "output_type": "stream",
     "text": [
      "100%|██████████| 250000/250000 [02:08<00:00, 1943.95it/s]\n",
      "  0%|          | 142/250000 [00:00<02:56, 1417.07it/s]"
     ]
    },
    {
     "name": "stdout",
     "output_type": "stream",
     "text": [
      "1 8\n"
     ]
    },
    {
     "name": "stderr",
     "output_type": "stream",
     "text": [
      "100%|██████████| 250000/250000 [02:00<00:00, 2073.27it/s]\n",
      "  0%|          | 202/250000 [00:00<02:03, 2015.59it/s]"
     ]
    },
    {
     "name": "stdout",
     "output_type": "stream",
     "text": [
      "1 9\n"
     ]
    },
    {
     "name": "stderr",
     "output_type": "stream",
     "text": [
      "100%|██████████| 250000/250000 [02:02<00:00, 2038.05it/s]\n",
      "  0%|          | 202/250000 [00:00<02:04, 2010.84it/s]"
     ]
    },
    {
     "name": "stdout",
     "output_type": "stream",
     "text": [
      "1 10\n"
     ]
    },
    {
     "name": "stderr",
     "output_type": "stream",
     "text": [
      "100%|██████████| 250000/250000 [02:07<00:00, 1956.05it/s]\n",
      "  0%|          | 203/250000 [00:00<02:03, 2021.51it/s]"
     ]
    },
    {
     "name": "stdout",
     "output_type": "stream",
     "text": [
      "2 0\n"
     ]
    },
    {
     "name": "stderr",
     "output_type": "stream",
     "text": [
      "100%|██████████| 250000/250000 [02:03<00:00, 2029.36it/s]\n",
      "  0%|          | 202/250000 [00:00<02:03, 2015.83it/s]"
     ]
    },
    {
     "name": "stdout",
     "output_type": "stream",
     "text": [
      "2 1\n"
     ]
    },
    {
     "name": "stderr",
     "output_type": "stream",
     "text": [
      "100%|██████████| 250000/250000 [08:47<00:00, 474.02it/s]     \n",
      "  0%|          | 192/250000 [00:00<02:10, 1919.62it/s]"
     ]
    },
    {
     "name": "stdout",
     "output_type": "stream",
     "text": [
      "2 2\n"
     ]
    },
    {
     "name": "stderr",
     "output_type": "stream",
     "text": [
      "100%|██████████| 250000/250000 [02:09<00:00, 1924.12it/s]\n",
      "  0%|          | 188/250000 [00:00<02:13, 1878.10it/s]"
     ]
    },
    {
     "name": "stdout",
     "output_type": "stream",
     "text": [
      "2 3\n"
     ]
    },
    {
     "name": "stderr",
     "output_type": "stream",
     "text": [
      "100%|██████████| 250000/250000 [02:14<00:00, 1852.94it/s]\n",
      "  0%|          | 205/250000 [00:00<02:02, 2037.59it/s]"
     ]
    },
    {
     "name": "stdout",
     "output_type": "stream",
     "text": [
      "2 4\n"
     ]
    },
    {
     "name": "stderr",
     "output_type": "stream",
     "text": [
      "100%|██████████| 250000/250000 [02:13<00:00, 1879.64it/s]\n",
      "  0%|          | 201/250000 [00:00<02:04, 2009.92it/s]"
     ]
    },
    {
     "name": "stdout",
     "output_type": "stream",
     "text": [
      "2 5\n"
     ]
    },
    {
     "name": "stderr",
     "output_type": "stream",
     "text": [
      "100%|██████████| 250000/250000 [02:02<00:00, 2034.26it/s]\n",
      "  0%|          | 192/250000 [00:00<02:10, 1916.15it/s]"
     ]
    },
    {
     "name": "stdout",
     "output_type": "stream",
     "text": [
      "2 6\n"
     ]
    },
    {
     "name": "stderr",
     "output_type": "stream",
     "text": [
      "100%|██████████| 250000/250000 [02:02<00:00, 2034.14it/s]\n",
      "  0%|          | 207/250000 [00:00<02:01, 2061.45it/s]"
     ]
    },
    {
     "name": "stdout",
     "output_type": "stream",
     "text": [
      "2 7\n"
     ]
    },
    {
     "name": "stderr",
     "output_type": "stream",
     "text": [
      "100%|██████████| 250000/250000 [02:00<00:00, 2070.76it/s]\n",
      "  0%|          | 145/250000 [00:00<02:52, 1446.41it/s]"
     ]
    },
    {
     "name": "stdout",
     "output_type": "stream",
     "text": [
      "2 8\n"
     ]
    },
    {
     "name": "stderr",
     "output_type": "stream",
     "text": [
      "100%|██████████| 250000/250000 [02:02<00:00, 2040.26it/s]\n",
      "  0%|          | 206/250000 [00:00<02:01, 2057.68it/s]"
     ]
    },
    {
     "name": "stdout",
     "output_type": "stream",
     "text": [
      "2 9\n"
     ]
    },
    {
     "name": "stderr",
     "output_type": "stream",
     "text": [
      "100%|██████████| 250000/250000 [02:02<00:00, 2043.27it/s]\n",
      "  0%|          | 144/250000 [00:00<02:54, 1434.12it/s]"
     ]
    },
    {
     "name": "stdout",
     "output_type": "stream",
     "text": [
      "2 10\n"
     ]
    },
    {
     "name": "stderr",
     "output_type": "stream",
     "text": [
      "100%|██████████| 250000/250000 [01:59<00:00, 2087.70it/s]\n",
      "  0%|          | 200/250000 [00:00<02:05, 1997.52it/s]"
     ]
    },
    {
     "name": "stdout",
     "output_type": "stream",
     "text": [
      "3 0\n"
     ]
    },
    {
     "name": "stderr",
     "output_type": "stream",
     "text": [
      "100%|██████████| 250000/250000 [02:00<00:00, 2081.60it/s]\n",
      "  0%|          | 183/250000 [00:00<02:16, 1824.36it/s]"
     ]
    },
    {
     "name": "stdout",
     "output_type": "stream",
     "text": [
      "3 1\n"
     ]
    },
    {
     "name": "stderr",
     "output_type": "stream",
     "text": [
      "100%|██████████| 250000/250000 [01:59<00:00, 2096.27it/s]\n",
      "  0%|          | 208/250000 [00:00<02:00, 2073.32it/s]"
     ]
    },
    {
     "name": "stdout",
     "output_type": "stream",
     "text": [
      "3 2\n"
     ]
    },
    {
     "name": "stderr",
     "output_type": "stream",
     "text": [
      "100%|██████████| 250000/250000 [02:03<00:00, 2024.68it/s]\n",
      "  0%|          | 209/250000 [00:00<01:59, 2084.49it/s]"
     ]
    },
    {
     "name": "stdout",
     "output_type": "stream",
     "text": [
      "3 3\n"
     ]
    },
    {
     "name": "stderr",
     "output_type": "stream",
     "text": [
      "100%|██████████| 250000/250000 [02:02<00:00, 2047.62it/s]\n",
      "  0%|          | 205/250000 [00:00<02:02, 2045.40it/s]"
     ]
    },
    {
     "name": "stdout",
     "output_type": "stream",
     "text": [
      "3 4\n"
     ]
    },
    {
     "name": "stderr",
     "output_type": "stream",
     "text": [
      "100%|██████████| 250000/250000 [02:02<00:00, 2037.86it/s]\n",
      "  0%|          | 193/250000 [00:00<02:09, 1926.58it/s]"
     ]
    },
    {
     "name": "stdout",
     "output_type": "stream",
     "text": [
      "3 5\n"
     ]
    },
    {
     "name": "stderr",
     "output_type": "stream",
     "text": [
      "100%|██████████| 250000/250000 [01:59<00:00, 2094.40it/s]\n",
      "  0%|          | 206/250000 [00:00<02:01, 2053.57it/s]"
     ]
    },
    {
     "name": "stdout",
     "output_type": "stream",
     "text": [
      "3 6\n"
     ]
    },
    {
     "name": "stderr",
     "output_type": "stream",
     "text": [
      "100%|██████████| 250000/250000 [02:01<00:00, 2063.48it/s]\n",
      "  0%|          | 201/250000 [00:00<02:04, 2006.91it/s]"
     ]
    },
    {
     "name": "stdout",
     "output_type": "stream",
     "text": [
      "3 7\n"
     ]
    },
    {
     "name": "stderr",
     "output_type": "stream",
     "text": [
      "100%|██████████| 250000/250000 [02:05<00:00, 1995.49it/s]\n",
      "  0%|          | 202/250000 [00:00<02:04, 2012.73it/s]"
     ]
    },
    {
     "name": "stdout",
     "output_type": "stream",
     "text": [
      "3 8\n"
     ]
    },
    {
     "name": "stderr",
     "output_type": "stream",
     "text": [
      "100%|██████████| 250000/250000 [01:59<00:00, 2087.45it/s]\n",
      "  0%|          | 206/250000 [00:00<02:01, 2057.53it/s]"
     ]
    },
    {
     "name": "stdout",
     "output_type": "stream",
     "text": [
      "3 9\n"
     ]
    },
    {
     "name": "stderr",
     "output_type": "stream",
     "text": [
      "100%|██████████| 250000/250000 [02:01<00:00, 2060.52it/s]\n",
      "  0%|          | 272/250000 [00:00<03:01, 1375.98it/s]"
     ]
    },
    {
     "name": "stdout",
     "output_type": "stream",
     "text": [
      "3 10\n"
     ]
    },
    {
     "name": "stderr",
     "output_type": "stream",
     "text": [
      "100%|██████████| 250000/250000 [01:59<00:00, 2090.23it/s]\n",
      "  0%|          | 202/250000 [00:00<02:04, 2012.77it/s]"
     ]
    },
    {
     "name": "stdout",
     "output_type": "stream",
     "text": [
      "4 0\n"
     ]
    },
    {
     "name": "stderr",
     "output_type": "stream",
     "text": [
      "100%|██████████| 250000/250000 [02:00<00:00, 2081.91it/s]\n",
      "  0%|          | 200/250000 [00:00<02:05, 1990.84it/s]"
     ]
    },
    {
     "name": "stdout",
     "output_type": "stream",
     "text": [
      "4 1\n"
     ]
    },
    {
     "name": "stderr",
     "output_type": "stream",
     "text": [
      "100%|██████████| 250000/250000 [01:59<00:00, 2085.83it/s]\n",
      "  0%|          | 199/250000 [00:00<02:05, 1983.26it/s]"
     ]
    },
    {
     "name": "stdout",
     "output_type": "stream",
     "text": [
      "4 2\n"
     ]
    },
    {
     "name": "stderr",
     "output_type": "stream",
     "text": [
      "100%|██████████| 250000/250000 [01:59<00:00, 2097.05it/s]\n",
      "  0%|          | 203/250000 [00:00<02:03, 2021.33it/s]"
     ]
    },
    {
     "name": "stdout",
     "output_type": "stream",
     "text": [
      "4 3\n"
     ]
    },
    {
     "name": "stderr",
     "output_type": "stream",
     "text": [
      "100%|██████████| 250000/250000 [02:01<00:00, 2049.93it/s]\n",
      "  0%|          | 200/250000 [00:00<02:05, 1996.48it/s]"
     ]
    },
    {
     "name": "stdout",
     "output_type": "stream",
     "text": [
      "4 4\n"
     ]
    },
    {
     "name": "stderr",
     "output_type": "stream",
     "text": [
      "100%|██████████| 250000/250000 [02:01<00:00, 2056.68it/s]\n",
      "  0%|          | 201/250000 [00:00<02:04, 2009.56it/s]"
     ]
    },
    {
     "name": "stdout",
     "output_type": "stream",
     "text": [
      "4 5\n"
     ]
    },
    {
     "name": "stderr",
     "output_type": "stream",
     "text": [
      "100%|██████████| 250000/250000 [02:01<00:00, 2049.77it/s]\n",
      "  0%|          | 438/250000 [00:00<01:53, 2196.79it/s]"
     ]
    },
    {
     "name": "stdout",
     "output_type": "stream",
     "text": [
      "4 6\n"
     ]
    },
    {
     "name": "stderr",
     "output_type": "stream",
     "text": [
      "100%|██████████| 250000/250000 [01:55<00:00, 2162.93it/s]\n",
      "  0%|          | 218/250000 [00:00<01:54, 2177.43it/s]"
     ]
    },
    {
     "name": "stdout",
     "output_type": "stream",
     "text": [
      "4 7\n"
     ]
    },
    {
     "name": "stderr",
     "output_type": "stream",
     "text": [
      "100%|██████████| 250000/250000 [01:56<00:00, 2152.71it/s]\n",
      "  0%|          | 429/250000 [00:00<01:55, 2153.39it/s]"
     ]
    },
    {
     "name": "stdout",
     "output_type": "stream",
     "text": [
      "4 8\n"
     ]
    },
    {
     "name": "stderr",
     "output_type": "stream",
     "text": [
      "100%|██████████| 250000/250000 [01:55<00:00, 2155.73it/s]\n",
      "  0%|          | 218/250000 [00:00<01:55, 2171.08it/s]"
     ]
    },
    {
     "name": "stdout",
     "output_type": "stream",
     "text": [
      "4 9\n"
     ]
    },
    {
     "name": "stderr",
     "output_type": "stream",
     "text": [
      "100%|██████████| 250000/250000 [01:55<00:00, 2157.86it/s]\n",
      "  0%|          | 220/250000 [00:00<01:53, 2193.31it/s]"
     ]
    },
    {
     "name": "stdout",
     "output_type": "stream",
     "text": [
      "4 10\n"
     ]
    },
    {
     "name": "stderr",
     "output_type": "stream",
     "text": [
      "100%|██████████| 250000/250000 [01:55<00:00, 2171.94it/s]\n",
      "  0%|          | 438/250000 [00:00<01:53, 2198.59it/s]"
     ]
    },
    {
     "name": "stdout",
     "output_type": "stream",
     "text": [
      "5 0\n"
     ]
    },
    {
     "name": "stderr",
     "output_type": "stream",
     "text": [
      "100%|██████████| 250000/250000 [01:59<00:00, 2086.16it/s]\n",
      "  0%|          | 191/250000 [00:00<02:11, 1905.87it/s]"
     ]
    },
    {
     "name": "stdout",
     "output_type": "stream",
     "text": [
      "5 1\n"
     ]
    },
    {
     "name": "stderr",
     "output_type": "stream",
     "text": [
      "100%|██████████| 250000/250000 [02:05<00:00, 1999.66it/s]\n",
      "  0%|          | 185/250000 [00:00<02:15, 1842.91it/s]"
     ]
    },
    {
     "name": "stdout",
     "output_type": "stream",
     "text": [
      "5 2\n"
     ]
    },
    {
     "name": "stderr",
     "output_type": "stream",
     "text": [
      "100%|██████████| 250000/250000 [02:05<00:00, 1995.04it/s]\n",
      "  0%|          | 169/250000 [00:00<02:28, 1687.43it/s]"
     ]
    },
    {
     "name": "stdout",
     "output_type": "stream",
     "text": [
      "5 3\n"
     ]
    },
    {
     "name": "stderr",
     "output_type": "stream",
     "text": [
      "100%|██████████| 250000/250000 [02:06<00:00, 1972.52it/s]\n",
      "  0%|          | 164/250000 [00:00<02:32, 1634.72it/s]"
     ]
    },
    {
     "name": "stdout",
     "output_type": "stream",
     "text": [
      "5 4\n"
     ]
    },
    {
     "name": "stderr",
     "output_type": "stream",
     "text": [
      "100%|██████████| 250000/250000 [02:06<00:00, 1977.26it/s]\n",
      "  0%|          | 195/250000 [00:00<02:08, 1948.26it/s]"
     ]
    },
    {
     "name": "stdout",
     "output_type": "stream",
     "text": [
      "5 5\n"
     ]
    },
    {
     "name": "stderr",
     "output_type": "stream",
     "text": [
      "100%|██████████| 250000/250000 [02:05<00:00, 1984.77it/s]\n",
      "  0%|          | 193/250000 [00:00<02:09, 1924.96it/s]"
     ]
    },
    {
     "name": "stdout",
     "output_type": "stream",
     "text": [
      "5 6\n"
     ]
    },
    {
     "name": "stderr",
     "output_type": "stream",
     "text": [
      "100%|██████████| 250000/250000 [02:04<00:00, 2006.66it/s]\n",
      "  0%|          | 197/250000 [00:00<02:07, 1962.91it/s]"
     ]
    },
    {
     "name": "stdout",
     "output_type": "stream",
     "text": [
      "5 7\n"
     ]
    },
    {
     "name": "stderr",
     "output_type": "stream",
     "text": [
      "100%|██████████| 250000/250000 [02:05<00:00, 1999.51it/s]\n",
      "  0%|          | 211/250000 [00:00<01:58, 2102.66it/s]"
     ]
    },
    {
     "name": "stdout",
     "output_type": "stream",
     "text": [
      "5 8\n"
     ]
    },
    {
     "name": "stderr",
     "output_type": "stream",
     "text": [
      "100%|██████████| 250000/250000 [01:59<00:00, 2090.75it/s]\n",
      "  0%|          | 203/250000 [00:00<02:03, 2028.72it/s]"
     ]
    },
    {
     "name": "stdout",
     "output_type": "stream",
     "text": [
      "5 9\n"
     ]
    },
    {
     "name": "stderr",
     "output_type": "stream",
     "text": [
      "100%|██████████| 250000/250000 [02:01<00:00, 2052.97it/s]\n",
      "  0%|          | 201/250000 [00:00<02:04, 2004.39it/s]"
     ]
    },
    {
     "name": "stdout",
     "output_type": "stream",
     "text": [
      "5 10\n"
     ]
    },
    {
     "name": "stderr",
     "output_type": "stream",
     "text": [
      "100%|██████████| 250000/250000 [02:03<00:00, 2020.55it/s]\n",
      "  0%|          | 401/250000 [00:00<02:03, 2019.96it/s]"
     ]
    },
    {
     "name": "stdout",
     "output_type": "stream",
     "text": [
      "6 0\n"
     ]
    },
    {
     "name": "stderr",
     "output_type": "stream",
     "text": [
      "100%|██████████| 250000/250000 [02:02<00:00, 2039.00it/s]\n",
      "  0%|          | 203/250000 [00:00<02:03, 2025.44it/s]"
     ]
    },
    {
     "name": "stdout",
     "output_type": "stream",
     "text": [
      "6 1\n"
     ]
    },
    {
     "name": "stderr",
     "output_type": "stream",
     "text": [
      "100%|██████████| 250000/250000 [02:01<00:00, 2051.60it/s]\n",
      "  0%|          | 198/250000 [00:00<02:06, 1972.55it/s]"
     ]
    },
    {
     "name": "stdout",
     "output_type": "stream",
     "text": [
      "6 2\n"
     ]
    },
    {
     "name": "stderr",
     "output_type": "stream",
     "text": [
      "100%|██████████| 250000/250000 [02:03<00:00, 2031.08it/s]\n",
      "  0%|          | 180/250000 [00:00<02:19, 1796.60it/s]"
     ]
    },
    {
     "name": "stdout",
     "output_type": "stream",
     "text": [
      "6 3\n"
     ]
    },
    {
     "name": "stderr",
     "output_type": "stream",
     "text": [
      "100%|██████████| 250000/250000 [02:05<00:00, 1989.37it/s]\n",
      "  0%|          | 196/250000 [00:00<02:07, 1952.40it/s]"
     ]
    },
    {
     "name": "stdout",
     "output_type": "stream",
     "text": [
      "6 4\n"
     ]
    },
    {
     "name": "stderr",
     "output_type": "stream",
     "text": [
      "100%|██████████| 250000/250000 [02:01<00:00, 2060.11it/s]\n",
      "  0%|          | 206/250000 [00:00<02:01, 2059.32it/s]"
     ]
    },
    {
     "name": "stdout",
     "output_type": "stream",
     "text": [
      "6 5\n"
     ]
    },
    {
     "name": "stderr",
     "output_type": "stream",
     "text": [
      "100%|██████████| 250000/250000 [02:02<00:00, 2042.10it/s]\n",
      "  0%|          | 200/250000 [00:00<02:05, 1992.89it/s]"
     ]
    },
    {
     "name": "stdout",
     "output_type": "stream",
     "text": [
      "6 6\n"
     ]
    },
    {
     "name": "stderr",
     "output_type": "stream",
     "text": [
      "100%|██████████| 250000/250000 [01:58<00:00, 2106.01it/s]\n",
      "  0%|          | 216/250000 [00:00<01:56, 2153.22it/s]"
     ]
    },
    {
     "name": "stdout",
     "output_type": "stream",
     "text": [
      "6 7\n"
     ]
    },
    {
     "name": "stderr",
     "output_type": "stream",
     "text": [
      "100%|██████████| 250000/250000 [01:55<00:00, 2155.77it/s]\n",
      "  0%|          | 424/250000 [00:00<01:58, 2099.41it/s]"
     ]
    },
    {
     "name": "stdout",
     "output_type": "stream",
     "text": [
      "6 8\n"
     ]
    },
    {
     "name": "stderr",
     "output_type": "stream",
     "text": [
      "100%|██████████| 250000/250000 [01:56<00:00, 2137.19it/s]\n",
      "  0%|          | 213/250000 [00:00<01:57, 2121.89it/s]"
     ]
    },
    {
     "name": "stdout",
     "output_type": "stream",
     "text": [
      "6 9\n"
     ]
    },
    {
     "name": "stderr",
     "output_type": "stream",
     "text": [
      "100%|██████████| 250000/250000 [18:07<00:00, 229.78it/s] \n",
      "  0%|          | 192/250000 [00:00<02:10, 1914.91it/s]"
     ]
    },
    {
     "name": "stdout",
     "output_type": "stream",
     "text": [
      "6 10\n"
     ]
    },
    {
     "name": "stderr",
     "output_type": "stream",
     "text": [
      "100%|██████████| 250000/250000 [02:10<00:00, 1919.50it/s]\n",
      "  0%|          | 155/250000 [00:00<02:41, 1548.02it/s]"
     ]
    },
    {
     "name": "stdout",
     "output_type": "stream",
     "text": [
      "7 0\n"
     ]
    },
    {
     "name": "stderr",
     "output_type": "stream",
     "text": [
      "100%|██████████| 250000/250000 [02:10<00:00, 1909.02it/s]\n",
      "  0%|          | 194/250000 [00:00<02:08, 1936.92it/s]"
     ]
    },
    {
     "name": "stdout",
     "output_type": "stream",
     "text": [
      "7 1\n"
     ]
    },
    {
     "name": "stderr",
     "output_type": "stream",
     "text": [
      "100%|██████████| 250000/250000 [02:08<00:00, 1950.93it/s]\n",
      "  0%|          | 194/250000 [00:00<02:09, 1931.44it/s]"
     ]
    },
    {
     "name": "stdout",
     "output_type": "stream",
     "text": [
      "7 2\n"
     ]
    },
    {
     "name": "stderr",
     "output_type": "stream",
     "text": [
      "100%|██████████| 250000/250000 [02:07<00:00, 1963.88it/s]\n",
      "  0%|          | 189/250000 [00:00<02:12, 1889.70it/s]"
     ]
    },
    {
     "name": "stdout",
     "output_type": "stream",
     "text": [
      "7 3\n"
     ]
    },
    {
     "name": "stderr",
     "output_type": "stream",
     "text": [
      "100%|██████████| 250000/250000 [02:08<00:00, 1950.49it/s]\n",
      "  0%|          | 193/250000 [00:00<02:09, 1922.27it/s]"
     ]
    },
    {
     "name": "stdout",
     "output_type": "stream",
     "text": [
      "7 4\n"
     ]
    },
    {
     "name": "stderr",
     "output_type": "stream",
     "text": [
      "100%|██████████| 250000/250000 [1:16:37<00:00, 54.38it/s]  \n",
      "  0%|          | 168/250000 [00:00<02:29, 1675.94it/s]"
     ]
    },
    {
     "name": "stdout",
     "output_type": "stream",
     "text": [
      "7 5\n"
     ]
    },
    {
     "name": "stderr",
     "output_type": "stream",
     "text": [
      "100%|██████████| 250000/250000 [48:36<00:00, 85.72it/s]   \n",
      "  0%|          | 208/250000 [00:00<02:00, 2071.94it/s]"
     ]
    },
    {
     "name": "stdout",
     "output_type": "stream",
     "text": [
      "7 6\n"
     ]
    },
    {
     "name": "stderr",
     "output_type": "stream",
     "text": [
      "100%|██████████| 250000/250000 [02:03<00:00, 2017.94it/s]\n",
      "  0%|          | 211/250000 [00:00<01:58, 2101.05it/s]"
     ]
    },
    {
     "name": "stdout",
     "output_type": "stream",
     "text": [
      "7 7\n"
     ]
    },
    {
     "name": "stderr",
     "output_type": "stream",
     "text": [
      "100%|██████████| 250000/250000 [02:00<00:00, 2081.89it/s]\n",
      "  0%|          | 209/250000 [00:00<01:59, 2088.76it/s]"
     ]
    },
    {
     "name": "stdout",
     "output_type": "stream",
     "text": [
      "7 8\n"
     ]
    },
    {
     "name": "stderr",
     "output_type": "stream",
     "text": [
      "100%|██████████| 250000/250000 [03:35<00:00, 1159.09it/s]\n",
      "  0%|          | 177/250000 [00:00<02:21, 1762.60it/s]"
     ]
    },
    {
     "name": "stdout",
     "output_type": "stream",
     "text": [
      "7 9\n"
     ]
    },
    {
     "name": "stderr",
     "output_type": "stream",
     "text": [
      "100%|██████████| 250000/250000 [02:19<00:00, 1791.49it/s]\n",
      "  0%|          | 221/250000 [00:00<01:53, 2202.67it/s]"
     ]
    },
    {
     "name": "stdout",
     "output_type": "stream",
     "text": [
      "7 10\n"
     ]
    },
    {
     "name": "stderr",
     "output_type": "stream",
     "text": [
      "100%|██████████| 250000/250000 [02:06<00:00, 1974.98it/s]\n",
      "  0%|          | 208/250000 [00:00<02:00, 2070.99it/s]"
     ]
    },
    {
     "name": "stdout",
     "output_type": "stream",
     "text": [
      "8 0\n"
     ]
    },
    {
     "name": "stderr",
     "output_type": "stream",
     "text": [
      "100%|██████████| 250000/250000 [02:23<00:00, 1738.74it/s]\n",
      "  0%|          | 133/250000 [00:00<03:08, 1326.12it/s]"
     ]
    },
    {
     "name": "stdout",
     "output_type": "stream",
     "text": [
      "8 1\n"
     ]
    },
    {
     "name": "stderr",
     "output_type": "stream",
     "text": [
      "100%|██████████| 250000/250000 [02:35<00:00, 1609.68it/s]\n",
      "  0%|          | 146/250000 [00:00<02:51, 1454.15it/s]"
     ]
    },
    {
     "name": "stdout",
     "output_type": "stream",
     "text": [
      "8 2\n"
     ]
    },
    {
     "name": "stderr",
     "output_type": "stream",
     "text": [
      "100%|██████████| 250000/250000 [02:28<00:00, 1688.65it/s]\n",
      "  0%|          | 178/250000 [00:00<02:20, 1774.68it/s]"
     ]
    },
    {
     "name": "stdout",
     "output_type": "stream",
     "text": [
      "8 3\n"
     ]
    },
    {
     "name": "stderr",
     "output_type": "stream",
     "text": [
      "100%|██████████| 250000/250000 [02:37<00:00, 1584.11it/s]\n",
      "  0%|          | 183/250000 [00:00<02:17, 1822.15it/s]"
     ]
    },
    {
     "name": "stdout",
     "output_type": "stream",
     "text": [
      "8 4\n"
     ]
    },
    {
     "name": "stderr",
     "output_type": "stream",
     "text": [
      "100%|██████████| 250000/250000 [02:17<00:00, 1811.80it/s]\n",
      "  0%|          | 186/250000 [00:00<02:14, 1859.52it/s]"
     ]
    },
    {
     "name": "stdout",
     "output_type": "stream",
     "text": [
      "8 5\n"
     ]
    },
    {
     "name": "stderr",
     "output_type": "stream",
     "text": [
      "100%|██████████| 250000/250000 [02:16<00:00, 1833.76it/s]\n",
      "  0%|          | 156/250000 [00:00<02:40, 1559.30it/s]"
     ]
    },
    {
     "name": "stdout",
     "output_type": "stream",
     "text": [
      "8 6\n"
     ]
    },
    {
     "name": "stderr",
     "output_type": "stream",
     "text": [
      "100%|██████████| 250000/250000 [02:23<00:00, 1741.36it/s]\n",
      "  0%|          | 191/250000 [00:00<02:11, 1906.53it/s]"
     ]
    },
    {
     "name": "stdout",
     "output_type": "stream",
     "text": [
      "8 7\n"
     ]
    },
    {
     "name": "stderr",
     "output_type": "stream",
     "text": [
      "100%|██████████| 250000/250000 [02:20<00:00, 1773.98it/s]\n",
      "  0%|          | 190/250000 [00:00<02:11, 1899.24it/s]"
     ]
    },
    {
     "name": "stdout",
     "output_type": "stream",
     "text": [
      "8 8\n"
     ]
    },
    {
     "name": "stderr",
     "output_type": "stream",
     "text": [
      "100%|██████████| 250000/250000 [02:34<00:00, 1614.67it/s]\n",
      "  0%|          | 203/250000 [00:00<02:03, 2028.28it/s]"
     ]
    },
    {
     "name": "stdout",
     "output_type": "stream",
     "text": [
      "8 9\n"
     ]
    },
    {
     "name": "stderr",
     "output_type": "stream",
     "text": [
      "100%|██████████| 250000/250000 [02:30<00:00, 1663.38it/s]\n",
      "  0%|          | 152/250000 [00:00<02:44, 1518.72it/s]"
     ]
    },
    {
     "name": "stdout",
     "output_type": "stream",
     "text": [
      "8 10\n"
     ]
    },
    {
     "name": "stderr",
     "output_type": "stream",
     "text": [
      "100%|██████████| 250000/250000 [02:35<00:00, 1603.57it/s]\n",
      "  0%|          | 182/250000 [00:00<02:17, 1816.44it/s]"
     ]
    },
    {
     "name": "stdout",
     "output_type": "stream",
     "text": [
      "9 0\n"
     ]
    },
    {
     "name": "stderr",
     "output_type": "stream",
     "text": [
      "100%|██████████| 250000/250000 [02:44<00:00, 1522.93it/s]\n",
      "  0%|          | 169/250000 [00:00<02:27, 1688.61it/s]"
     ]
    },
    {
     "name": "stdout",
     "output_type": "stream",
     "text": [
      "9 1\n"
     ]
    },
    {
     "name": "stderr",
     "output_type": "stream",
     "text": [
      "100%|██████████| 250000/250000 [02:25<00:00, 1720.44it/s]\n",
      "  0%|          | 201/250000 [00:00<02:04, 2008.68it/s]"
     ]
    },
    {
     "name": "stdout",
     "output_type": "stream",
     "text": [
      "9 2\n"
     ]
    },
    {
     "name": "stderr",
     "output_type": "stream",
     "text": [
      "100%|██████████| 250000/250000 [02:33<00:00, 1624.73it/s]\n",
      "  0%|          | 188/250000 [00:00<02:13, 1877.86it/s]"
     ]
    },
    {
     "name": "stdout",
     "output_type": "stream",
     "text": [
      "9 3\n"
     ]
    },
    {
     "name": "stderr",
     "output_type": "stream",
     "text": [
      "100%|██████████| 250000/250000 [02:14<00:00, 1864.80it/s]\n",
      "  0%|          | 189/250000 [00:00<02:12, 1889.04it/s]"
     ]
    },
    {
     "name": "stdout",
     "output_type": "stream",
     "text": [
      "9 4\n"
     ]
    },
    {
     "name": "stderr",
     "output_type": "stream",
     "text": [
      "100%|██████████| 250000/250000 [02:23<00:00, 1746.62it/s]\n",
      "  0%|          | 214/250000 [00:00<01:57, 2125.21it/s]"
     ]
    },
    {
     "name": "stdout",
     "output_type": "stream",
     "text": [
      "9 5\n"
     ]
    },
    {
     "name": "stderr",
     "output_type": "stream",
     "text": [
      "100%|██████████| 250000/250000 [02:16<00:00, 1836.62it/s]\n",
      "  0%|          | 192/250000 [00:00<02:10, 1918.30it/s]"
     ]
    },
    {
     "name": "stdout",
     "output_type": "stream",
     "text": [
      "9 6\n"
     ]
    },
    {
     "name": "stderr",
     "output_type": "stream",
     "text": [
      "100%|██████████| 250000/250000 [02:17<00:00, 1824.78it/s]\n",
      "  0%|          | 185/250000 [00:00<02:15, 1845.24it/s]"
     ]
    },
    {
     "name": "stdout",
     "output_type": "stream",
     "text": [
      "9 7\n"
     ]
    },
    {
     "name": "stderr",
     "output_type": "stream",
     "text": [
      "100%|██████████| 250000/250000 [02:07<00:00, 1959.87it/s]\n",
      "  0%|          | 199/250000 [00:00<02:05, 1988.15it/s]"
     ]
    },
    {
     "name": "stdout",
     "output_type": "stream",
     "text": [
      "9 8\n"
     ]
    },
    {
     "name": "stderr",
     "output_type": "stream",
     "text": [
      "100%|██████████| 250000/250000 [02:12<00:00, 1892.31it/s]\n",
      "  0%|          | 177/250000 [00:00<02:21, 1760.35it/s]"
     ]
    },
    {
     "name": "stdout",
     "output_type": "stream",
     "text": [
      "9 9\n"
     ]
    },
    {
     "name": "stderr",
     "output_type": "stream",
     "text": [
      "100%|██████████| 250000/250000 [02:15<00:00, 1846.81it/s]\n",
      "  0%|          | 168/250000 [00:00<02:29, 1670.25it/s]"
     ]
    },
    {
     "name": "stdout",
     "output_type": "stream",
     "text": [
      "9 10\n"
     ]
    },
    {
     "name": "stderr",
     "output_type": "stream",
     "text": [
      "100%|██████████| 250000/250000 [02:11<00:00, 1898.30it/s]\n",
      "  0%|          | 213/250000 [00:00<01:57, 2127.79it/s]"
     ]
    },
    {
     "name": "stdout",
     "output_type": "stream",
     "text": [
      "10 0\n"
     ]
    },
    {
     "name": "stderr",
     "output_type": "stream",
     "text": [
      "100%|██████████| 250000/250000 [02:07<00:00, 1954.50it/s]\n",
      "  0%|          | 220/250000 [00:00<01:53, 2197.35it/s]"
     ]
    },
    {
     "name": "stdout",
     "output_type": "stream",
     "text": [
      "10 1\n"
     ]
    },
    {
     "name": "stderr",
     "output_type": "stream",
     "text": [
      "100%|██████████| 250000/250000 [02:00<00:00, 2071.22it/s]\n",
      "  0%|          | 209/250000 [00:00<01:59, 2085.92it/s]"
     ]
    },
    {
     "name": "stdout",
     "output_type": "stream",
     "text": [
      "10 2\n"
     ]
    },
    {
     "name": "stderr",
     "output_type": "stream",
     "text": [
      "100%|██████████| 250000/250000 [02:02<00:00, 2042.74it/s]\n",
      "  0%|          | 132/250000 [00:00<03:09, 1319.01it/s]"
     ]
    },
    {
     "name": "stdout",
     "output_type": "stream",
     "text": [
      "10 3\n"
     ]
    },
    {
     "name": "stderr",
     "output_type": "stream",
     "text": [
      "100%|██████████| 250000/250000 [02:09<00:00, 1936.05it/s]\n",
      "  0%|          | 201/250000 [00:00<02:04, 2007.09it/s]"
     ]
    },
    {
     "name": "stdout",
     "output_type": "stream",
     "text": [
      "10 4\n"
     ]
    },
    {
     "name": "stderr",
     "output_type": "stream",
     "text": [
      "100%|██████████| 250000/250000 [02:04<00:00, 2013.76it/s]\n",
      "  0%|          | 203/250000 [00:00<02:03, 2025.99it/s]"
     ]
    },
    {
     "name": "stdout",
     "output_type": "stream",
     "text": [
      "10 5\n"
     ]
    },
    {
     "name": "stderr",
     "output_type": "stream",
     "text": [
      "100%|██████████| 250000/250000 [02:03<00:00, 2021.48it/s]\n",
      "  0%|          | 199/250000 [00:00<02:05, 1989.72it/s]"
     ]
    },
    {
     "name": "stdout",
     "output_type": "stream",
     "text": [
      "10 6\n"
     ]
    },
    {
     "name": "stderr",
     "output_type": "stream",
     "text": [
      "100%|██████████| 250000/250000 [02:08<00:00, 1946.78it/s]\n",
      "  0%|          | 197/250000 [00:00<02:07, 1961.70it/s]"
     ]
    },
    {
     "name": "stdout",
     "output_type": "stream",
     "text": [
      "10 7\n"
     ]
    },
    {
     "name": "stderr",
     "output_type": "stream",
     "text": [
      "100%|██████████| 250000/250000 [02:09<00:00, 1935.29it/s]\n",
      "  0%|          | 189/250000 [00:00<02:12, 1882.96it/s]"
     ]
    },
    {
     "name": "stdout",
     "output_type": "stream",
     "text": [
      "10 8\n"
     ]
    },
    {
     "name": "stderr",
     "output_type": "stream",
     "text": [
      "100%|██████████| 250000/250000 [02:07<00:00, 1955.79it/s]\n",
      "  0%|          | 186/250000 [00:00<02:14, 1859.66it/s]"
     ]
    },
    {
     "name": "stdout",
     "output_type": "stream",
     "text": [
      "10 9\n"
     ]
    },
    {
     "name": "stderr",
     "output_type": "stream",
     "text": [
      "100%|██████████| 250000/250000 [02:09<00:00, 1931.41it/s]\n",
      "  0%|          | 194/250000 [00:00<02:09, 1934.41it/s]"
     ]
    },
    {
     "name": "stdout",
     "output_type": "stream",
     "text": [
      "10 10\n"
     ]
    },
    {
     "name": "stderr",
     "output_type": "stream",
     "text": [
      "100%|██████████| 250000/250000 [02:07<00:00, 1959.50it/s]\n"
     ]
    }
   ],
   "source": [
    "# Initiation data\n",
    "gip3x_range = [0, 0.1, 0.2, 0.3, 0.4, 0.5, 0.6, 0.7, 0.8, 0.9, 1.0]\n",
    "gip3y_range = [0, 0.5, 1.0, 1.5, 2.0, 2.5, 3.0, 3.5, 4.0, 4.5, 5.0]\n",
    "calcium = np.zeros((len(gip3x_range), \n",
    "                    len(gip3y_range), \n",
    "                    numx * numy * int(T/dt/save_interval)))\n",
    "\n",
    "# Construct layer\n",
    "smc = SMC(T=T, dt=dt, k_ipr=0.2, s0=100, k_deg=0.05)\n",
    "layer = Layer(smc, \n",
    "              numx=numx, \n",
    "              numy=numy, \n",
    "              gip3x=0.0, \n",
    "              gip3y=0.0, \n",
    "              gcx=1000, \n",
    "              gcy=1000,\n",
    "              save_interval=save_interval)\n",
    "layer.set_stim_pattern(\"slow\", xmin=13, xmax=17, ymin=0, ymax=4,\n",
    "                          stim_times=[0])\n",
    "\n",
    "# Tuning parameters\n",
    "for i, gip3x in enumerate(gip3x_range):\n",
    "    for j, gip3y in enumerate(gip3y_range):\n",
    "        \n",
    "        layer._gip3x = gip3x\n",
    "        layer._gip3y = gip3y\n",
    "        layer._set_conn_mat()\n",
    "        \n",
    "        print(i, j)\n",
    "        \n",
    "        sol = layer.run()\n",
    "        calcium[i, j] = sol.reshape(-1)"
   ]
  },
  {
   "cell_type": "code",
   "execution_count": 9,
   "metadata": {},
   "outputs": [],
   "source": [
    "calcium = calcium.reshape(len(gip3x_range), len(gip3y_range), int(T/dt/save_interval), numx, numy)"
   ]
  },
  {
   "cell_type": "code",
   "execution_count": 10,
   "metadata": {},
   "outputs": [],
   "source": [
    "import pickle\n",
    "with open('../results/data/calcium.pickle', 'wb') as handle:\n",
    "    pickle.dump(calcium, handle, protocol=pickle.HIGHEST_PROTOCOL)"
   ]
  },
  {
   "cell_type": "code",
   "execution_count": 268,
   "metadata": {},
   "outputs": [],
   "source": [
    "ranges_slow_x = np.zeros((len(gip3x_range), len(gip3y_range)))\n",
    "ranges_slow_y = np.zeros((len(gip3x_range), len(gip3y_range)))\n",
    "\n",
    "for i in range(len(gip3x_range)):\n",
    "    for j in range(len(gip3y_range)):\n",
    "        range_x, range_y = calc_prop_range(calcium[i, j], thres=0.1)\n",
    "        ranges_slow_x[i, j], ranges_slow_y[i, j] = range_x, range_y"
   ]
  },
  {
   "cell_type": "code",
   "execution_count": 272,
   "metadata": {},
   "outputs": [
    {
     "data": {
      "image/png": "[encoded data removed]",
      "text/plain": [
       "<Figure size 1080x360 with 4 Axes>"
      ]
     },
     "metadata": {
      "needs_background": "light"
     },
     "output_type": "display_data"
    }
   ],
   "source": [
    "fig = plt.figure(figsize=(15,5))\n",
    "ax1 = fig.add_subplot(121)\n",
    "im1 = ax1.imshow(ranges_slow_y)\n",
    "ax1.set_xticks(range(0, 11))\n",
    "ax1.set_xticklabels(gip3y_range, rotation=45)\n",
    "ax1.set_yticks(range(0, 11))\n",
    "ax1.set_yticklabels(gip3x_range)\n",
    "ax1.set_xlabel('gip3_y')\n",
    "ax1.set_ylabel('gip3_x')\n",
    "fig.colorbar(im1, ax=ax1, fraction=0.045)\n",
    "ax1.set_title('Max wavefront index (longitudinal) ')\n",
    "\n",
    "ax2 = fig.add_subplot(122)\n",
    "im2 = ax2.imshow(ranges_slow_x)\n",
    "ax2.set_xticks(range(0, 11))\n",
    "ax2.set_xticklabels(gip3y_range, rotation=45)\n",
    "ax2.set_yticks(range(0, 11))\n",
    "ax2.set_yticklabels(gip3x_range)\n",
    "ax2.set_xlabel('gip3_y')\n",
    "ax2.set_ylabel('gip3_x')\n",
    "fig.colorbar(im2, ax=ax2, fraction=0.045)\n",
    "ax2.set_title('Max wavefront index (circular) ')\n",
    "plt.savefig('../results/figures/max_range_slow.pdf', bbox_inches='tight')\n",
    "plt.show()"
   ]
  },
  {
   "cell_type": "code",
   "execution_count": null,
   "metadata": {},
   "outputs": [],
   "source": []
  }
 ],
 "metadata": {
  "kernelspec": {
   "display_name": "Python 3",
   "language": "python",
   "name": "python3"
  },
  "language_info": {
   "codemirror_mode": {
    "name": "ipython",
    "version": 3
   },
   "file_extension": ".py",
   "mimetype": "text/x-python",
   "name": "python",
   "nbconvert_exporter": "python",
   "pygments_lexer": "ipython3",
   "version": "3.8.5"
  }
 },
 "nbformat": 4,
 "nbformat_minor": 4
}
