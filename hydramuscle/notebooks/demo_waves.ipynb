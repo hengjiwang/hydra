{
 "cells": [
  {
   "cell_type": "code",
   "execution_count": 1,
   "metadata": {},
   "outputs": [],
   "source": [
    "%load_ext autoreload\n",
    "%autoreload 2\n",
    "\n",
    "import numpy as np\n",
    "import pandas as pd\n",
    "import matplotlib.pyplot as plt\n",
    "import matplotlib.gridspec as gridspec"
   ]
  },
  {
   "cell_type": "code",
   "execution_count": 2,
   "metadata": {},
   "outputs": [],
   "source": [
    "FILENAME = \"2021-03-11-22-53-47-563167\" # Bending wave\n",
    "calcium_bend = pd.read_hdf(\"../results/data/calcium/\" + FILENAME + \".h5\")\n",
    "calcium_bend = calcium_bend.values.reshape(len(calcium_bend), 30, 60)\n",
    "calcium_bend = calcium_bend[:, :30, :]"
   ]
  },
  {
   "cell_type": "code",
   "execution_count": 3,
   "metadata": {},
   "outputs": [
    {
     "data": {
      "text/plain": [
       "(50, 30, 60)"
      ]
     },
     "execution_count": 3,
     "metadata": {},
     "output_type": "execute_result"
    }
   ],
   "source": [
    "calcium_bend.shape"
   ]
  },
  {
   "cell_type": "code",
   "execution_count": 4,
   "metadata": {},
   "outputs": [],
   "source": [
    "FILENAME = \"2021-03-11-22-49-32-444128\" # Fast wave\n",
    "calcium_fast = pd.read_hdf(\"../results/data/calcium/\" + FILENAME + \".h5\")\n",
    "calcium_fast = calcium_fast.values.reshape(len(calcium_fast), 30, 60)\n",
    "# calcium_fast = calcium_fast[:, :30, :]"
   ]
  },
  {
   "cell_type": "code",
   "execution_count": 5,
   "metadata": {},
   "outputs": [
    {
     "data": {
      "text/plain": [
       "(100, 30, 60)"
      ]
     },
     "execution_count": 5,
     "metadata": {},
     "output_type": "execute_result"
    }
   ],
   "source": [
    "calcium_fast.shape"
   ]
  },
  {
   "cell_type": "code",
   "execution_count": 6,
   "metadata": {},
   "outputs": [],
   "source": [
    "FILENAME = \"2021-03-11-23-29-33-337792\" # Body column wave\n",
    "calcium_body = pd.read_hdf(\"../results/data/calcium/\" + FILENAME + \".h5\")\n",
    "calcium_body = calcium_body.values.reshape(len(calcium_body), 30, 60)\n",
    "calcium_body = calcium_body[:, :30, :]"
   ]
  },
  {
   "cell_type": "code",
   "execution_count": 7,
   "metadata": {},
   "outputs": [
    {
     "data": {
      "text/plain": [
       "(50, 30, 60)"
      ]
     },
     "execution_count": 7,
     "metadata": {},
     "output_type": "execute_result"
    }
   ],
   "source": [
    "calcium_body.shape"
   ]
  },
  {
   "cell_type": "code",
   "execution_count": 48,
   "metadata": {},
   "outputs": [
    {
     "data": {
      "image/png": "[encoded data removed]",
      "text/plain": [
       "<Figure size 504x756 with 13 Axes>"
      ]
     },
     "metadata": {
      "needs_background": "light"
     },
     "output_type": "display_data"
    }
   ],
   "source": [
    "fig = plt.figure(figsize=(7, 10.5))\n",
    "\n",
    "# Add axes\n",
    "gs = gridspec.GridSpec(3, 1, height_ratios=[1, 1, 1])\n",
    "gs.update(hspace=0.1)\n",
    "gs0 = gridspec.GridSpecFromSubplotSpec(1, 4, subplot_spec=gs[0], wspace=.001)\n",
    "gs1 = gridspec.GridSpecFromSubplotSpec(1, 4, subplot_spec=gs[1], wspace=.001) #, hspace=0.3)\n",
    "gs2 = gridspec.GridSpecFromSubplotSpec(1, 4, subplot_spec=gs[2], wspace=.001) #, hspace=0.3)\n",
    "\n",
    "axs0 = []\n",
    "axs1 = []\n",
    "axs2 = []\n",
    "\n",
    "axs_all = [axs0, axs1, axs2]\n",
    "gs_all = [gs0, gs1, gs2]\n",
    "times_fast = [0.02, 0.05, 0.08, 0.1]\n",
    "times_bend = [1, 5, 25, 40]\n",
    "times_body = [1, 5, 10, 20]\n",
    "chars = ['A', 'B', 'C']\n",
    "\n",
    "for j in range(4):\n",
    "    for k in range(0, 3):\n",
    "        ax = plt.subplot(gs_all[k][0, j])\n",
    "        axs_all[k].append(ax)\n",
    "        if k == 0:\n",
    "            data = calcium_body\n",
    "            times = times_body\n",
    "            dt = 1\n",
    "        elif k == 1:\n",
    "            data = calcium_bend\n",
    "            times = times_bend\n",
    "            dt = 1\n",
    "        else:\n",
    "            data = calcium_fast\n",
    "            times = times_fast\n",
    "            dt = 0.01\n",
    "            \n",
    "        # Plot the frame\n",
    "        im = ax.imshow(np.flip(data[int(times[j]/dt)].T, 0), cmap='hot', vmin=0, vmax=1)\n",
    "        if k == 2:\n",
    "            ax.text(2, 5, str(int((times[j])*1000)) + 'ms', color='white', fontsize=15)\n",
    "        elif k == 0:\n",
    "            ax.text(2, 5, str(int(times[j])) + 's', color='white', fontsize=15)\n",
    "        else:\n",
    "            ax.text(2, 5, str(int(times[j])) + 's', color='white', fontsize=15)\n",
    "            \n",
    "#         if j == 0:\n",
    "#             ax.text(-0.3, 1.07, chars[k], size=30, weight=\"bold\", transform=ax.transAxes)\n",
    "        \n",
    "        ax.set_xticks([])\n",
    "        ax.set_yticks([])\n",
    "#         ax.patch.set_edgecolor('g')  \n",
    "        ax.patch.set_alpha(1)\n",
    "#         ax.patch.set_linewidth('15')\n",
    "        \n",
    "#         ax.set_xticks([])\n",
    "#         ax.set_yticks([])\n",
    "\n",
    "position = fig.add_axes([0.92, 0.125, 0.02, 0.755])\n",
    "cb = plt.colorbar(im, cax=position, orientation='vertical')\n",
    "cb.set_label('[Ca$^{2+}$]($\\mu$M)', fontsize=15)\n",
    "cb.ax.tick_params(labelsize=15)\n",
    "# cb.set_label('[Ca$^{2+}$](uM)')\n",
    "\n",
    "plt.savefig('../results/figures/waves.png', bbox_inches='tight')\n",
    "plt.show()"
   ]
  },
  {
   "cell_type": "code",
   "execution_count": null,
   "metadata": {},
   "outputs": [],
   "source": []
  }
 ],
 "metadata": {
  "kernelspec": {
   "display_name": "Python 3",
   "language": "python",
   "name": "python3"
  },
  "language_info": {
   "codemirror_mode": {
    "name": "ipython",
    "version": 3
   },
   "file_extension": ".py",
   "mimetype": "text/x-python",
   "name": "python",
   "nbconvert_exporter": "python",
   "pygments_lexer": "ipython3",
   "version": "3.7.6"
  }
 },
 "nbformat": 4,
 "nbformat_minor": 4
}
