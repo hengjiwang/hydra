{
 "cells": [
  {
   "cell_type": "code",
   "execution_count": 1,
   "metadata": {},
   "outputs": [],
   "source": [
    "%load_ext autoreload\n",
    "%autoreload 2"
   ]
  },
  {
   "cell_type": "code",
   "execution_count": 11,
   "metadata": {},
   "outputs": [],
   "source": [
    "import numpy as np\n",
    "import matplotlib.pyplot as plt\n",
    "from tqdm import tqdm\n",
    "from cv2 import cv2\n",
    "from hydramuscle.reduced_model.reduced_fast_cell import ReducedFastCell\n",
    "from hydramuscle.reduced_model.reduced_layer import ReducedLayer"
   ]
  },
  {
   "cell_type": "code",
   "execution_count": 3,
   "metadata": {},
   "outputs": [],
   "source": [
    "layer = ReducedLayer()\n",
    "stim_times = {0 : {(15, 30)}}"
   ]
  },
  {
   "cell_type": "code",
   "execution_count": 4,
   "metadata": {},
   "outputs": [],
   "source": [
    "T = 2\n",
    "dt = 0.001"
   ]
  },
  {
   "cell_type": "code",
   "execution_count": 5,
   "metadata": {},
   "outputs": [
    {
     "name": "stderr",
     "output_type": "stream",
     "text": [
      "100%|██████████| 2000/2000 [00:10<00:00, 186.86it/s]\n"
     ]
    }
   ],
   "source": [
    "for t in tqdm(np.arange(0, T, dt)):\n",
    "    \n",
    "    if t in stim_times:\n",
    "        layer.step(stim_times[t])\n",
    "    else:\n",
    "        layer.step()"
   ]
  },
  {
   "cell_type": "code",
   "execution_count": 6,
   "metadata": {},
   "outputs": [],
   "source": [
    "numx, numy = layer.layer.shape"
   ]
  },
  {
   "cell_type": "code",
   "execution_count": 7,
   "metadata": {},
   "outputs": [
    {
     "data": {
      "image/png": "[encoded data removed]",
      "text/plain": [
       "<Figure size 432x288 with 1 Axes>"
      ]
     },
     "metadata": {
      "needs_background": "light"
     },
     "output_type": "display_data"
    }
   ],
   "source": [
    "plt.figure()\n",
    "for x in range(numx):\n",
    "    for y in range(numy):\n",
    "        plt.plot(layer.layer[x,y].v_train)\n",
    "plt.show()"
   ]
  },
  {
   "cell_type": "code",
   "execution_count": 8,
   "metadata": {},
   "outputs": [],
   "source": [
    "# Create data tensor\n",
    "ca = [[None]*numy for _ in range(numx)]\n",
    "v = [[None]*numy for _ in range(numx)]\n",
    "\n",
    "for x in range(numx):\n",
    "    for y in range(numy):\n",
    "        ca[x][y] = layer.layer[x,y].c_train\n",
    "        v[x][y] = layer.layer[x,y].v_train\n",
    "        \n",
    "ca = np.moveaxis(np.array(ca), 2, 0)\n",
    "v = np.moveaxis(np.array(v), 2, 0)"
   ]
  },
  {
   "cell_type": "code",
   "execution_count": 23,
   "metadata": {},
   "outputs": [],
   "source": [
    "# Save frames\n",
    "dpi=100\n",
    "save_interval = 10\n",
    "for i, t in enumerate(np.arange(0, T, dt * save_interval)):\n",
    "    frame = ca[i]\n",
    "    plt.clf()\n",
    "    plt.imshow(np.flip(frame.T, 0),\n",
    "               vmin=0,\n",
    "               vmax=1)\n",
    "    plt.text(1, 5, str(round(t,2)) + 's', color='white', size=15, fontweight='bold')\n",
    "    plt.colorbar()\n",
    "    plt.gca().xaxis.set_major_locator(plt.NullLocator())\n",
    "    plt.gca().yaxis.set_major_locator(plt.NullLocator())\n",
    "\n",
    "    plt.savefig('../../results/video/frames/img' + str(i) + '.jpg', dpi=dpi, bbox_inches='tight')\n",
    "    plt.close()"
   ]
  },
  {
   "cell_type": "code",
   "execution_count": 24,
   "metadata": {},
   "outputs": [],
   "source": [
    "# Save video\n",
    "fps = 20\n",
    "\n",
    "fourcc = cv2.VideoWriter_fourcc(*'MJPG')\n",
    "videoWriter = cv2.VideoWriter('../../results/video/reduced_fast/ca_binary.avi', fourcc, fps, (246, 336))\n",
    "\n",
    "for iframe in range(len(ca)):\n",
    "    frame = cv2.imread('../../results/video/frames/img' + str(iframe) + '.jpg')\n",
    "    videoWriter.write(frame)\n",
    "videoWriter.release()\n",
    "cv2.destroyAllWindows()"
   ]
  },
  {
   "cell_type": "code",
   "execution_count": null,
   "metadata": {},
   "outputs": [],
   "source": []
  }
 ],
 "metadata": {
  "kernelspec": {
   "display_name": "Python 3",
   "language": "python",
   "name": "python3"
  },
  "language_info": {
   "codemirror_mode": {
    "name": "ipython",
    "version": 3
   },
   "file_extension": ".py",
   "mimetype": "text/x-python",
   "name": "python",
   "nbconvert_exporter": "python",
   "pygments_lexer": "ipython3",
   "version": "3.8.5"
  }
 },
 "nbformat": 4,
 "nbformat_minor": 4
}
