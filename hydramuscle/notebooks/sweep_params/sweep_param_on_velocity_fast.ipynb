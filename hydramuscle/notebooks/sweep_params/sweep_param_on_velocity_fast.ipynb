{
 "cells": [
  {
   "cell_type": "code",
   "execution_count": 1,
   "metadata": {},
   "outputs": [],
   "source": [
    "%load_ext autoreload\n",
    "%autoreload 2"
   ]
  },
  {
   "cell_type": "code",
   "execution_count": 2,
   "metadata": {},
   "outputs": [],
   "source": [
    "import sys\n",
    "sys.path.append('../..')"
   ]
  },
  {
   "cell_type": "code",
   "execution_count": 3,
   "metadata": {},
   "outputs": [],
   "source": [
    "import numpy as np\n",
    "import matplotlib.pyplot as plt\n",
    "from mpl_toolkits import mplot3d\n",
    "from hydramuscle.model.smc import SMC\n",
    "from hydramuscle.model.layer import Layer"
   ]
  },
  {
   "cell_type": "code",
   "execution_count": 4,
   "metadata": {},
   "outputs": [],
   "source": [
    "numx = 30\n",
    "numy = 60"
   ]
  },
  {
   "cell_type": "code",
   "execution_count": 5,
   "metadata": {},
   "outputs": [],
   "source": [
    "T = 2\n",
    "dt = 0.0001\n",
    "save_interval=10\n",
    "smc = SMC(T=T, dt=dt, k_ipr=0.2, s0=100, k_deg=0.05)"
   ]
  },
  {
   "cell_type": "code",
   "execution_count": 6,
   "metadata": {},
   "outputs": [],
   "source": [
    "g_ca_list = np.arange(0.0001, 0.0011, 0.0001)\n",
    "g_k_list = np.arange(0.0005, 0.0055, 0.0005)"
   ]
  },
  {
   "cell_type": "code",
   "execution_count": 7,
   "metadata": {
    "scrolled": true
   },
   "outputs": [
    {
     "name": "stderr",
     "output_type": "stream",
     "text": [
      "  1%|▏         | 273/20000 [00:00<00:07, 2727.41it/s]"
     ]
    },
    {
     "name": "stdout",
     "output_type": "stream",
     "text": [
      "1/10\n"
     ]
    },
    {
     "name": "stderr",
     "output_type": "stream",
     "text": [
      "100%|██████████| 20000/20000 [00:06<00:00, 2898.89it/s]\n",
      "100%|██████████| 20000/20000 [00:06<00:00, 2868.67it/s]\n",
      "100%|██████████| 20000/20000 [00:07<00:00, 2853.79it/s]\n",
      "100%|██████████| 20000/20000 [00:07<00:00, 2841.44it/s]\n",
      "100%|██████████| 20000/20000 [00:06<00:00, 2867.30it/s]\n",
      "100%|██████████| 20000/20000 [00:06<00:00, 2879.69it/s]\n",
      "100%|██████████| 20000/20000 [00:06<00:00, 2863.88it/s]\n",
      "100%|██████████| 20000/20000 [00:06<00:00, 2881.90it/s]\n",
      "100%|██████████| 20000/20000 [00:06<00:00, 2886.36it/s]\n",
      "100%|██████████| 20000/20000 [00:06<00:00, 2899.51it/s]\n",
      "  1%|▏         | 289/20000 [00:00<00:06, 2880.44it/s]"
     ]
    },
    {
     "name": "stdout",
     "output_type": "stream",
     "text": [
      "2/10\n"
     ]
    },
    {
     "name": "stderr",
     "output_type": "stream",
     "text": [
      "100%|██████████| 20000/20000 [00:07<00:00, 2840.48it/s]\n",
      "100%|██████████| 20000/20000 [00:07<00:00, 2802.82it/s]\n",
      "100%|██████████| 20000/20000 [00:07<00:00, 2831.19it/s]\n",
      "100%|██████████| 20000/20000 [00:06<00:00, 2871.71it/s]\n",
      "100%|██████████| 20000/20000 [00:06<00:00, 2861.15it/s]\n",
      "100%|██████████| 20000/20000 [00:07<00:00, 2840.21it/s]\n",
      "100%|██████████| 20000/20000 [00:06<00:00, 2859.38it/s]\n",
      "100%|██████████| 20000/20000 [00:06<00:00, 2870.71it/s]\n",
      "100%|██████████| 20000/20000 [00:07<00:00, 2820.39it/s]\n",
      "100%|██████████| 20000/20000 [00:06<00:00, 2864.68it/s]\n",
      "  1%|▏         | 283/20000 [00:00<00:06, 2822.88it/s]"
     ]
    },
    {
     "name": "stdout",
     "output_type": "stream",
     "text": [
      "3/10\n"
     ]
    },
    {
     "name": "stderr",
     "output_type": "stream",
     "text": [
      "100%|██████████| 20000/20000 [00:06<00:00, 2864.58it/s]\n",
      "100%|██████████| 20000/20000 [00:06<00:00, 2871.40it/s]\n",
      "100%|██████████| 20000/20000 [00:07<00:00, 2839.50it/s]\n",
      "100%|██████████| 20000/20000 [00:06<00:00, 2858.10it/s]\n",
      "100%|██████████| 20000/20000 [00:07<00:00, 2852.47it/s]\n",
      "100%|██████████| 20000/20000 [00:07<00:00, 2849.17it/s]\n",
      "100%|██████████| 20000/20000 [00:07<00:00, 2840.24it/s]\n",
      "100%|██████████| 20000/20000 [00:07<00:00, 2833.53it/s]\n",
      "100%|██████████| 20000/20000 [00:07<00:00, 2845.53it/s]\n",
      "100%|██████████| 20000/20000 [00:07<00:00, 2849.69it/s]\n",
      "  1%|▏         | 285/20000 [00:00<00:06, 2846.46it/s]"
     ]
    },
    {
     "name": "stdout",
     "output_type": "stream",
     "text": [
      "4/10\n"
     ]
    },
    {
     "name": "stderr",
     "output_type": "stream",
     "text": [
      "100%|██████████| 20000/20000 [00:06<00:00, 2869.78it/s]\n",
      "100%|██████████| 20000/20000 [00:06<00:00, 2882.12it/s]\n",
      "100%|██████████| 20000/20000 [00:07<00:00, 2848.23it/s]\n",
      "100%|██████████| 20000/20000 [00:07<00:00, 2844.69it/s]\n",
      "100%|██████████| 20000/20000 [00:06<00:00, 2865.72it/s]\n",
      "100%|██████████| 20000/20000 [00:06<00:00, 2891.54it/s]\n",
      "100%|██████████| 20000/20000 [00:06<00:00, 2872.84it/s]\n",
      "100%|██████████| 20000/20000 [00:06<00:00, 2918.72it/s]\n",
      "100%|██████████| 20000/20000 [00:06<00:00, 2906.65it/s]\n",
      "100%|██████████| 20000/20000 [00:06<00:00, 2910.48it/s]\n",
      "  1%|▏         | 290/20000 [00:00<00:06, 2899.31it/s]"
     ]
    },
    {
     "name": "stdout",
     "output_type": "stream",
     "text": [
      "5/10\n"
     ]
    },
    {
     "name": "stderr",
     "output_type": "stream",
     "text": [
      "100%|██████████| 20000/20000 [00:06<00:00, 2925.66it/s]\n",
      "100%|██████████| 20000/20000 [00:06<00:00, 2947.66it/s]\n",
      "100%|██████████| 20000/20000 [00:06<00:00, 2943.51it/s]\n",
      "100%|██████████| 20000/20000 [00:06<00:00, 2930.28it/s]\n",
      "100%|██████████| 20000/20000 [00:06<00:00, 2947.67it/s]\n",
      "100%|██████████| 20000/20000 [00:06<00:00, 2940.78it/s]\n",
      "100%|██████████| 20000/20000 [00:06<00:00, 2910.71it/s]\n",
      "100%|██████████| 20000/20000 [00:06<00:00, 2938.49it/s]\n",
      "100%|██████████| 20000/20000 [00:06<00:00, 2894.22it/s]\n",
      "100%|██████████| 20000/20000 [00:06<00:00, 2944.61it/s]\n",
      "  1%|▏         | 288/20000 [00:00<00:06, 2878.07it/s]"
     ]
    },
    {
     "name": "stdout",
     "output_type": "stream",
     "text": [
      "6/10\n"
     ]
    },
    {
     "name": "stderr",
     "output_type": "stream",
     "text": [
      "100%|██████████| 20000/20000 [00:07<00:00, 2827.99it/s]\n",
      "100%|██████████| 20000/20000 [00:06<00:00, 2899.16it/s]\n",
      "100%|██████████| 20000/20000 [00:06<00:00, 2905.30it/s]\n",
      "100%|██████████| 20000/20000 [00:06<00:00, 2932.40it/s]\n",
      "100%|██████████| 20000/20000 [00:06<00:00, 2941.46it/s]\n",
      "100%|██████████| 20000/20000 [00:06<00:00, 2872.50it/s]\n",
      "100%|██████████| 20000/20000 [00:07<00:00, 2819.73it/s]\n",
      "100%|██████████| 20000/20000 [00:06<00:00, 2916.22it/s]\n",
      "100%|██████████| 20000/20000 [00:06<00:00, 2892.33it/s]\n",
      "100%|██████████| 20000/20000 [00:06<00:00, 2878.24it/s]\n",
      "  1%|▏         | 290/20000 [00:00<00:06, 2898.86it/s]"
     ]
    },
    {
     "name": "stdout",
     "output_type": "stream",
     "text": [
      "7/10\n"
     ]
    },
    {
     "name": "stderr",
     "output_type": "stream",
     "text": [
      "100%|██████████| 20000/20000 [00:06<00:00, 2920.61it/s]\n",
      "100%|██████████| 20000/20000 [00:06<00:00, 2943.49it/s]\n",
      "100%|██████████| 20000/20000 [00:06<00:00, 2943.43it/s]\n",
      "100%|██████████| 20000/20000 [00:06<00:00, 2916.55it/s]\n",
      "100%|██████████| 20000/20000 [00:06<00:00, 2904.00it/s]\n",
      "100%|██████████| 20000/20000 [00:07<00:00, 2851.04it/s]\n",
      "100%|██████████| 20000/20000 [00:06<00:00, 2866.05it/s]\n",
      "100%|██████████| 20000/20000 [00:07<00:00, 2791.86it/s]\n",
      "100%|██████████| 20000/20000 [00:06<00:00, 2862.45it/s]\n",
      "100%|██████████| 20000/20000 [00:06<00:00, 2913.50it/s]\n",
      "  1%|▏         | 287/20000 [00:00<00:06, 2864.01it/s]"
     ]
    },
    {
     "name": "stdout",
     "output_type": "stream",
     "text": [
      "8/10\n"
     ]
    },
    {
     "name": "stderr",
     "output_type": "stream",
     "text": [
      "100%|██████████| 20000/20000 [00:06<00:00, 2903.82it/s]\n",
      "100%|██████████| 20000/20000 [00:06<00:00, 2900.66it/s]\n",
      "100%|██████████| 20000/20000 [00:07<00:00, 2855.62it/s]\n",
      "100%|██████████| 20000/20000 [00:06<00:00, 2878.99it/s]\n",
      "100%|██████████| 20000/20000 [00:07<00:00, 2801.70it/s]\n",
      "100%|██████████| 20000/20000 [00:07<00:00, 2842.44it/s]\n",
      "100%|██████████| 20000/20000 [00:07<00:00, 2818.51it/s]\n",
      "100%|██████████| 20000/20000 [00:07<00:00, 2814.50it/s]\n",
      "100%|██████████| 20000/20000 [00:07<00:00, 2846.35it/s]\n",
      "100%|██████████| 20000/20000 [00:07<00:00, 2828.12it/s]\n",
      "  1%|▏         | 282/20000 [00:00<00:06, 2817.44it/s]"
     ]
    },
    {
     "name": "stdout",
     "output_type": "stream",
     "text": [
      "9/10\n"
     ]
    },
    {
     "name": "stderr",
     "output_type": "stream",
     "text": [
      "100%|██████████| 20000/20000 [00:07<00:00, 2820.19it/s]\n",
      "100%|██████████| 20000/20000 [00:07<00:00, 2727.17it/s]\n",
      "100%|██████████| 20000/20000 [00:07<00:00, 2832.34it/s]\n",
      "100%|██████████| 20000/20000 [00:07<00:00, 2829.21it/s]\n",
      "100%|██████████| 20000/20000 [00:07<00:00, 2663.30it/s]\n",
      "100%|██████████| 20000/20000 [00:06<00:00, 2911.41it/s]\n",
      "100%|██████████| 20000/20000 [00:07<00:00, 2843.35it/s]\n",
      "100%|██████████| 20000/20000 [00:06<00:00, 2863.02it/s]\n",
      "100%|██████████| 20000/20000 [00:07<00:00, 2625.98it/s]\n",
      "100%|██████████| 20000/20000 [00:07<00:00, 2564.48it/s]\n",
      "  1%|▏         | 282/20000 [00:00<00:06, 2817.52it/s]"
     ]
    },
    {
     "name": "stdout",
     "output_type": "stream",
     "text": [
      "10/10\n"
     ]
    },
    {
     "name": "stderr",
     "output_type": "stream",
     "text": [
      "100%|██████████| 20000/20000 [00:07<00:00, 2737.06it/s]\n",
      "100%|██████████| 20000/20000 [00:07<00:00, 2621.82it/s]\n",
      "100%|██████████| 20000/20000 [00:07<00:00, 2711.35it/s]\n",
      "100%|██████████| 20000/20000 [00:07<00:00, 2820.87it/s]\n",
      "100%|██████████| 20000/20000 [00:07<00:00, 2821.98it/s]\n",
      "100%|██████████| 20000/20000 [00:07<00:00, 2848.27it/s]\n",
      "100%|██████████| 20000/20000 [00:07<00:00, 2855.80it/s]\n",
      "100%|██████████| 20000/20000 [00:06<00:00, 2859.90it/s]\n",
      "100%|██████████| 20000/20000 [00:07<00:00, 2813.71it/s]\n",
      "100%|██████████| 20000/20000 [00:07<00:00, 2818.12it/s]\n"
     ]
    }
   ],
   "source": [
    "ca_2d_list = []\n",
    "\n",
    "for i, g_ca in enumerate(g_ca_list):\n",
    "    \n",
    "    ca_list = []\n",
    "    print(str(i + 1) + '/' + str(len(g_ca_list)))\n",
    "    \n",
    "    for j, g_k in enumerate(g_k_list):\n",
    "        \n",
    "        smc._g_ca = g_ca\n",
    "        smc._g_k = g_k\n",
    "\n",
    "        layer = Layer(smc, \n",
    "                      numx=numx, \n",
    "                      numy=numy, \n",
    "                      gip3x=0.1, \n",
    "                      gip3y=2.0, \n",
    "                      gcx=1000, \n",
    "                      gcy=1000,\n",
    "                      save_interval=save_interval)\n",
    "\n",
    "        layer.set_stim_pattern(pathway='fast',\n",
    "                               xmin=14, xmax=16, ymin=29, ymax=31,\n",
    "                               stim_times=[0])\n",
    "\n",
    "        sol = layer.run(save_all=True)\n",
    "\n",
    "        # Extract calcium data\n",
    "        calcium = sol[:, :numx * numy].reshape(-1, numx, numy)\n",
    "        ca_list.append(calcium)\n",
    "        \n",
    "    ca_2d_list.append(ca_list)"
   ]
  },
  {
   "cell_type": "code",
   "execution_count": 15,
   "metadata": {},
   "outputs": [
    {
     "name": "stderr",
     "output_type": "stream",
     "text": [
      "/home/hengji/anaconda3/lib/python3.7/site-packages/ipykernel_launcher.py:17: RuntimeWarning: invalid value encountered in double_scalars\n"
     ]
    }
   ],
   "source": [
    "# Calculate the velocity for each calcium data\n",
    "\n",
    "speed_2d_list = np.zeros((len(ca_2d_list), len(ca_2d_list[0])))\n",
    "threshold = 0.055\n",
    "\n",
    "for i, ca_list in enumerate(ca_2d_list):\n",
    "    for j, calcium in enumerate(ca_list):\n",
    "        ca_lon_half = calcium[:, numx//2, numy//2:]\n",
    "        # Calculate velocity\n",
    "        wavefronts = []\n",
    "        for t in np.arange(0, 2, 0.001):\n",
    "            concentrs = ca_lon_half[int(t / 0.001)]\n",
    "            for k in range(numy // 2 - 1, -1, -1):\n",
    "                if concentrs[k] > threshold:\n",
    "                    break\n",
    "            wavefronts.append(k) \n",
    "        speed = max(wavefronts) / ( np.argmax(wavefronts) * dt * save_interval * 1000 )\n",
    "        speed_2d_list[i, j] = speed if not np.isnan(speed) else 0"
   ]
  },
  {
   "cell_type": "code",
   "execution_count": 16,
   "metadata": {},
   "outputs": [
    {
     "data": {
      "text/plain": [
       "array([[0.        , 0.        , 0.        , 0.        , 0.        ,\n",
       "        0.        , 0.        , 0.        , 0.        , 0.        ],\n",
       "       [0.11111111, 0.09090909, 0.06666667, 0.1       , 0.1       ,\n",
       "        0.1       , 0.1       , 0.09090909, 0.09090909, 0.09090909],\n",
       "       [0.11627907, 0.12121212, 0.06779661, 0.13043478, 0.10714286,\n",
       "        0.075     , 0.15384615, 0.14285714, 0.13333333, 0.125     ],\n",
       "       [0.74358974, 0.4084507 , 0.07638889, 0.1147541 , 0.08823529,\n",
       "        0.11111111, 0.14814815, 0.12121212, 0.16666667, 0.15789474],\n",
       "       [1.61111111, 1.38095238, 1.11538462, 0.725     , 0.49152542,\n",
       "        0.13541667, 0.12676056, 0.14893617, 0.15      , 0.17241379],\n",
       "       [2.23076923, 2.07142857, 1.93333333, 1.8125    , 1.45      ,\n",
       "        1.03571429, 0.64444444, 0.53703704, 0.49152542, 0.18181818],\n",
       "       [2.63636364, 2.63636364, 2.63636364, 2.41666667, 2.23076923,\n",
       "        2.07142857, 1.93333333, 1.61111111, 1.16      , 0.65909091],\n",
       "       [3.22222222, 3.22222222, 2.9       , 2.9       , 2.9       ,\n",
       "        2.9       , 2.63636364, 2.41666667, 2.23076923, 1.93333333],\n",
       "       [3.625     , 3.625     , 3.22222222, 3.22222222, 3.22222222,\n",
       "        3.22222222, 3.22222222, 3.22222222, 2.9       , 2.9       ],\n",
       "       [3.625     , 3.625     , 3.625     , 3.625     , 3.625     ,\n",
       "        3.625     , 3.625     , 3.625     , 3.625     , 3.625     ]])"
      ]
     },
     "execution_count": 16,
     "metadata": {},
     "output_type": "execute_result"
    }
   ],
   "source": [
    "speed_2d_list"
   ]
  },
  {
   "cell_type": "code",
   "execution_count": 18,
   "metadata": {},
   "outputs": [
    {
     "data": {
      "image/png": "[encoded data removed]",
      "text/plain": [
       "<Figure size 432x288 with 2 Axes>"
      ]
     },
     "metadata": {
      "needs_background": "light"
     },
     "output_type": "display_data"
    }
   ],
   "source": [
    "# Plot imshow\n",
    "\n",
    "plt.figure()\n",
    "plt.imshow(speed_2d_list)\n",
    "plt.xticks(range(10), np.round(g_k_list, 4), rotation=45)\n",
    "plt.yticks(range(10), np.round(g_ca_list, 4))\n",
    "plt.xlabel('g$_\\mathrm{K}$')\n",
    "plt.ylabel('g$_\\mathrm{Ca}$')\n",
    "cbar = plt.colorbar()\n",
    "# cbar.set_label('speed (cell/ms)')\n",
    "plt.title('Propagation speed (longitudinal)')\n",
    "plt.savefig('../../results/figures/gca-gk.pdf', bbox_inches='tight')\n",
    "plt.show()"
   ]
  },
  {
   "cell_type": "code",
   "execution_count": 19,
   "metadata": {},
   "outputs": [
    {
     "data": {
      "image/png": "[encoded data removed]",
      "text/plain": [
       "<Figure size 1000x600 with 2 Axes>"
      ]
     },
     "metadata": {
      "needs_background": "light"
     },
     "output_type": "display_data"
    }
   ],
   "source": [
    "# Plot surface\n",
    "\n",
    "fig = plt.figure(figsize=(10,6), dpi=100)\n",
    "ax = plt.axes(projection='3d')\n",
    "X = np.outer(np.array(g_ca_list), np.ones(len(g_k_list)))\n",
    "Y = np.outer(np.ones(len(g_ca_list)), g_k_list)\n",
    "surf = ax.plot_surface(X, Y, speed_2d_list, cmap='hot', antialiased=False)\n",
    "ax.set_xlabel('g$_{Ca}$')\n",
    "ax.set_ylabel('g$_K$')\n",
    "ax.set_zlabel('speed (cell / ms)')\n",
    "ax.view_init(20, 210)\n",
    "cbar = fig.colorbar(surf)\n",
    "cbar.set_label('speed (cell/ms)')\n",
    "# plt.savefig('../../results/figures/gca-gk-surface.pdf', bbox_inches='tight')\n",
    "plt.show()"
   ]
  },
  {
   "cell_type": "code",
   "execution_count": 11,
   "metadata": {},
   "outputs": [
    {
     "ename": "TypeError",
     "evalue": "list indices must be integers or slices, not tuple",
     "output_type": "error",
     "traceback": [
      "\u001b[0;31m---------------------------------------------------------------------------\u001b[0m",
      "\u001b[0;31mTypeError\u001b[0m                                 Traceback (most recent call last)",
      "\u001b[0;32m<ipython-input-11-76d01a8d9396>\u001b[0m in \u001b[0;36m<module>\u001b[0;34m\u001b[0m\n\u001b[1;32m      1\u001b[0m \u001b[0mplt\u001b[0m\u001b[0;34m.\u001b[0m\u001b[0mfigure\u001b[0m\u001b[0;34m(\u001b[0m\u001b[0;34m)\u001b[0m\u001b[0;34m\u001b[0m\u001b[0;34m\u001b[0m\u001b[0m\n\u001b[0;32m----> 2\u001b[0;31m \u001b[0mplt\u001b[0m\u001b[0;34m.\u001b[0m\u001b[0mplot\u001b[0m\u001b[0;34m(\u001b[0m\u001b[0mca_2d_list\u001b[0m\u001b[0;34m[\u001b[0m\u001b[0;36m9\u001b[0m\u001b[0;34m,\u001b[0m \u001b[0;36m0\u001b[0m\u001b[0;34m,\u001b[0m \u001b[0;34m:\u001b[0m\u001b[0;36m250\u001b[0m\u001b[0;34m,\u001b[0m \u001b[0mnumx\u001b[0m\u001b[0;34m//\u001b[0m\u001b[0;36m2\u001b[0m\u001b[0;34m,\u001b[0m \u001b[0mnumy\u001b[0m\u001b[0;34m//\u001b[0m\u001b[0;36m2\u001b[0m\u001b[0;34m]\u001b[0m\u001b[0;34m)\u001b[0m\u001b[0;34m\u001b[0m\u001b[0;34m\u001b[0m\u001b[0m\n\u001b[0m\u001b[1;32m      3\u001b[0m \u001b[0mplt\u001b[0m\u001b[0;34m.\u001b[0m\u001b[0mplot\u001b[0m\u001b[0;34m(\u001b[0m\u001b[0mca_2d_list\u001b[0m\u001b[0;34m[\u001b[0m\u001b[0;36m9\u001b[0m\u001b[0;34m,\u001b[0m \u001b[0;36m9\u001b[0m\u001b[0;34m,\u001b[0m \u001b[0;34m:\u001b[0m\u001b[0;36m250\u001b[0m\u001b[0;34m,\u001b[0m \u001b[0mnumx\u001b[0m\u001b[0;34m//\u001b[0m\u001b[0;36m2\u001b[0m\u001b[0;34m,\u001b[0m \u001b[0mnumy\u001b[0m\u001b[0;34m//\u001b[0m\u001b[0;36m2\u001b[0m\u001b[0;34m]\u001b[0m\u001b[0;34m)\u001b[0m\u001b[0;34m\u001b[0m\u001b[0;34m\u001b[0m\u001b[0m\n\u001b[1;32m      4\u001b[0m \u001b[0mplt\u001b[0m\u001b[0;34m.\u001b[0m\u001b[0mshow\u001b[0m\u001b[0;34m(\u001b[0m\u001b[0;34m)\u001b[0m\u001b[0;34m\u001b[0m\u001b[0;34m\u001b[0m\u001b[0m\n",
      "\u001b[0;31mTypeError\u001b[0m: list indices must be integers or slices, not tuple"
     ]
    },
    {
     "data": {
      "text/plain": [
       "<Figure size 432x288 with 0 Axes>"
      ]
     },
     "metadata": {},
     "output_type": "display_data"
    }
   ],
   "source": [
    "plt.figure()\n",
    "plt.plot(ca_2d_list[9, 0, :250, numx//2, numy//2])\n",
    "plt.plot(ca_2d_list[9, 9, :250, numx//2, numy//2])\n",
    "plt.show()"
   ]
  },
  {
   "cell_type": "code",
   "execution_count": 17,
   "metadata": {},
   "outputs": [
    {
     "ename": "TypeError",
     "evalue": "list indices must be integers or slices, not tuple",
     "output_type": "error",
     "traceback": [
      "\u001b[0;31m---------------------------------------------------------------------------\u001b[0m",
      "\u001b[0;31mTypeError\u001b[0m                                 Traceback (most recent call last)",
      "\u001b[0;32m<ipython-input-17-e27215b79868>\u001b[0m in \u001b[0;36m<module>\u001b[0;34m\u001b[0m\n\u001b[1;32m      1\u001b[0m \u001b[0mplt\u001b[0m\u001b[0;34m.\u001b[0m\u001b[0mfigure\u001b[0m\u001b[0;34m(\u001b[0m\u001b[0;34m)\u001b[0m\u001b[0;34m\u001b[0m\u001b[0;34m\u001b[0m\u001b[0m\n\u001b[0;32m----> 2\u001b[0;31m \u001b[0mplt\u001b[0m\u001b[0;34m.\u001b[0m\u001b[0mplot\u001b[0m\u001b[0;34m(\u001b[0m\u001b[0mca_2d_list\u001b[0m\u001b[0;34m[\u001b[0m\u001b[0;36m9\u001b[0m\u001b[0;34m,\u001b[0m \u001b[0;36m0\u001b[0m\u001b[0;34m,\u001b[0m \u001b[0;34m:\u001b[0m\u001b[0;36m250\u001b[0m\u001b[0;34m,\u001b[0m \u001b[0mnumx\u001b[0m\u001b[0;34m//\u001b[0m\u001b[0;36m2\u001b[0m\u001b[0;34m,\u001b[0m \u001b[0mnumy\u001b[0m\u001b[0;34m-\u001b[0m\u001b[0;36m1\u001b[0m\u001b[0;34m]\u001b[0m\u001b[0;34m)\u001b[0m\u001b[0;34m\u001b[0m\u001b[0;34m\u001b[0m\u001b[0m\n\u001b[0m\u001b[1;32m      3\u001b[0m \u001b[0mplt\u001b[0m\u001b[0;34m.\u001b[0m\u001b[0mplot\u001b[0m\u001b[0;34m(\u001b[0m\u001b[0mca_2d_list\u001b[0m\u001b[0;34m[\u001b[0m\u001b[0;36m9\u001b[0m\u001b[0;34m,\u001b[0m \u001b[0;36m9\u001b[0m\u001b[0;34m,\u001b[0m \u001b[0;34m:\u001b[0m\u001b[0;36m250\u001b[0m\u001b[0;34m,\u001b[0m \u001b[0mnumx\u001b[0m\u001b[0;34m//\u001b[0m\u001b[0;36m2\u001b[0m\u001b[0;34m,\u001b[0m \u001b[0mnumy\u001b[0m\u001b[0;34m-\u001b[0m\u001b[0;36m1\u001b[0m\u001b[0;34m]\u001b[0m\u001b[0;34m)\u001b[0m\u001b[0;34m\u001b[0m\u001b[0;34m\u001b[0m\u001b[0m\n\u001b[1;32m      4\u001b[0m \u001b[0mplt\u001b[0m\u001b[0;34m.\u001b[0m\u001b[0mshow\u001b[0m\u001b[0;34m(\u001b[0m\u001b[0;34m)\u001b[0m\u001b[0;34m\u001b[0m\u001b[0;34m\u001b[0m\u001b[0m\n",
      "\u001b[0;31mTypeError\u001b[0m: list indices must be integers or slices, not tuple"
     ]
    },
    {
     "data": {
      "text/plain": [
       "<Figure size 432x288 with 0 Axes>"
      ]
     },
     "metadata": {},
     "output_type": "display_data"
    }
   ],
   "source": [
    "plt.figure()\n",
    "plt.plot(ca_2d_list[9, 0, :250, numx//2, numy-1])\n",
    "plt.plot(ca_2d_list[9, 9, :250, numx//2, numy-1])\n",
    "plt.show()"
   ]
  },
  {
   "cell_type": "code",
   "execution_count": 18,
   "metadata": {},
   "outputs": [
    {
     "data": {
      "text/plain": [
       "0.00011061076182094129"
      ]
     },
     "execution_count": 18,
     "metadata": {},
     "output_type": "execute_result"
    }
   ],
   "source": [
    "smc._g_ca = 0.001\n",
    "smc._g_k = 0.0005\n",
    "smc.init_fast_cell()\n",
    "smc._g_bk"
   ]
  },
  {
   "cell_type": "code",
   "execution_count": 19,
   "metadata": {},
   "outputs": [
    {
     "data": {
      "text/plain": [
       "7.263445949819388e-05"
      ]
     },
     "execution_count": 19,
     "metadata": {},
     "output_type": "execute_result"
    }
   ],
   "source": [
    "smc._g_ca = 0.001\n",
    "smc._g_k = 0.005\n",
    "smc.init_fast_cell()\n",
    "smc._g_bk"
   ]
  },
  {
   "cell_type": "code",
   "execution_count": null,
   "metadata": {},
   "outputs": [],
   "source": []
  }
 ],
 "metadata": {
  "kernelspec": {
   "display_name": "Python 3",
   "language": "python",
   "name": "python3"
  },
  "language_info": {
   "codemirror_mode": {
    "name": "ipython",
    "version": 3
   },
   "file_extension": ".py",
   "mimetype": "text/x-python",
   "name": "python",
   "nbconvert_exporter": "python",
   "pygments_lexer": "ipython3",
   "version": "3.7.6"
  }
 },
 "nbformat": 4,
 "nbformat_minor": 4
}
