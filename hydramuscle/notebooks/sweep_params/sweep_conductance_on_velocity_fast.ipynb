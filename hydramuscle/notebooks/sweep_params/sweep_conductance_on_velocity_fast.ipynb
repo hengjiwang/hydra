{
 "cells": [
  {
   "cell_type": "code",
   "execution_count": 1,
   "metadata": {},
   "outputs": [],
   "source": [
    "%load_ext autoreload\n",
    "%autoreload 2"
   ]
  },
  {
   "cell_type": "code",
   "execution_count": 2,
   "metadata": {},
   "outputs": [],
   "source": [
    "import sys\n",
    "sys.path.append('../..')"
   ]
  },
  {
   "cell_type": "code",
   "execution_count": 3,
   "metadata": {},
   "outputs": [],
   "source": [
    "import numpy as np\n",
    "import matplotlib.pyplot as plt\n",
    "from mpl_toolkits import mplot3d\n",
    "from hydramuscle.model.smc import SMC\n",
    "from hydramuscle.model.layer import Layer"
   ]
  },
  {
   "cell_type": "code",
   "execution_count": 4,
   "metadata": {},
   "outputs": [],
   "source": [
    "numx = 30\n",
    "numy = 60"
   ]
  },
  {
   "cell_type": "code",
   "execution_count": 5,
   "metadata": {},
   "outputs": [],
   "source": [
    "T = 2\n",
    "dt = 0.0001\n",
    "save_interval=10\n",
    "smc = SMC(T=T, dt=dt, k_ipr=0.2, s0=100, k_deg=0.05)"
   ]
  },
  {
   "cell_type": "code",
   "execution_count": 6,
   "metadata": {},
   "outputs": [],
   "source": [
    "g_ca_list = np.arange(0.0001, 0.0011, 0.0001)\n",
    "g_k_list = np.arange(0.0005, 0.0055, 0.0005)"
   ]
  },
  {
   "cell_type": "code",
   "execution_count": 7,
   "metadata": {
    "scrolled": true
   },
   "outputs": [
    {
     "name": "stderr",
     "output_type": "stream",
     "text": [
      "  0%|          | 0/20000 [00:00<?, ?it/s]"
     ]
    },
    {
     "name": "stdout",
     "output_type": "stream",
     "text": [
      "1/10\n"
     ]
    },
    {
     "name": "stderr",
     "output_type": "stream",
     "text": [
      "100%|██████████| 20000/20000 [00:07<00:00, 2852.66it/s]\n",
      "100%|██████████| 20000/20000 [00:07<00:00, 2843.11it/s]\n",
      "100%|██████████| 20000/20000 [00:06<00:00, 2875.71it/s]\n",
      "100%|██████████| 20000/20000 [00:06<00:00, 2892.63it/s]\n",
      "100%|██████████| 20000/20000 [00:06<00:00, 2880.23it/s]\n",
      "100%|██████████| 20000/20000 [00:06<00:00, 2905.65it/s]\n",
      "100%|██████████| 20000/20000 [00:06<00:00, 2864.71it/s]\n",
      "100%|██████████| 20000/20000 [00:06<00:00, 2889.80it/s]\n",
      "100%|██████████| 20000/20000 [00:06<00:00, 2886.49it/s]\n",
      "100%|██████████| 20000/20000 [00:06<00:00, 2862.32it/s]\n",
      "  1%|▏         | 270/20000 [00:00<00:07, 2690.98it/s]"
     ]
    },
    {
     "name": "stdout",
     "output_type": "stream",
     "text": [
      "2/10\n"
     ]
    },
    {
     "name": "stderr",
     "output_type": "stream",
     "text": [
      "100%|██████████| 20000/20000 [00:07<00:00, 2844.60it/s]\n",
      "100%|██████████| 20000/20000 [00:06<00:00, 2872.39it/s]\n",
      "100%|██████████| 20000/20000 [00:07<00:00, 2856.22it/s]\n",
      "100%|██████████| 20000/20000 [00:06<00:00, 2872.87it/s]\n",
      "100%|██████████| 20000/20000 [00:07<00:00, 2833.51it/s]\n",
      "100%|██████████| 20000/20000 [00:07<00:00, 2835.91it/s]\n",
      "100%|██████████| 20000/20000 [00:07<00:00, 2835.51it/s]\n",
      "100%|██████████| 20000/20000 [00:07<00:00, 2837.25it/s]\n",
      "100%|██████████| 20000/20000 [00:07<00:00, 2832.15it/s]\n",
      "100%|██████████| 20000/20000 [00:07<00:00, 2827.19it/s]\n",
      "  1%|▏         | 281/20000 [00:00<00:07, 2801.06it/s]"
     ]
    },
    {
     "name": "stdout",
     "output_type": "stream",
     "text": [
      "3/10\n"
     ]
    },
    {
     "name": "stderr",
     "output_type": "stream",
     "text": [
      "100%|██████████| 20000/20000 [00:07<00:00, 2847.89it/s]\n",
      "100%|██████████| 20000/20000 [00:06<00:00, 2868.51it/s]\n",
      "100%|██████████| 20000/20000 [00:06<00:00, 2862.49it/s]\n",
      "100%|██████████| 20000/20000 [00:06<00:00, 2868.39it/s]\n",
      "100%|██████████| 20000/20000 [00:07<00:00, 2856.90it/s]\n",
      "100%|██████████| 20000/20000 [00:06<00:00, 2858.89it/s]\n",
      "100%|██████████| 20000/20000 [00:07<00:00, 2789.09it/s]\n",
      "100%|██████████| 20000/20000 [00:07<00:00, 2823.27it/s]\n",
      "100%|██████████| 20000/20000 [00:07<00:00, 2780.64it/s]\n",
      "100%|██████████| 20000/20000 [00:07<00:00, 2814.85it/s]\n",
      "  1%|▏         | 274/20000 [00:00<00:07, 2733.50it/s]"
     ]
    },
    {
     "name": "stdout",
     "output_type": "stream",
     "text": [
      "4/10\n"
     ]
    },
    {
     "name": "stderr",
     "output_type": "stream",
     "text": [
      "100%|██████████| 20000/20000 [00:07<00:00, 2851.67it/s]\n",
      "100%|██████████| 20000/20000 [00:07<00:00, 2856.42it/s]\n",
      "100%|██████████| 20000/20000 [00:06<00:00, 2869.61it/s]\n",
      "100%|██████████| 20000/20000 [00:06<00:00, 2882.19it/s]\n",
      "100%|██████████| 20000/20000 [00:06<00:00, 2900.94it/s]\n",
      "100%|██████████| 20000/20000 [00:06<00:00, 2919.19it/s]\n",
      "100%|██████████| 20000/20000 [00:06<00:00, 2907.57it/s]\n",
      "100%|██████████| 20000/20000 [00:06<00:00, 2881.22it/s]\n",
      "100%|██████████| 20000/20000 [00:06<00:00, 2874.55it/s]\n",
      "100%|██████████| 20000/20000 [00:06<00:00, 2881.42it/s]\n",
      "  1%|▏         | 290/20000 [00:00<00:06, 2894.22it/s]"
     ]
    },
    {
     "name": "stdout",
     "output_type": "stream",
     "text": [
      "5/10\n"
     ]
    },
    {
     "name": "stderr",
     "output_type": "stream",
     "text": [
      "100%|██████████| 20000/20000 [00:06<00:00, 2884.44it/s]\n",
      "100%|██████████| 20000/20000 [00:06<00:00, 2887.24it/s]\n",
      "100%|██████████| 20000/20000 [00:06<00:00, 2908.96it/s]\n",
      "100%|██████████| 20000/20000 [00:06<00:00, 2904.13it/s]\n",
      "100%|██████████| 20000/20000 [00:06<00:00, 2892.20it/s]\n",
      "100%|██████████| 20000/20000 [00:07<00:00, 2836.78it/s]\n",
      "100%|██████████| 20000/20000 [00:07<00:00, 2855.00it/s]\n",
      "100%|██████████| 20000/20000 [00:07<00:00, 2823.86it/s]\n",
      "100%|██████████| 20000/20000 [00:07<00:00, 2770.35it/s]\n",
      "100%|██████████| 20000/20000 [00:07<00:00, 2790.37it/s]\n",
      "  1%|▏         | 281/20000 [00:00<00:07, 2808.72it/s]"
     ]
    },
    {
     "name": "stdout",
     "output_type": "stream",
     "text": [
      "6/10\n"
     ]
    },
    {
     "name": "stderr",
     "output_type": "stream",
     "text": [
      "100%|██████████| 20000/20000 [00:07<00:00, 2832.36it/s]\n",
      "100%|██████████| 20000/20000 [00:07<00:00, 2786.60it/s]\n",
      "100%|██████████| 20000/20000 [00:07<00:00, 2805.34it/s]\n",
      "100%|██████████| 20000/20000 [00:06<00:00, 2865.13it/s]\n",
      "100%|██████████| 20000/20000 [00:06<00:00, 2875.80it/s]\n",
      "100%|██████████| 20000/20000 [00:07<00:00, 2833.85it/s]\n",
      "100%|██████████| 20000/20000 [00:07<00:00, 2832.51it/s]\n",
      "100%|██████████| 20000/20000 [00:07<00:00, 2843.99it/s]\n",
      "100%|██████████| 20000/20000 [00:07<00:00, 2851.82it/s]\n",
      "100%|██████████| 20000/20000 [00:07<00:00, 2855.48it/s]\n",
      "  1%|▏         | 281/20000 [00:00<00:07, 2805.48it/s]"
     ]
    },
    {
     "name": "stdout",
     "output_type": "stream",
     "text": [
      "7/10\n"
     ]
    },
    {
     "name": "stderr",
     "output_type": "stream",
     "text": [
      "100%|██████████| 20000/20000 [00:07<00:00, 2795.06it/s]\n",
      "100%|██████████| 20000/20000 [00:07<00:00, 2813.89it/s]\n",
      "100%|██████████| 20000/20000 [00:07<00:00, 2835.72it/s]\n",
      "100%|██████████| 20000/20000 [00:07<00:00, 2849.42it/s]\n",
      "100%|██████████| 20000/20000 [00:07<00:00, 2787.89it/s]\n",
      "100%|██████████| 20000/20000 [00:07<00:00, 2807.57it/s]\n",
      "100%|██████████| 20000/20000 [00:07<00:00, 2784.68it/s]\n",
      "100%|██████████| 20000/20000 [00:07<00:00, 2795.25it/s]\n",
      "100%|██████████| 20000/20000 [00:07<00:00, 2818.46it/s]\n",
      "100%|██████████| 20000/20000 [00:07<00:00, 2789.96it/s]\n",
      "  1%|▏         | 280/20000 [00:00<00:07, 2798.62it/s]"
     ]
    },
    {
     "name": "stdout",
     "output_type": "stream",
     "text": [
      "8/10\n"
     ]
    },
    {
     "name": "stderr",
     "output_type": "stream",
     "text": [
      "100%|██████████| 20000/20000 [00:07<00:00, 2817.33it/s]\n",
      "100%|██████████| 20000/20000 [00:07<00:00, 2834.26it/s]\n",
      "100%|██████████| 20000/20000 [00:07<00:00, 2842.66it/s]\n",
      "100%|██████████| 20000/20000 [00:07<00:00, 2838.92it/s]\n",
      "100%|██████████| 20000/20000 [00:07<00:00, 2801.29it/s]\n",
      "100%|██████████| 20000/20000 [00:07<00:00, 2786.78it/s]\n",
      "100%|██████████| 20000/20000 [00:07<00:00, 2798.60it/s]\n",
      "100%|██████████| 20000/20000 [00:06<00:00, 2900.39it/s]\n",
      "100%|██████████| 20000/20000 [00:06<00:00, 2954.42it/s]\n",
      "100%|██████████| 20000/20000 [00:06<00:00, 2959.39it/s]\n",
      "  1%|▏         | 295/20000 [00:00<00:06, 2948.87it/s]"
     ]
    },
    {
     "name": "stdout",
     "output_type": "stream",
     "text": [
      "9/10\n"
     ]
    },
    {
     "name": "stderr",
     "output_type": "stream",
     "text": [
      "100%|██████████| 20000/20000 [00:06<00:00, 2963.51it/s]\n",
      "100%|██████████| 20000/20000 [00:06<00:00, 2942.24it/s]\n",
      "100%|██████████| 20000/20000 [00:06<00:00, 2941.29it/s]\n",
      "100%|██████████| 20000/20000 [00:06<00:00, 2941.90it/s]\n",
      "100%|██████████| 20000/20000 [00:06<00:00, 2978.01it/s]\n",
      "100%|██████████| 20000/20000 [00:07<00:00, 2803.18it/s]\n",
      "100%|██████████| 20000/20000 [00:06<00:00, 2893.41it/s]\n",
      "100%|██████████| 20000/20000 [00:06<00:00, 2919.93it/s]\n",
      "100%|██████████| 20000/20000 [00:06<00:00, 2951.58it/s]\n",
      "100%|██████████| 20000/20000 [00:06<00:00, 2923.54it/s]\n",
      "  1%|▏         | 295/20000 [00:00<00:06, 2948.62it/s]"
     ]
    },
    {
     "name": "stdout",
     "output_type": "stream",
     "text": [
      "10/10\n"
     ]
    },
    {
     "name": "stderr",
     "output_type": "stream",
     "text": [
      "100%|██████████| 20000/20000 [00:06<00:00, 2906.18it/s]\n",
      "100%|██████████| 20000/20000 [00:06<00:00, 2973.30it/s]\n",
      "100%|██████████| 20000/20000 [00:06<00:00, 2981.58it/s]\n",
      "100%|██████████| 20000/20000 [00:06<00:00, 2928.78it/s]\n",
      "100%|██████████| 20000/20000 [00:06<00:00, 2915.13it/s]\n",
      "100%|██████████| 20000/20000 [00:06<00:00, 2926.75it/s]\n",
      "100%|██████████| 20000/20000 [00:06<00:00, 2953.24it/s]\n",
      "100%|██████████| 20000/20000 [00:07<00:00, 2842.55it/s]\n",
      "100%|██████████| 20000/20000 [00:06<00:00, 2919.34it/s]\n",
      "100%|██████████| 20000/20000 [00:06<00:00, 2943.63it/s]\n"
     ]
    }
   ],
   "source": [
    "ca_2d_list = []\n",
    "\n",
    "for i, g_ca in enumerate(g_ca_list):\n",
    "    \n",
    "    ca_list = []\n",
    "    print(str(i + 1) + '/' + str(len(g_ca_list)))\n",
    "    \n",
    "    for j, g_k in enumerate(g_k_list):\n",
    "        \n",
    "        smc._g_ca = g_ca\n",
    "        smc._g_k = g_k\n",
    "\n",
    "        layer = Layer(smc, \n",
    "                      numx=numx, \n",
    "                      numy=numy, \n",
    "                      gip3x=0.1, \n",
    "                      gip3y=2.0, \n",
    "                      gcx=1000, \n",
    "                      gcy=1000,\n",
    "                      save_interval=save_interval)\n",
    "\n",
    "        layer.set_stim_pattern(pathway='fast',\n",
    "                               xmin=14, xmax=16, ymin=29, ymax=31,\n",
    "                               stim_times=[0])\n",
    "\n",
    "        sol = layer.run(save_all=True)\n",
    "\n",
    "        # Extract calcium data\n",
    "        calcium = sol[:, :numx * numy].reshape(-1, numx, numy)\n",
    "        ca_list.append(calcium)\n",
    "        \n",
    "    ca_2d_list.append(ca_list)"
   ]
  },
  {
   "cell_type": "code",
   "execution_count": 8,
   "metadata": {},
   "outputs": [],
   "source": [
    "# Calculate the velocity for each calcium data\n",
    "\n",
    "speed_2d_list = np.zeros((len(ca_2d_list), len(ca_2d_list[0])))\n",
    "threshold = 0.055\n",
    "\n",
    "for i, ca_list in enumerate(ca_2d_list):\n",
    "    for j, calcium in enumerate(ca_list):\n",
    "        ca_lon_half = calcium[:, numx//2, numy//2:]\n",
    "        # Calculate velocity\n",
    "        wavefronts = []\n",
    "        for t in np.arange(0, 2, 0.001):\n",
    "            concentrs = ca_lon_half[int(t / 0.001)]\n",
    "            for k in range(numy // 2 - 1, -1, -1):\n",
    "                if concentrs[k] > threshold:\n",
    "                    break\n",
    "            wavefronts.append(k) \n",
    "        speed = max(wavefronts) / ( np.argmax(wavefronts) * dt * save_interval * 1000 )\n",
    "        speed_2d_list[i, j] = speed"
   ]
  },
  {
   "cell_type": "code",
   "execution_count": 16,
   "metadata": {},
   "outputs": [
    {
     "data": {
      "image/png": "[encoded data removed]",
      "text/plain": [
       "<Figure size 432x288 with 2 Axes>"
      ]
     },
     "metadata": {
      "needs_background": "light"
     },
     "output_type": "display_data"
    }
   ],
   "source": [
    "# Plot imshow\n",
    "\n",
    "plt.figure()\n",
    "plt.imshow(speed_2d_list)\n",
    "plt.xticks(range(10), np.round(g_k_list, 4), rotation=45)\n",
    "plt.yticks(range(10), np.round(g_ca_list, 4))\n",
    "plt.xlabel('g$_\\mathrm{K}$')\n",
    "plt.ylabel('g$_\\mathrm{Ca}$')\n",
    "cbar = plt.colorbar()\n",
    "# cbar.set_label('speed (cell/ms)')\n",
    "plt.title('Propagation speed (longitudinal)')\n",
    "plt.savefig('../../results/figures/gca-gk.pdf', bbox_inches='tight')\n",
    "plt.show()"
   ]
  },
  {
   "cell_type": "code",
   "execution_count": 15,
   "metadata": {},
   "outputs": [
    {
     "data": {
      "image/png": "[encoded data removed]",
      "text/plain": [
       "<Figure size 1000x600 with 2 Axes>"
      ]
     },
     "metadata": {
      "needs_background": "light"
     },
     "output_type": "display_data"
    }
   ],
   "source": [
    "# Plot surface\n",
    "\n",
    "fig = plt.figure(figsize=(10,6), dpi=100)\n",
    "ax = plt.axes(projection='3d')\n",
    "X = np.outer(np.array(g_ca_list), np.ones(len(g_k_list)))\n",
    "Y = np.outer(np.ones(len(g_ca_list)), g_k_list)\n",
    "surf = ax.plot_surface(X, Y, speed_2d_list, cmap='hot', antialiased=False)\n",
    "ax.set_xlabel('g$_{Ca}$')\n",
    "ax.set_ylabel('g$_K$')\n",
    "ax.set_zlabel('speed (cell / ms)')\n",
    "ax.view_init(20, 210)\n",
    "cbar = fig.colorbar(surf)\n",
    "cbar.set_label('speed (cell/ms)')\n",
    "plt.savefig('../../results/figures/gca-gk-surface.pdf', bbox_inches='tight')\n",
    "plt.show()"
   ]
  },
  {
   "cell_type": "code",
   "execution_count": 11,
   "metadata": {},
   "outputs": [
    {
     "ename": "TypeError",
     "evalue": "list indices must be integers or slices, not tuple",
     "output_type": "error",
     "traceback": [
      "\u001b[0;31m---------------------------------------------------------------------------\u001b[0m",
      "\u001b[0;31mTypeError\u001b[0m                                 Traceback (most recent call last)",
      "\u001b[0;32m<ipython-input-11-76d01a8d9396>\u001b[0m in \u001b[0;36m<module>\u001b[0;34m\u001b[0m\n\u001b[1;32m      1\u001b[0m \u001b[0mplt\u001b[0m\u001b[0;34m.\u001b[0m\u001b[0mfigure\u001b[0m\u001b[0;34m(\u001b[0m\u001b[0;34m)\u001b[0m\u001b[0;34m\u001b[0m\u001b[0;34m\u001b[0m\u001b[0m\n\u001b[0;32m----> 2\u001b[0;31m \u001b[0mplt\u001b[0m\u001b[0;34m.\u001b[0m\u001b[0mplot\u001b[0m\u001b[0;34m(\u001b[0m\u001b[0mca_2d_list\u001b[0m\u001b[0;34m[\u001b[0m\u001b[0;36m9\u001b[0m\u001b[0;34m,\u001b[0m \u001b[0;36m0\u001b[0m\u001b[0;34m,\u001b[0m \u001b[0;34m:\u001b[0m\u001b[0;36m250\u001b[0m\u001b[0;34m,\u001b[0m \u001b[0mnumx\u001b[0m\u001b[0;34m//\u001b[0m\u001b[0;36m2\u001b[0m\u001b[0;34m,\u001b[0m \u001b[0mnumy\u001b[0m\u001b[0;34m//\u001b[0m\u001b[0;36m2\u001b[0m\u001b[0;34m]\u001b[0m\u001b[0;34m)\u001b[0m\u001b[0;34m\u001b[0m\u001b[0;34m\u001b[0m\u001b[0m\n\u001b[0m\u001b[1;32m      3\u001b[0m \u001b[0mplt\u001b[0m\u001b[0;34m.\u001b[0m\u001b[0mplot\u001b[0m\u001b[0;34m(\u001b[0m\u001b[0mca_2d_list\u001b[0m\u001b[0;34m[\u001b[0m\u001b[0;36m9\u001b[0m\u001b[0;34m,\u001b[0m \u001b[0;36m9\u001b[0m\u001b[0;34m,\u001b[0m \u001b[0;34m:\u001b[0m\u001b[0;36m250\u001b[0m\u001b[0;34m,\u001b[0m \u001b[0mnumx\u001b[0m\u001b[0;34m//\u001b[0m\u001b[0;36m2\u001b[0m\u001b[0;34m,\u001b[0m \u001b[0mnumy\u001b[0m\u001b[0;34m//\u001b[0m\u001b[0;36m2\u001b[0m\u001b[0;34m]\u001b[0m\u001b[0;34m)\u001b[0m\u001b[0;34m\u001b[0m\u001b[0;34m\u001b[0m\u001b[0m\n\u001b[1;32m      4\u001b[0m \u001b[0mplt\u001b[0m\u001b[0;34m.\u001b[0m\u001b[0mshow\u001b[0m\u001b[0;34m(\u001b[0m\u001b[0;34m)\u001b[0m\u001b[0;34m\u001b[0m\u001b[0;34m\u001b[0m\u001b[0m\n",
      "\u001b[0;31mTypeError\u001b[0m: list indices must be integers or slices, not tuple"
     ]
    },
    {
     "data": {
      "text/plain": [
       "<Figure size 432x288 with 0 Axes>"
      ]
     },
     "metadata": {},
     "output_type": "display_data"
    }
   ],
   "source": [
    "plt.figure()\n",
    "plt.plot(ca_2d_list[9, 0, :250, numx//2, numy//2])\n",
    "plt.plot(ca_2d_list[9, 9, :250, numx//2, numy//2])\n",
    "plt.show()"
   ]
  },
  {
   "cell_type": "code",
   "execution_count": 17,
   "metadata": {},
   "outputs": [
    {
     "ename": "TypeError",
     "evalue": "list indices must be integers or slices, not tuple",
     "output_type": "error",
     "traceback": [
      "\u001b[0;31m---------------------------------------------------------------------------\u001b[0m",
      "\u001b[0;31mTypeError\u001b[0m                                 Traceback (most recent call last)",
      "\u001b[0;32m<ipython-input-17-e27215b79868>\u001b[0m in \u001b[0;36m<module>\u001b[0;34m\u001b[0m\n\u001b[1;32m      1\u001b[0m \u001b[0mplt\u001b[0m\u001b[0;34m.\u001b[0m\u001b[0mfigure\u001b[0m\u001b[0;34m(\u001b[0m\u001b[0;34m)\u001b[0m\u001b[0;34m\u001b[0m\u001b[0;34m\u001b[0m\u001b[0m\n\u001b[0;32m----> 2\u001b[0;31m \u001b[0mplt\u001b[0m\u001b[0;34m.\u001b[0m\u001b[0mplot\u001b[0m\u001b[0;34m(\u001b[0m\u001b[0mca_2d_list\u001b[0m\u001b[0;34m[\u001b[0m\u001b[0;36m9\u001b[0m\u001b[0;34m,\u001b[0m \u001b[0;36m0\u001b[0m\u001b[0;34m,\u001b[0m \u001b[0;34m:\u001b[0m\u001b[0;36m250\u001b[0m\u001b[0;34m,\u001b[0m \u001b[0mnumx\u001b[0m\u001b[0;34m//\u001b[0m\u001b[0;36m2\u001b[0m\u001b[0;34m,\u001b[0m \u001b[0mnumy\u001b[0m\u001b[0;34m-\u001b[0m\u001b[0;36m1\u001b[0m\u001b[0;34m]\u001b[0m\u001b[0;34m)\u001b[0m\u001b[0;34m\u001b[0m\u001b[0;34m\u001b[0m\u001b[0m\n\u001b[0m\u001b[1;32m      3\u001b[0m \u001b[0mplt\u001b[0m\u001b[0;34m.\u001b[0m\u001b[0mplot\u001b[0m\u001b[0;34m(\u001b[0m\u001b[0mca_2d_list\u001b[0m\u001b[0;34m[\u001b[0m\u001b[0;36m9\u001b[0m\u001b[0;34m,\u001b[0m \u001b[0;36m9\u001b[0m\u001b[0;34m,\u001b[0m \u001b[0;34m:\u001b[0m\u001b[0;36m250\u001b[0m\u001b[0;34m,\u001b[0m \u001b[0mnumx\u001b[0m\u001b[0;34m//\u001b[0m\u001b[0;36m2\u001b[0m\u001b[0;34m,\u001b[0m \u001b[0mnumy\u001b[0m\u001b[0;34m-\u001b[0m\u001b[0;36m1\u001b[0m\u001b[0;34m]\u001b[0m\u001b[0;34m)\u001b[0m\u001b[0;34m\u001b[0m\u001b[0;34m\u001b[0m\u001b[0m\n\u001b[1;32m      4\u001b[0m \u001b[0mplt\u001b[0m\u001b[0;34m.\u001b[0m\u001b[0mshow\u001b[0m\u001b[0;34m(\u001b[0m\u001b[0;34m)\u001b[0m\u001b[0;34m\u001b[0m\u001b[0;34m\u001b[0m\u001b[0m\n",
      "\u001b[0;31mTypeError\u001b[0m: list indices must be integers or slices, not tuple"
     ]
    },
    {
     "data": {
      "text/plain": [
       "<Figure size 432x288 with 0 Axes>"
      ]
     },
     "metadata": {},
     "output_type": "display_data"
    }
   ],
   "source": [
    "plt.figure()\n",
    "plt.plot(ca_2d_list[9, 0, :250, numx//2, numy-1])\n",
    "plt.plot(ca_2d_list[9, 9, :250, numx//2, numy-1])\n",
    "plt.show()"
   ]
  },
  {
   "cell_type": "code",
   "execution_count": 18,
   "metadata": {},
   "outputs": [
    {
     "data": {
      "text/plain": [
       "0.00011061076182094129"
      ]
     },
     "execution_count": 18,
     "metadata": {},
     "output_type": "execute_result"
    }
   ],
   "source": [
    "smc._g_ca = 0.001\n",
    "smc._g_k = 0.0005\n",
    "smc.init_fast_cell()\n",
    "smc._g_bk"
   ]
  },
  {
   "cell_type": "code",
   "execution_count": 19,
   "metadata": {},
   "outputs": [
    {
     "data": {
      "text/plain": [
       "7.263445949819388e-05"
      ]
     },
     "execution_count": 19,
     "metadata": {},
     "output_type": "execute_result"
    }
   ],
   "source": [
    "smc._g_ca = 0.001\n",
    "smc._g_k = 0.005\n",
    "smc.init_fast_cell()\n",
    "smc._g_bk"
   ]
  },
  {
   "cell_type": "code",
   "execution_count": null,
   "metadata": {},
   "outputs": [],
   "source": []
  }
 ],
 "metadata": {
  "kernelspec": {
   "display_name": "Python 3",
   "language": "python",
   "name": "python3"
  },
  "language_info": {
   "codemirror_mode": {
    "name": "ipython",
    "version": 3
   },
   "file_extension": ".py",
   "mimetype": "text/x-python",
   "name": "python",
   "nbconvert_exporter": "python",
   "pygments_lexer": "ipython3",
   "version": "3.7.6"
  }
 },
 "nbformat": 4,
 "nbformat_minor": 4
}
