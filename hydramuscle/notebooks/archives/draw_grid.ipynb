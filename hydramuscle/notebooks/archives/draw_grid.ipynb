{
 "cells": [
  {
   "cell_type": "code",
   "execution_count": 1,
   "metadata": {},
   "outputs": [],
   "source": [
    "import numpy as np\n",
    "import matplotlib\n",
    "import matplotlib.pyplot as plt"
   ]
  },
  {
   "cell_type": "code",
   "execution_count": 45,
   "metadata": {},
   "outputs": [
    {
     "data": {
      "text/plain": [
       "<matplotlib.image.AxesImage at 0x1bbef6bac08>"
      ]
     },
     "execution_count": 45,
     "metadata": {},
     "output_type": "execute_result"
    },
    {
     "data": {
      "image/png": "[encoded data removed]",
      "text/plain": [
       "<Figure size 360x720 with 1 Axes>"
      ]
     },
     "metadata": {
      "needs_background": "light"
     },
     "output_type": "display_data"
    }
   ],
   "source": [
    "N = 30\n",
    "M = 60\n",
    "# make an empty data set\n",
    "data = np.ones((M, N)) * np.nan\n",
    "# fill in some fake data\n",
    "# for j in range(3)[::-1]:\n",
    "#     data[-1, :M] = j\n",
    "data[12:14, 5:7] = 1\n",
    "data[19:21, 16:18] = 1\n",
    "data[10:12, 22:24] = 1\n",
    "data[45:47, 9:11] = 1\n",
    "data[55:57, 5:7] = 1\n",
    "# make a figure + axes\n",
    "fig, ax = plt.subplots(1, 1, tight_layout=True, figsize=(5,10))\n",
    "# make color map\n",
    "my_cmap = matplotlib.colors.ListedColormap(['b', 'g', 'b'])\n",
    "# set the 'bad' values (nan) to be white and transparent\n",
    "my_cmap.set_bad(color='g', alpha=0.4)\n",
    "# draw the grid\n",
    "for x in range(M + 1):\n",
    "    ax.axhline(x, lw=2, color='k', zorder=5)\n",
    "for x in range(N + 1):\n",
    "    ax.axvline(x, lw=2, color='k', zorder=5)\n",
    "# draw the boxes\n",
    "ax.imshow(data, interpolation='none', cmap=my_cmap, extent=[0, N, 0, M], zorder=0)\n",
    "# turn off the axis labels\n",
    "# ax.axis('off')"
   ]
  },
  {
   "cell_type": "code",
   "execution_count": 35,
   "metadata": {},
   "outputs": [
    {
     "data": {
      "text/plain": [
       "(30, 60)"
      ]
     },
     "execution_count": 35,
     "metadata": {},
     "output_type": "execute_result"
    }
   ],
   "source": [
    "data.shape"
   ]
  },
  {
   "cell_type": "code",
   "execution_count": null,
   "metadata": {},
   "outputs": [],
   "source": []
  }
 ],
 "metadata": {
  "kernelspec": {
   "display_name": "Python 3",
   "language": "python",
   "name": "python3"
  },
  "language_info": {
   "codemirror_mode": {
    "name": "ipython",
    "version": 3
   },
   "file_extension": ".py",
   "mimetype": "text/x-python",
   "name": "python",
   "nbconvert_exporter": "python",
   "pygments_lexer": "ipython3",
   "version": "3.7.6"
  }
 },
 "nbformat": 4,
 "nbformat_minor": 4
}
