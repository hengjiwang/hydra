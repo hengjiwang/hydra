{
 "cells": [
  {
   "cell_type": "code",
   "execution_count": 1,
   "metadata": {},
   "outputs": [],
   "source": [
    "import numpy as np\n",
    "import matplotlib.pyplot as plt\n",
    "from scipy.integrate import odeint\n",
    "import pandas as pd\n",
    "import sys, time\n",
    "from tqdm import tqdm"
   ]
  },
  {
   "cell_type": "code",
   "execution_count": 15,
   "metadata": {},
   "outputs": [],
   "source": [
    "def load_data(file):\n",
    "    # Load data\n",
    "    return pd.read_csv(file).values\n",
    "\n",
    "def compress_frame(frame, size_x, size_y, to_size_x, to_size_y):\n",
    "    # Compress the frame by averaging neighboring elements\n",
    "    mat = np.reshape(frame, (size_x, size_y))\n",
    "    new_mat = np.zeros((to_size_x, to_size_y))\n",
    "    win_x = int(size_x/to_size_x)\n",
    "    win_y = int(size_y/to_size_y)\n",
    "    \n",
    "    for i in range(to_size_x):\n",
    "        for j in range(to_size_y):\n",
    "            new_mat[i, j] = np.mean(mat[i*win_x:(i+1)*win_x, j*win_y:(j+1)*win_y])\n",
    "            \n",
    "    return np.reshape(new_mat, (to_size_x*to_size_y))"
   ]
  },
  {
   "cell_type": "code",
   "execution_count": 3,
   "metadata": {},
   "outputs": [],
   "source": [
    "force = load_data('/home/hengji/Documents/hydra_calcium_model/save/data/force/force_200x200_100s_cb.csv')"
   ]
  },
  {
   "cell_type": "code",
   "execution_count": 16,
   "metadata": {},
   "outputs": [],
   "source": [
    "new_force = np.zeros((len(force), 400))\n",
    "\n",
    "for j in range(len(force)):\n",
    "    frame = force[j]\n",
    "    new_force[j,:] = compress_frame(frame, 200, 200, 20, 20)"
   ]
  }
 ],
 "metadata": {
  "kernelspec": {
   "display_name": "Python 3",
   "language": "python",
   "name": "python3"
  },
  "language_info": {
   "codemirror_mode": {
    "name": "ipython",
    "version": 3
   },
   "file_extension": ".py",
   "mimetype": "text/x-python",
   "name": "python",
   "nbconvert_exporter": "python",
   "pygments_lexer": "ipython3",
   "version": "3.6.9"
  }
 },
 "nbformat": 4,
 "nbformat_minor": 2
}
