{
 "cells": [
  {
   "cell_type": "markdown",
   "metadata": {},
   "source": [
    "# Modeling Calcium Dynamics for Myoepithelial Cells in _Hydra_"
   ]
  },
  {
   "cell_type": "code",
   "execution_count": 1,
   "metadata": {
    "ExecuteTime": {
     "end_time": "2019-02-13T06:51:27.106952Z",
     "start_time": "2019-02-13T06:51:26.166742Z"
    }
   },
   "outputs": [],
   "source": [
    "import numpy as np\n",
    "import matplotlib.pyplot as plt\n",
    "import csv\n",
    "from scipy.integrate import odeint"
   ]
  },
  {
   "cell_type": "markdown",
   "metadata": {},
   "source": [
    "## I. Single cellular model -- inexcitable\n",
    "\n",
    "Section I and II introduce simulations of intracellular calcium dynamics. \n",
    "\n",
    "The model in this section has no voltage-dependent channels or processes thus it's inexcitable. "
   ]
  },
  {
   "cell_type": "markdown",
   "metadata": {},
   "source": [
    "### Parameters"
   ]
  },
  {
   "cell_type": "code",
   "execution_count": 83,
   "metadata": {
    "ExecuteTime": {
     "end_time": "2019-02-13T07:51:18.732493Z",
     "start_time": "2019-02-13T07:51:18.724779Z"
    }
   },
   "outputs": [],
   "source": [
    "# Numerical parameters\n",
    "T = 200\n",
    "dt = 0.005\n",
    "TIME = np.linspace(0, T+dt, int(T/dt)+1)\n",
    "\n",
    "# Initial conditions \n",
    "c0 = 0.0865415\n",
    "h0 = 0.6255124\n",
    "ct0 = 36.49084\n",
    "ip0 = 0\n",
    "\n",
    "# Volume ratio\n",
    "gamma=5.4054\n",
    "\n",
    "# Leak for ER\n",
    "v_leak = 0.002\n",
    "\n",
    "# Leak across plasma membrane\n",
    "v_in = 0.05\n",
    "k_out = 1.2\n",
    "\n",
    "# IP3R parameters\n",
    "v_ip3r = 0.222\n",
    "d_1 = 0.13; d_2 = 1.049; d_3 = 0.9434; d_5= 0.08234; \n",
    "a_2 = 0.04\n",
    "\n",
    "# PMCA terms\n",
    "v_pmca = 10\n",
    "k_pmca = 2.5\n",
    "\n",
    "# SOC terms\n",
    "v_soc = 1.57\n",
    "k_soc = 90\n",
    "\n",
    "# SERCA terms\n",
    "v_serca = 0.9\n",
    "k_serca = 0.1\n",
    "\n",
    "# Sneyd Parameter\n",
    "delta = 0.2\n",
    "\n",
    "# IP3 parameters\n",
    "d_rise = 10\n",
    "r_rise = 0.012\n",
    "r_decay = 0.025"
   ]
  },
  {
   "cell_type": "markdown",
   "metadata": {},
   "source": [
    "### Functions\n",
    "\n",
    "In the stable state, the amount of currents through ER and through membrane should separately be zero, which means \n",
    "$$j_{ip_3r} + j_{leak} - j_{serca} = 0$$\n",
    "and \n",
    "$$j_{in} - j_{out} - j_{pmca} + j_{soc} = 0$$"
   ]
  },
  {
   "cell_type": "code",
   "execution_count": 84,
   "metadata": {
    "ExecuteTime": {
     "end_time": "2019-02-13T07:51:19.163465Z",
     "start_time": "2019-02-13T07:51:19.150336Z"
    }
   },
   "outputs": [],
   "source": [
    "# Terms on ER\n",
    "def j_ip3r(c, c_t, h, ip):\n",
    "    '''IP3R current, ER -> cytosol'''\n",
    "    m_inf = ip/(ip+d_1)\n",
    "    n_inf = c/(c+d_5)\n",
    "\n",
    "    return v_ip3r * m_inf**3 * n_inf**3 * h**3 * \\\n",
    "    ((c_t-c)*gamma - c)\n",
    "\n",
    "def j_leak(c, c_t):\n",
    "    '''leak current, ER -> cytosol'''\n",
    "    return v_leak * ((c_t-c)*gamma - c)\n",
    "\n",
    "def j_serca(c):\n",
    "    '''SERCA pump, cytosol -> ER'''\n",
    "    return v_serca* c**1.75 / (c**1.75 + k_serca**1.75)\n",
    "\n",
    "# Terms on membrane\n",
    "def j_in():\n",
    "    '''input current, outside -> cytosol'''\n",
    "    return v_in\n",
    "\n",
    "def j_out(c):\n",
    "    '''output current, cytosol -> outside'''\n",
    "    return k_out * c\n",
    "\n",
    "def j_pmca(c):\n",
    "    '''PMCA pump, cytosol -> outside'''\n",
    "    return v_pmca * c**2 / (k_pmca**2 + c**2)\n",
    "\n",
    "def j_soc(c, c_t):\n",
    "    '''SOCC, outside -> cytosol'''\n",
    "    return v_soc * k_soc**4 / (k_soc**4 + ((c_t-c)*gamma)**4)\n",
    "\n",
    "# Terms for IP3R\n",
    "def h_inf(c, ip):\n",
    "    '''stable IP3 inactivation rate'''\n",
    "    q_2 = d_2 * (ip + d_1)/(ip + d_3)\n",
    "    return q_2 / (q_2 + c)\n",
    "\n",
    "def tau_h(c, ip):\n",
    "    '''time constant for IP3 inactivation rate'''\n",
    "    q_2 = d_2 * (ip + d_1)/(ip + d_3)\n",
    "    return 1 / (a_2 * (q_2 + c))"
   ]
  },
  {
   "cell_type": "markdown",
   "metadata": {},
   "source": [
    "### Stimulation Settings"
   ]
  },
  {
   "cell_type": "markdown",
   "metadata": {},
   "source": [
    "Multiple stimulations are allowed."
   ]
  },
  {
   "cell_type": "code",
   "execution_count": 85,
   "metadata": {
    "ExecuteTime": {
     "end_time": "2019-02-13T07:51:19.773103Z",
     "start_time": "2019-02-13T07:51:19.766680Z"
    }
   },
   "outputs": [],
   "source": [
    "st1 = 20.0\n",
    "st2 = 45.0\n",
    "st3 = 65.0\n",
    "st4 = 80.0\n",
    "\n",
    "def stim(t):\n",
    "    '''returns the stimulation status at time t'''\n",
    "    if t >= st1 and t < st1+d_rise:\n",
    "        return 1\n",
    "    elif t >= st2 and t < st2+d_rise:\n",
    "        return 1\n",
    "    elif t >= st3 and t < st3+d_rise:\n",
    "        return 1\n",
    "    elif t >= st4 and t < st4+d_rise:\n",
    "        return 1\n",
    "    else:\n",
    "        return 0"
   ]
  },
  {
   "cell_type": "markdown",
   "metadata": {},
   "source": [
    "### Simulation"
   ]
  },
  {
   "cell_type": "markdown",
   "metadata": {},
   "source": [
    "Four cellular variables will be integrated:\n",
    "\n",
    "- **c(t)**: cytosolic Ca$^{2+}$ concentration\n",
    "- **c_t(t)**: stores Ca$^{2+}$ concentration\n",
    "- **ip(t)**: cytosolic IP$_3$ concentration\n",
    "- **h(t)**: IP$_3$ inactivation variable"
   ]
  },
  {
   "cell_type": "code",
   "execution_count": 86,
   "metadata": {
    "ExecuteTime": {
     "end_time": "2019-02-13T07:51:20.529839Z",
     "start_time": "2019-02-13T07:51:20.520036Z"
    }
   },
   "outputs": [],
   "source": [
    "def rhs(y, t):\n",
    "    '''right-hand side for integration'''\n",
    "    c, c_t, h, ip = y\n",
    "    \n",
    "    dcdt = j_ip3r(c, c_t, h, ip) - j_serca(c) + j_leak(c, c_t) + \\\n",
    "    (j_in() - j_out(c) - j_pmca(c) + j_soc(c,c_t))*delta\n",
    "    \n",
    "    dctdt =  (j_in() - j_out(c) - j_pmca(c) + j_soc(c,c_t))*delta\n",
    "    \n",
    "    dhdt =  (h_inf(c, ip)-h)/tau_h(c, ip)\n",
    "    \n",
    "    dipdt = r_rise * stim(t) - r_decay * ip\n",
    "    \n",
    "    return [dcdt, dctdt, dhdt, dipdt]"
   ]
  },
  {
   "cell_type": "code",
   "execution_count": 87,
   "metadata": {
    "ExecuteTime": {
     "end_time": "2019-02-13T07:51:21.752663Z",
     "start_time": "2019-02-13T07:51:20.960325Z"
    },
    "scrolled": true
   },
   "outputs": [],
   "source": [
    "# initial conditions\n",
    "t = np.linspace(0, T, int(T/dt))\n",
    "\n",
    "y0 = [c0, ct0, h0, ip0]\n",
    "sol = odeint(rhs, y0, t, hmax = 0.005)\n",
    "\n",
    "c = sol[:, 0]\n",
    "c_t = sol[:, 1]\n",
    "h = sol[:, 2]\n",
    "ip = sol[:, 3]"
   ]
  },
  {
   "cell_type": "markdown",
   "metadata": {},
   "source": [
    "### Plot the results"
   ]
  },
  {
   "cell_type": "code",
   "execution_count": 88,
   "metadata": {
    "ExecuteTime": {
     "end_time": "2019-02-13T07:51:23.063419Z",
     "start_time": "2019-02-13T07:51:21.932692Z"
    },
    "scrolled": false
   },
   "outputs": [
    {
     "data": {
      "image/png": "[encoded data removed]",
      "text/plain": [
       "<Figure size 432x288 with 4 Axes>"
      ]
     },
     "metadata": {
      "needs_background": "light"
     },
     "output_type": "display_data"
    }
   ],
   "source": [
    "plt.figure()\n",
    "plt.subplot(2,2,1)\n",
    "plt.plot(TIME[0:-1], c, 'k-', label = 'c(t)')\n",
    "plt.plot(TIME[0:-1], ip, 'r--', label = 'ip(t)')\n",
    "plt.xlabel('time/s')\n",
    "plt.ylabel('concentration/uM')\n",
    "plt.legend()\n",
    "#plt.show()\n",
    "\n",
    "plt.subplot(2,2,2)\n",
    "#plt.plot(TIME[0:-1], c_t, 'b-', label = 'c_t(t)')\n",
    "plt.plot(TIME[0:-1], (c_t-c)*gamma, 'g-', label = 'c_ER(t)')\n",
    "plt.xlabel('time/s')\n",
    "#plt.ylabel('concentration/uM')\n",
    "plt.legend()\n",
    "#plt.show()\n",
    "\n",
    "plt.subplot(2,2,3)\n",
    "plt.plot(TIME[0:-1], j_ip3r(c, c_t, h, ip), 'r-', label = 'j_ip3r')\n",
    "plt.plot(TIME[0:-1], j_serca(c), 'g-', label = 'j_serca')\n",
    "plt.plot(TIME[0:-1], j_leak(c,c_t), 'b-', label = 'j_leak')\n",
    "plt.xlabel('time/s')\n",
    "plt.ylabel('current/uM')\n",
    "plt.legend()\n",
    "#plt.show()\n",
    "\n",
    "plt.subplot(2,2,4)\n",
    "plt.plot(TIME[0:-1], [j_in()]*40000, 'k--', label = 'j_in')\n",
    "plt.plot(TIME[0:-1], j_out(c), 'r-', label = 'j_out')\n",
    "plt.plot(TIME[0:-1], j_pmca(c), 'g-', label = 'j_pmca')\n",
    "plt.plot(TIME[0:-1], j_soc(c,c_t), 'b-', label = 'j_soc')\n",
    "plt.xlabel('time/s')\n",
    "plt.ylabel('current/uM')\n",
    "plt.legend()\n",
    "plt.show()"
   ]
  },
  {
   "cell_type": "markdown",
   "metadata": {},
   "source": [
    "## II. Single cellular model -- excitable "
   ]
  },
  {
   "cell_type": "markdown",
   "metadata": {},
   "source": [
    "In this section, membrane potential is introduced into the model and is assumed to facilitate the synthesis of IP3. \n",
    "\n",
    "Calcium-induced voltage channel is also introduced and embedded on the cytoplasmic membrane. \n",
    "\n",
    "A positive feedback loop is thus formed (IP3 $\\rightarrow$ Ca$^{2+}\\rightarrow$ V $\\rightarrow$ IP3)"
   ]
  },
  {
   "cell_type": "markdown",
   "metadata": {},
   "source": [
    "### Modified or new parameters"
   ]
  },
  {
   "cell_type": "code",
   "execution_count": 96,
   "metadata": {
    "ExecuteTime": {
     "end_time": "2019-02-13T08:18:18.819975Z",
     "start_time": "2019-02-13T08:18:18.815267Z"
    }
   },
   "outputs": [],
   "source": [
    "# CaV terms\n",
    "v_cav = 4.0\n",
    "k_cav = 1.4\n",
    "e_cav = -20\n",
    "q = 1 # Hill coefficient\n",
    "\n",
    "# Ionic terms\n",
    "v_ion = 1.12\n",
    "e_ion = -67.2\n",
    "\n",
    "# Membrane capacitance\n",
    "c_m = 0.0017\n",
    "\n",
    "# Initial conditions\n",
    "v0 = -67.2"
   ]
  },
  {
   "cell_type": "markdown",
   "metadata": {},
   "source": [
    "### Functions\n",
    "\n",
    "Still, the equilibrium conditions need to be satisfied separately for ER terms and membrane terms. \n",
    "\n",
    "Except for the above two equations (1) and (2), one more equation should hold at equilibrium:\n",
    "\n",
    "$$j_{cav} - j_{ionic} = 0$$"
   ]
  },
  {
   "cell_type": "code",
   "execution_count": 91,
   "metadata": {
    "ExecuteTime": {
     "end_time": "2019-02-13T08:06:19.548191Z",
     "start_time": "2019-02-13T08:06:19.543076Z"
    }
   },
   "outputs": [],
   "source": [
    "def j_cav(c, v):\n",
    "    '''calcium-induced voltage channel'''\n",
    "    return v_cav * c**q / (c**q + k_cav**q) * (v - e_cav)\n",
    "\n",
    "def j_ionic(v):\n",
    "    '''passive ionic leak channel'''\n",
    "    return v_ion * (v - e_ion)"
   ]
  },
  {
   "cell_type": "markdown",
   "metadata": {},
   "source": [
    "### Simulation"
   ]
  },
  {
   "cell_type": "markdown",
   "metadata": {},
   "source": [
    "Five cellular variables will be integrated:\n",
    "\n",
    "- **c(t)**: cytosolic Ca$^{2+}$ concentration\n",
    "- **c_t(t)**: stores Ca$^{2+}$ concentration\n",
    "- **ip(t)**: cytosolic IP$_3$ concentration\n",
    "- **h(t)**: IP$_3$ inactivation variable\n",
    "- **v(t)**: membrane potential"
   ]
  },
  {
   "cell_type": "code",
   "execution_count": 109,
   "metadata": {
    "ExecuteTime": {
     "end_time": "2019-02-13T08:22:46.885381Z",
     "start_time": "2019-02-13T08:22:46.879035Z"
    }
   },
   "outputs": [],
   "source": [
    "def rhs2(y, t):\n",
    "    '''right-hand side for integration of section II'''\n",
    "    c, c_t, h, ip, v = y\n",
    "    \n",
    "    dcdt = j_ip3r(c, c_t, h, ip) - j_serca(c) + j_leak(c, c_t) + \\\n",
    "    (j_in() - j_out(c) - j_pmca(c) + j_soc(c,c_t))*delta\n",
    "    \n",
    "    dctdt =  (j_in() - j_out(c) - j_pmca(c) + j_soc(c,c_t))*delta\n",
    "    \n",
    "    dhdt =  (h_inf(c, ip)-h)/tau_h(c, ip)\n",
    "    \n",
    "    dipdt = r_rise * stim(t) - r_decay * ip\n",
    "    \n",
    "    dvdt = 0.002* (j_cav(c,v) - j_ionic(v)) / c_m\n",
    "    \n",
    "    return [dcdt, dctdt, dhdt, dipdt, dvdt]"
   ]
  },
  {
   "cell_type": "code",
   "execution_count": 110,
   "metadata": {
    "ExecuteTime": {
     "end_time": "2019-02-13T08:22:48.758539Z",
     "start_time": "2019-02-13T08:22:47.561827Z"
    }
   },
   "outputs": [],
   "source": [
    "# initial conditions\n",
    "t = np.linspace(0, T, int(T/dt))\n",
    "\n",
    "y0 = [c0, ct0, h0, ip0, v0]\n",
    "sol = odeint(rhs2, y0, t, hmax = 0.005)\n",
    "\n",
    "c = sol[:, 0]\n",
    "c_t = sol[:, 1]\n",
    "h = sol[:, 2]\n",
    "ip = sol[:, 3]\n",
    "v = sol[:, 4]"
   ]
  },
  {
   "cell_type": "markdown",
   "metadata": {},
   "source": [
    "### Plot the results"
   ]
  },
  {
   "cell_type": "code",
   "execution_count": 116,
   "metadata": {
    "ExecuteTime": {
     "end_time": "2019-02-13T08:30:17.232822Z",
     "start_time": "2019-02-13T08:30:15.867965Z"
    }
   },
   "outputs": [
    {
     "data": {
      "image/png": "[encoded data removed]",
      "text/plain": [
       "<Figure size 432x288 with 4 Axes>"
      ]
     },
     "metadata": {
      "needs_background": "light"
     },
     "output_type": "display_data"
    },
    {
     "data": {
      "image/png": "[encoded data removed]",
      "text/plain": [
       "<Figure size 432x288 with 2 Axes>"
      ]
     },
     "metadata": {
      "needs_background": "light"
     },
     "output_type": "display_data"
    }
   ],
   "source": [
    "plt.figure()\n",
    "plt.subplot(2,2,1)\n",
    "plt.plot(TIME[0:-1], c, 'k-', label = 'c(t)')\n",
    "plt.plot(TIME[0:-1], ip, 'r--', label = 'ip(t)')\n",
    "plt.xlabel('time/s')\n",
    "plt.ylabel('concentration/uM')\n",
    "plt.legend()\n",
    "#plt.show()\n",
    "\n",
    "plt.subplot(2,2,2)\n",
    "#plt.plot(TIME[0:-1], c_t, 'b-', label = 'c_t(t)')\n",
    "plt.plot(TIME[0:-1], (c_t-c)*gamma, 'g-', label = 'c_ER(t)')\n",
    "plt.xlabel('time/s')\n",
    "#plt.ylabel('concentration/uM')\n",
    "plt.legend()\n",
    "#plt.show()\n",
    "\n",
    "plt.subplot(2,2,3)\n",
    "plt.plot(TIME[0:-1], j_ip3r(c, c_t, h, ip), 'r-', label = 'j_ip3r')\n",
    "plt.plot(TIME[0:-1], j_serca(c), 'g-', label = 'j_serca')\n",
    "plt.plot(TIME[0:-1], j_leak(c,c_t), 'b-', label = 'j_leak')\n",
    "plt.xlabel('time/s')\n",
    "plt.ylabel('current/uM')\n",
    "plt.legend()\n",
    "#plt.show()\n",
    "\n",
    "plt.subplot(2,2,4)\n",
    "plt.plot(TIME[0:-1], [j_in()]*40000, 'k--', label = 'j_in')\n",
    "plt.plot(TIME[0:-1], j_out(c), 'r-', label = 'j_out')\n",
    "plt.plot(TIME[0:-1], j_pmca(c), 'g-', label = 'j_pmca')\n",
    "plt.plot(TIME[0:-1], j_soc(c,c_t), 'b-', label = 'j_soc')\n",
    "plt.xlabel('time/s')\n",
    "plt.ylabel('current/uM')\n",
    "plt.legend()\n",
    "\n",
    "plt.show()\n",
    "\n",
    "plt.figure()\n",
    "plt.subplot(2,1,1)\n",
    "plt.plot(TIME[0:-1], v, 'k-', label = 'membrane potential')\n",
    "plt.xlabel('time/s')\n",
    "plt.ylabel('voltage/mV')\n",
    "plt.legend()\n",
    "\n",
    "plt.subplot(2,1,2)\n",
    "plt.plot(TIME[0:-1], j_cav(c,v), 'r-', label = 'j_cav')\n",
    "plt.plot(TIME[0:-1], j_ionic(v), 'b-', label = 'j_ionic')\n",
    "plt.xlabel('time/s')\n",
    "plt.ylabel('currents/uA')\n",
    "plt.legend()\n",
    "plt.show()"
   ]
  },
  {
   "cell_type": "markdown",
   "metadata": {},
   "source": [
    "## III. Multicellular dynamics\n",
    "\n",
    "This section extends the single cell model into an intercellular calcium model aligned as a 2D grid. "
   ]
  },
  {
   "cell_type": "markdown",
   "metadata": {},
   "source": [
    "### Parameters"
   ]
  },
  {
   "cell_type": "code",
   "execution_count": 25,
   "metadata": {
    "ExecuteTime": {
     "end_time": "2019-02-06T07:16:20.633519Z",
     "start_time": "2019-02-06T07:16:20.626527Z"
    }
   },
   "outputs": [],
   "source": [
    "# Grid layout\n",
    "N = 5\n",
    "\n",
    "# Diffusion coefficient\n",
    "DIP = 30"
   ]
  },
  {
   "cell_type": "markdown",
   "metadata": {},
   "source": [
    "### Grid initialization"
   ]
  },
  {
   "cell_type": "code",
   "execution_count": 34,
   "metadata": {
    "ExecuteTime": {
     "end_time": "2019-02-06T07:19:35.827887Z",
     "start_time": "2019-02-06T07:19:35.822560Z"
    }
   },
   "outputs": [],
   "source": [
    "matc = np.zeros((N,N))\n",
    "matct = np.zeros((N,N))\n",
    "math = np.zeros((N,N))\n",
    "matip = np.zeros((N,N))"
   ]
  }
 ],
 "metadata": {
  "kernelspec": {
   "display_name": "Python 3",
   "language": "python",
   "name": "python3"
  },
  "language_info": {
   "codemirror_mode": {
    "name": "ipython",
    "version": 3
   },
   "file_extension": ".py",
   "mimetype": "text/x-python",
   "name": "python",
   "nbconvert_exporter": "python",
   "pygments_lexer": "ipython3",
   "version": "3.6.8"
  },
  "latex_envs": {
   "LaTeX_envs_menu_present": true,
   "autoclose": false,
   "autocomplete": true,
   "bibliofile": "biblio.bib",
   "cite_by": "apalike",
   "current_citInitial": 1,
   "eqLabelWithNumbers": true,
   "eqNumInitial": 1,
   "hotkeys": {
    "equation": "Ctrl-E",
    "itemize": "Ctrl-I"
   },
   "labels_anchors": false,
   "latex_user_defs": false,
   "report_style_numbering": false,
   "user_envs_cfg": false
  },
  "varInspector": {
   "cols": {
    "lenName": 16,
    "lenType": 16,
    "lenVar": 40
   },
   "kernels_config": {
    "python": {
     "delete_cmd_postfix": "",
     "delete_cmd_prefix": "del ",
     "library": "var_list.py",
     "varRefreshCmd": "print(var_dic_list())"
    },
    "r": {
     "delete_cmd_postfix": ") ",
     "delete_cmd_prefix": "rm(",
     "library": "var_list.r",
     "varRefreshCmd": "cat(var_dic_list()) "
    }
   },
   "position": {
    "height": "652px",
    "left": "364px",
    "right": "20px",
    "top": "120px",
    "width": "336px"
   },
   "types_to_exclude": [
    "module",
    "function",
    "builtin_function_or_method",
    "instance",
    "_Feature"
   ],
   "window_display": false
  }
 },
 "nbformat": 4,
 "nbformat_minor": 2
}
