{
 "cells": [
  {
   "cell_type": "code",
   "execution_count": 10,
   "metadata": {},
   "outputs": [],
   "source": [
    "import numpy as np\n",
    "import matplotlib.pyplot as plt\n",
    "from scipy.integrate import odeint"
   ]
  },
  {
   "cell_type": "code",
   "execution_count": 67,
   "metadata": {},
   "outputs": [],
   "source": [
    "T = 10\n",
    "dt = 0.001"
   ]
  },
  {
   "cell_type": "code",
   "execution_count": 145,
   "metadata": {},
   "outputs": [],
   "source": [
    "class NobleModel:\n",
    "    \n",
    "    # Init\n",
    "    def __init__(self):\n",
    "        self.g_bk = 60\n",
    "        self.e_bk = -91\n",
    "        self.c_m = 1\n",
    "        self.time = np.linspace(0, T, int(T/dt))\n",
    "        self.v0 = -77.74845576817587 # -90\n",
    "        self.m0 = 0.0536766093932326 # 0.027\n",
    "        self.h0 = 0.7717018647717805 # 0.953\n",
    "        self.n0 = 0.09710046626504293 # 0.036\n",
    "    \n",
    "    # Na current\n",
    "    def i_na(self, v, m, h):\n",
    "        return (400000*m**3*h + 140)*(v-40)\n",
    "    \n",
    "    # K current\n",
    "    def i_k(self, v, n):\n",
    "        g_k1 = 1200 * np.exp((-v-90)/50) + 15*np.exp((v+90)/60)\n",
    "        g_k2 = 1200 * n**4\n",
    "        return (g_k1 + g_k2) * (v+100)\n",
    "    \n",
    "    # Background current\n",
    "    def i_bk(self, v):\n",
    "        return self.g_bk * (v - self.e_bk)\n",
    "    \n",
    "    # Activate/Inactivate parameters\n",
    "    def alpha_m(self, v):\n",
    "        return 100 * (-v-48) / (np.exp((-v-48)/15) - 1)\n",
    "    \n",
    "    def beta_m(self, v):\n",
    "        return 120 * (v+8) / (np.exp((v+8)/5) - 1)\n",
    "    \n",
    "    def alpha_h(self, v):\n",
    "        return 170 * np.exp((-v-90)/20)\n",
    "    \n",
    "    def beta_h(self, v):\n",
    "        return 1000 / (1 + np.exp((-v-42)/10))\n",
    "    \n",
    "    def alpha_n(self, v):\n",
    "        return 0.1*(-v-50) / (np.exp((-v-50)/10) - 1)\n",
    "    \n",
    "    def beta_n(self, v):\n",
    "        return 2*np.exp((-v-90)/80)\n",
    "    \n",
    "    # Stimulation\n",
    "    def stim(self, t):\n",
    "        if t >= 1 and t <= 1.1:\n",
    "            return 10\n",
    "        else:\n",
    "            return 0\n",
    "    \n",
    "    # Right-hand side\n",
    "    def rhs(self, y, t):\n",
    "        v, m, h, n = y\n",
    "        \n",
    "        dvdt = - (self.i_na(v,m,h) + self.i_k(v,n) \\\n",
    "                  + self.i_bk(v) - self.stim(t))/self.c_m\n",
    "        \n",
    "        dmdt = self.alpha_m(v) * (1-m) - self.beta_m(v) * m\n",
    "        dhdt = self.alpha_h(v) * (1-h) - self.beta_h(v) * h\n",
    "        dndt = self.alpha_n(v) * (1-n) - self.beta_n(v) * n\n",
    "        \n",
    "        return [dvdt, dmdt, dhdt, dndt]\n",
    "    \n",
    "    # Plot\n",
    "    def plot(self, a, tmin=0, tmax=-1):\n",
    "        \n",
    "        plt.figure(figsize=(7,4))\n",
    "        plt.plot(self.time[int(tmin/dt):int(tmax/dt)], a[int(tmin/dt):int(tmax/dt)])\n",
    "        plt.show()\n",
    "    \n",
    "    # Time stepping\n",
    "    def step(self):\n",
    "        y0 = [self.v0, self.m0, self.h0, self.n0]\n",
    "        sol = odeint(self.rhs, y0, self.time, hmax = 0.005)\n",
    "        return sol"
   ]
  },
  {
   "cell_type": "code",
   "execution_count": 146,
   "metadata": {},
   "outputs": [
    {
     "data": {
      "image/png": "[encoded data removed]",
      "text/plain": [
       "<Figure size 504x288 with 1 Axes>"
      ]
     },
     "metadata": {
      "needs_background": "light"
     },
     "output_type": "display_data"
    }
   ],
   "source": [
    "if __name__ == '__main__':\n",
    "    model = NobleModel()\n",
    "    sol = model.step()\n",
    "    model.plot(sol[:,0])"
   ]
  },
  {
   "cell_type": "markdown",
   "metadata": {},
   "source": [
    "## Find stable values"
   ]
  },
  {
   "cell_type": "code",
   "execution_count": 53,
   "metadata": {},
   "outputs": [],
   "source": [
    "aa = np.linspace(0,1,1000)"
   ]
  },
  {
   "cell_type": "code",
   "execution_count": 77,
   "metadata": {},
   "outputs": [],
   "source": [
    "dd = np.linspace(-150, 150, 1000)"
   ]
  },
  {
   "cell_type": "code",
   "execution_count": 62,
   "metadata": {},
   "outputs": [],
   "source": [
    "bb = model.alpha_n(-90) * (1-aa) - model.beta_n(-90) * aa"
   ]
  },
  {
   "cell_type": "code",
   "execution_count": 64,
   "metadata": {},
   "outputs": [
    {
     "data": {
      "text/plain": [
       "(array([36]),)"
      ]
     },
     "execution_count": 64,
     "metadata": {},
     "output_type": "execute_result"
    }
   ],
   "source": [
    "np.where(bb == -min(np.abs(bb)))"
   ]
  },
  {
   "cell_type": "code",
   "execution_count": null,
   "metadata": {},
   "outputs": [],
   "source": []
  }
 ],
 "metadata": {
  "kernelspec": {
   "display_name": "Python 3",
   "language": "python",
   "name": "python3"
  },
  "language_info": {
   "codemirror_mode": {
    "name": "ipython",
    "version": 3
   },
   "file_extension": ".py",
   "mimetype": "text/x-python",
   "name": "python",
   "nbconvert_exporter": "python",
   "pygments_lexer": "ipython3",
   "version": "3.6.6"
  }
 },
 "nbformat": 4,
 "nbformat_minor": 2
}
