{
 "cells": [
  {
   "cell_type": "code",
   "execution_count": 1,
   "metadata": {
    "ExecuteTime": {
     "end_time": "2019-08-22T19:24:00.043721Z",
     "start_time": "2019-08-22T19:23:57.014647Z"
    }
   },
   "outputs": [],
   "source": [
    "import numpy as np\n",
    "import matplotlib.pyplot as plt\n",
    "from scipy.integrate import odeint\n",
    "import pandas as pd"
   ]
  },
  {
   "cell_type": "code",
   "execution_count": 82,
   "metadata": {
    "ExecuteTime": {
     "end_time": "2019-08-22T21:05:25.333303Z",
     "start_time": "2019-08-22T21:05:25.307899Z"
    }
   },
   "outputs": [],
   "source": [
    "class KatoForceEncoder:\n",
    "    \n",
    "    def __init__(self, c):\n",
    "        self.c = c\n",
    "        self.dt = 0.001\n",
    "        self.T = len(c)*self.dt\n",
    "#         print(self.T)\n",
    "        self.cm0 = 1e-5\n",
    "        self.mlck0 = 1e-6\n",
    "        self.K1 = 1e-5\n",
    "        self.K2 = 1e-9 # 1e-9\n",
    "        self.k1 = 25.0\n",
    "        self.k2 = 5.0\n",
    "        self.k3 = 2.5\n",
    "        self.k4 = 0.5 # Ajust the decay of force; default: 0.5\n",
    "        self.a = 0.2\n",
    "        self.b = 0.05\n",
    "        self.f = 0.01\n",
    "        self.lamb = 0.05\n",
    "        self.gamma1 = self.cm0 / self.K2\n",
    "        self.gamma2 = self.mlck0 / self.K2\n",
    "        self.emax = None\n",
    "        self.m2max = None\n",
    "        self.time = np.linspace(0, self.T, int(self.T/self.dt))\n",
    "        \n",
    "        \n",
    "    def solve_e(self, c):\n",
    "        \n",
    "        bb = -1 - self.gamma1 / self.gamma2 - 1 / self.gamma2 * (1 + 1 / (c/self.K1)) ** 4\n",
    "        cc = self.gamma1 / self.gamma2\n",
    "        \n",
    "        return (- bb - np.sqrt(bb**2 - 4 * cc)) / 2\n",
    "        \n",
    "    def rhs(self, y, t):\n",
    "        \n",
    "        if t < self.T: c = self.c[int(t/self.dt)]\n",
    "        else: c = self.c[-1]\n",
    "        \n",
    "        e = self.solve_e(c)\n",
    "        \n",
    "        m1, m2, p = y\n",
    "\n",
    "        dm1dt = - ((self.k1 + self.k3) * e + self.k2) * m1 - (self.k1 * e - self.k4) * m2 + self.k1 * e\n",
    "        dm2dt = self.k3 * e * m1 - self.k4 * m2       \n",
    "        \n",
    "        dpdt = self.b * (p + self.f) * (m2/self.m2max - p) / self.lamb / (p + self.a)\n",
    "        return [dm1dt, dm2dt, dpdt]\n",
    "        \n",
    "    def step(self):\n",
    "        \n",
    "        e0 = self.solve_e(self.c[0])\n",
    "        m10 = 1 / (1 + self.k3 / self.k4 * e0 + 1 / (self.k1 / self.k2 * e0))\n",
    "        m20 = 1 / (1 + 1 / (self.k3 / self.k4 * e0) * (1 + 1 / (self.k3 / self.k4 * e0)))\n",
    "        \n",
    "        e_test = self.solve_e(1e-6)\n",
    "        print(e_test, 1 / (1 + 1 / (self.k3 / self.k4 * e_test) * (1 + 1 / (self.k3 / self.k4 * e_test))))\n",
    "\n",
    "        if self.emax == None:\n",
    "            self.emax = self.solve_e(np.Infinity)\n",
    "            self.m2max = 1 / (1 + 1 / (self.k3 / self.k4 * self.emax) * (1 + 1 / (self.k3 / self.k4 * self.emax)))\n",
    "\n",
    "        p0 = m20 / self.m2max\n",
    "        \n",
    "        y0 = [m10, m20, p0]\n",
    "        sol = odeint(self.rhs, y0, self.time, hmax = 0.005)\n",
    "        return sol\n",
    "\n",
    "def calcium_trace(t):\n",
    "    \n",
    "    c = np.zeros(len(t))\n",
    "    \n",
    "#     for j in range(len(t)):\n",
    "#         if 0 <= t[j] <= 0.5:\n",
    "#             c[j] = 1e-7 + (1e-6 - 1e-7) * t[j] / 0.5\n",
    "#         elif t[j] > 0.5:\n",
    "#             c[j] = 1e-7 + (1e-6 - 1e-7)  * np.exp( - 0.5 * (t[j] - 0.5))\n",
    "    \n",
    "#     return c\n",
    "\n",
    "### Alternative calcium traces\n",
    "    for j in range(len(t)):\n",
    "        if 0 <= t[j] <= 0.5:\n",
    "            c[j] = 1e-7 + (1e-6 - 1e-7) * t[j] / 0.5\n",
    "        elif t[j] > 0.5:\n",
    "            c[j] = 1e-6 + (1e-6 - 1e-6)  * np.exp( - 1.0 * (t[j] - 0.5))\n",
    "    \n",
    "    return c\n",
    "\n",
    "#     for j in range(len(t)):\n",
    "#         if 0.001 <= t[j] <= 20:\n",
    "#             c[j] = 1e-6\n",
    "#         else:\n",
    "#             c[j] = 1e-7 \n",
    "#     return c\n",
    "###"
   ]
  },
  {
   "cell_type": "code",
   "execution_count": 84,
   "metadata": {
    "ExecuteTime": {
     "end_time": "2019-08-22T21:05:34.844051Z",
     "start_time": "2019-08-22T21:05:33.833385Z"
    }
   },
   "outputs": [
    {
     "data": {
      "image/png": "[encoded data removed]",
      "text/plain": [
       "<Figure size 432x288 with 1 Axes>"
      ]
     },
     "metadata": {
      "needs_background": "light"
     },
     "output_type": "display_data"
    },
    {
     "name": "stdout",
     "output_type": "stream",
     "text": [
      "0.39611992492180725 0.5682401953362475\n"
     ]
    },
    {
     "data": {
      "image/png": "[encoded data removed]",
      "text/plain": [
       "<Figure size 432x288 with 1 Axes>"
      ]
     },
     "metadata": {
      "needs_background": "light"
     },
     "output_type": "display_data"
    }
   ],
   "source": [
    "if __name__ == '__main__':\n",
    "    t = np.linspace(0, 10.0, 10000)\n",
    "    c = calcium_trace(t)\n",
    "    plt.plot(t, c)\n",
    "    plt.show()\n",
    "    encoder = KatoForceEncoder(c)\n",
    "    sol = encoder.step()\n",
    "    plt.plot(t, 0.5 * sol[:, 0] + sol[:, 1])\n",
    "    plt.plot(t, sol[:, 1]/encoder.m2max)\n",
    "    plt.plot(t, sol[:, 2])"
   ]
  },
  {
   "cell_type": "code",
   "execution_count": null,
   "metadata": {},
   "outputs": [],
   "source": []
  },
  {
   "cell_type": "code",
   "execution_count": null,
   "metadata": {},
   "outputs": [],
   "source": []
  }
 ],
 "metadata": {
  "kernelspec": {
   "display_name": "Python 3",
   "language": "python",
   "name": "python3"
  },
  "language_info": {
   "codemirror_mode": {
    "name": "ipython",
    "version": 3
   },
   "file_extension": ".py",
   "mimetype": "text/x-python",
   "name": "python",
   "nbconvert_exporter": "python",
   "pygments_lexer": "ipython3",
   "version": "3.6.8"
  },
  "latex_envs": {
   "LaTeX_envs_menu_present": true,
   "autoclose": false,
   "autocomplete": true,
   "bibliofile": "biblio.bib",
   "cite_by": "apalike",
   "current_citInitial": 1,
   "eqLabelWithNumbers": true,
   "eqNumInitial": 1,
   "hotkeys": {
    "equation": "Ctrl-E",
    "itemize": "Ctrl-I"
   },
   "labels_anchors": false,
   "latex_user_defs": false,
   "report_style_numbering": false,
   "user_envs_cfg": false
  },
  "varInspector": {
   "cols": {
    "lenName": 16,
    "lenType": 16,
    "lenVar": 40
   },
   "kernels_config": {
    "python": {
     "delete_cmd_postfix": "",
     "delete_cmd_prefix": "del ",
     "library": "var_list.py",
     "varRefreshCmd": "print(var_dic_list())"
    },
    "r": {
     "delete_cmd_postfix": ") ",
     "delete_cmd_prefix": "rm(",
     "library": "var_list.r",
     "varRefreshCmd": "cat(var_dic_list()) "
    }
   },
   "types_to_exclude": [
    "module",
    "function",
    "builtin_function_or_method",
    "instance",
    "_Feature"
   ],
   "window_display": false
  }
 },
 "nbformat": 4,
 "nbformat_minor": 2
}
