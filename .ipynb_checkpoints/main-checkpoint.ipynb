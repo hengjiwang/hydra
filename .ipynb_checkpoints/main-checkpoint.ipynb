{
 "cells": [
  {
   "cell_type": "markdown",
   "metadata": {},
   "source": [
    "# Modeling Calcium Dynamics for Myoepithelial Cells in _Hydra_"
   ]
  },
  {
   "cell_type": "code",
   "execution_count": 34,
   "metadata": {
    "ExecuteTime": {
     "end_time": "2019-02-14T23:13:44.009129Z",
     "start_time": "2019-02-14T23:13:42.315481Z"
    }
   },
   "outputs": [],
   "source": [
    "import numpy as np\n",
    "import matplotlib.pyplot as plt\n",
    "import csv\n",
    "from scipy.integrate import odeint"
   ]
  },
  {
   "cell_type": "markdown",
   "metadata": {},
   "source": [
    "# Single cellular dynamics\n",
    "\n",
    "Simulations of intracellular calcium dynamics. \n",
    "\n",
    "## I. Inexcitable cell\n",
    "\n",
    "The model in this section has no voltage-dependent channels or processes thus it's inexcitable. "
   ]
  },
  {
   "cell_type": "markdown",
   "metadata": {},
   "source": [
    "### Parameters"
   ]
  },
  {
   "cell_type": "code",
   "execution_count": 262,
   "metadata": {
    "ExecuteTime": {
     "end_time": "2019-02-15T00:40:34.482376Z",
     "start_time": "2019-02-15T00:40:34.470990Z"
    }
   },
   "outputs": [],
   "source": [
    "# Numerical parameters\n",
    "T = 200\n",
    "dt = 0.005\n",
    "TIME = np.linspace(0, T+dt, int(T/dt)+1)\n",
    "\n",
    "# Initial conditions \n",
    "c0 = 0.0865415\n",
    "h0 = 0.6255124\n",
    "ct0 = 36.49084\n",
    "ip0 = 0\n",
    "\n",
    "# Volume ratio\n",
    "gamma=5.4054\n",
    "\n",
    "# Leak for ER\n",
    "v_leak = 0.002\n",
    "\n",
    "# Leak across plasma membrane\n",
    "v_in = 0.05\n",
    "k_out = 1.2\n",
    "\n",
    "# IP3R parameters\n",
    "v_ip3r = 0.1\n",
    "d_1 = 0.13; d_2 = 1.049; d_3 = 0.9434; d_5= 0.08234; \n",
    "a_2 = 0.04\n",
    "\n",
    "# PMCA terms\n",
    "v_pmca = 10\n",
    "k_pmca = 2.5\n",
    "\n",
    "# SOC terms\n",
    "v_soc = 1.57\n",
    "k_soc = 90\n",
    "\n",
    "# SERCA terms\n",
    "v_serca = 0.9\n",
    "k_serca = 0.1\n",
    "\n",
    "# Sneyd Parameter\n",
    "delta = 0.2\n",
    "\n",
    "# IP3 parameters\n",
    "d_rise = 10\n",
    "r_rise = 0.05#0.025 \n",
    "r_decay = 0.025"
   ]
  },
  {
   "cell_type": "markdown",
   "metadata": {},
   "source": [
    "### Functions\n",
    "\n",
    "In the stable state, the amount of currents through ER and through membrane should separately be zero, which means \n",
    "$$j_{ip_3r} + j_{leak} - j_{serca} = 0$$\n",
    "and \n",
    "$$j_{in} - j_{out} - j_{pmca} + j_{soc} = 0$$"
   ]
  },
  {
   "cell_type": "code",
   "execution_count": 36,
   "metadata": {
    "ExecuteTime": {
     "end_time": "2019-02-14T23:13:47.520827Z",
     "start_time": "2019-02-14T23:13:47.511320Z"
    }
   },
   "outputs": [],
   "source": [
    "# Terms on ER\n",
    "def j_ip3r(c, c_t, h, ip):\n",
    "    '''IP3R current, ER -> cytosol'''\n",
    "    m_inf = ip/(ip+d_1)\n",
    "    n_inf = c/(c+d_5)\n",
    "\n",
    "    return v_ip3r * m_inf**3 * n_inf**3 * h**3 * \\\n",
    "    ((c_t-c)*gamma - c)\n",
    "\n",
    "def j_leak(c, c_t):\n",
    "    '''leak current, ER -> cytosol'''\n",
    "    return v_leak * ((c_t-c)*gamma - c)\n",
    "\n",
    "def j_serca(c):\n",
    "    '''SERCA pump, cytosol -> ER'''\n",
    "    return v_serca* c**1.75 / (c**1.75 + k_serca**1.75)\n",
    "\n",
    "# Terms on membrane\n",
    "def j_in():\n",
    "    '''input current, outside -> cytosol'''\n",
    "    return v_in\n",
    "\n",
    "def j_out(c):\n",
    "    '''output current, cytosol -> outside'''\n",
    "    return k_out * c\n",
    "\n",
    "def j_pmca(c):\n",
    "    '''PMCA pump, cytosol -> outside'''\n",
    "    return v_pmca * c**2 / (k_pmca**2 + c**2)\n",
    "\n",
    "def j_soc(c, c_t):\n",
    "    '''SOCC, outside -> cytosol'''\n",
    "    return v_soc * k_soc**4 / (k_soc**4 + ((c_t-c)*gamma)**4)\n",
    "\n",
    "# Terms for IP3R\n",
    "def h_inf(c, ip):\n",
    "    '''stable IP3 inactivation rate'''\n",
    "    q_2 = d_2 * (ip + d_1)/(ip + d_3)\n",
    "    return q_2 / (q_2 + c)\n",
    "\n",
    "def tau_h(c, ip):\n",
    "    '''time constant for IP3 inactivation rate'''\n",
    "    q_2 = d_2 * (ip + d_1)/(ip + d_3)\n",
    "    return 1 / (a_2 * (q_2 + c))"
   ]
  },
  {
   "cell_type": "markdown",
   "metadata": {},
   "source": [
    "### Stimulation Settings"
   ]
  },
  {
   "cell_type": "markdown",
   "metadata": {},
   "source": [
    "Multiple stimulations are allowed."
   ]
  },
  {
   "cell_type": "code",
   "execution_count": 258,
   "metadata": {
    "ExecuteTime": {
     "end_time": "2019-02-15T00:38:39.882224Z",
     "start_time": "2019-02-15T00:38:39.876880Z"
    }
   },
   "outputs": [],
   "source": [
    "st1 = 20.0\n",
    "st2 = 55.0\n",
    "st3 = 75.0\n",
    "st4 = 95.0\n",
    "\n",
    "def stim(t):\n",
    "    '''returns the stimulation status at time t'''\n",
    "    if t >= st1 and t < st1+d_rise:\n",
    "        return 1\n",
    "    elif t >= st2 and t < st2+d_rise:\n",
    "        return 0\n",
    "    elif t >= st3 and t < st3+d_rise:\n",
    "        return 0\n",
    "    elif t >= st4 and t < st4+d_rise:\n",
    "        return 0\n",
    "    else:\n",
    "        return 0"
   ]
  },
  {
   "cell_type": "markdown",
   "metadata": {},
   "source": [
    "### Simulation"
   ]
  },
  {
   "cell_type": "markdown",
   "metadata": {},
   "source": [
    "Four cellular variables will be integrated:\n",
    "\n",
    "- **c(t)**: cytosolic Ca2+ concentration\n",
    "- **c_t(t)**: stores Ca2+ concentration\n",
    "- **ip(t)**: cytosolic IP3 concentration\n",
    "- **h(t)**: IP3 inactivation variable"
   ]
  },
  {
   "cell_type": "code",
   "execution_count": 185,
   "metadata": {
    "ExecuteTime": {
     "end_time": "2019-02-14T22:10:35.398159Z",
     "start_time": "2019-02-14T22:10:35.391765Z"
    }
   },
   "outputs": [],
   "source": [
    "def rhs(y, t):\n",
    "    '''right-hand side for integration in section I'''\n",
    "    c, c_t, h, ip = y\n",
    "    \n",
    "    dcdt = j_ip3r(c, c_t, h, ip) - j_serca(c) + j_leak(c, c_t) + \\\n",
    "    (j_in() - j_out(c) - j_pmca(c) + j_soc(c,c_t))*delta\n",
    "    \n",
    "    dctdt =  (j_in() - j_out(c) - j_pmca(c) + j_soc(c,c_t))*delta\n",
    "    \n",
    "    dhdt =  (h_inf(c, ip)-h)/tau_h(c, ip)\n",
    "    \n",
    "    dipdt = r_rise * stim(t) - r_decay * ip\n",
    "    \n",
    "    return [dcdt, dctdt, dhdt, dipdt]"
   ]
  },
  {
   "cell_type": "code",
   "execution_count": 186,
   "metadata": {
    "ExecuteTime": {
     "end_time": "2019-02-14T22:10:36.712371Z",
     "start_time": "2019-02-14T22:10:35.681388Z"
    },
    "scrolled": true
   },
   "outputs": [],
   "source": [
    "# initial conditions\n",
    "t = np.linspace(0, T, int(T/dt))\n",
    "\n",
    "y0 = [c0, ct0, h0, ip0]\n",
    "sol = odeint(rhs, y0, t, hmax = 0.005)\n",
    "\n",
    "c = sol[:, 0]\n",
    "c_t = sol[:, 1]\n",
    "h = sol[:, 2]\n",
    "ip = sol[:, 3]"
   ]
  },
  {
   "cell_type": "markdown",
   "metadata": {},
   "source": [
    "### Plot the results"
   ]
  },
  {
   "cell_type": "code",
   "execution_count": 187,
   "metadata": {
    "ExecuteTime": {
     "end_time": "2019-02-14T22:10:38.536419Z",
     "start_time": "2019-02-14T22:10:37.007565Z"
    },
    "scrolled": false
   },
   "outputs": [
    {
     "data": {
      "image/png": "[encoded data removed]",
      "text/plain": [
       "<Figure size 432x288 with 4 Axes>"
      ]
     },
     "metadata": {
      "needs_background": "light"
     },
     "output_type": "display_data"
    }
   ],
   "source": [
    "plt.figure()\n",
    "plt.subplot(2,2,1)\n",
    "plt.plot(TIME[0:-1], c, 'k-', label = 'c(t)')\n",
    "plt.plot(TIME[0:-1], ip, 'r--', label = 'ip(t)')\n",
    "plt.xlabel('time/s')\n",
    "plt.ylabel('concentration/uM')\n",
    "plt.legend()\n",
    "#plt.show()\n",
    "\n",
    "plt.subplot(2,2,2)\n",
    "#plt.plot(TIME[0:-1], c_t, 'b-', label = 'c_t(t)')\n",
    "plt.plot(TIME[0:-1], (c_t-c)*gamma, 'g-', label = 'c_ER(t)')\n",
    "plt.xlabel('time/s')\n",
    "#plt.ylabel('concentration/uM')\n",
    "plt.legend()\n",
    "#plt.show()\n",
    "\n",
    "plt.subplot(2,2,3)\n",
    "plt.plot(TIME[0:-1], j_ip3r(c, c_t, h, ip), 'r-', label = 'j_ip3r')\n",
    "plt.plot(TIME[0:-1], j_serca(c), 'g-', label = 'j_serca')\n",
    "plt.plot(TIME[0:-1], j_leak(c,c_t), 'b-', label = 'j_leak')\n",
    "plt.xlabel('time/s')\n",
    "plt.ylabel('current/uM')\n",
    "plt.legend()\n",
    "#plt.show()\n",
    "\n",
    "plt.subplot(2,2,4)\n",
    "plt.plot(TIME[0:-1], [j_in()]*40000, 'k--', label = 'j_in')\n",
    "plt.plot(TIME[0:-1], j_out(c), 'r-', label = 'j_out')\n",
    "plt.plot(TIME[0:-1], j_pmca(c), 'g-', label = 'j_pmca')\n",
    "plt.plot(TIME[0:-1], j_soc(c,c_t), 'b-', label = 'j_soc')\n",
    "plt.xlabel('time/s')\n",
    "#plt.ylabel('current/uM')\n",
    "plt.legend()\n",
    "plt.show()"
   ]
  },
  {
   "cell_type": "markdown",
   "metadata": {},
   "source": [
    "## II. Excitable cell"
   ]
  },
  {
   "cell_type": "markdown",
   "metadata": {},
   "source": [
    "In this section, membrane potential is introduced into the model and is assumed to facilitate the synthesis of IP3. \n",
    "\n",
    "Calcium-induced voltage channel is also introduced and embedded on the cytoplasmic membrane. \n",
    "\n",
    "A positive feedback loop is thus formed (IP3 $\\rightarrow$ Ca$^{2+}\\rightarrow$ V $\\rightarrow$ IP3)"
   ]
  },
  {
   "cell_type": "markdown",
   "metadata": {},
   "source": [
    "### Modified or new parameters"
   ]
  },
  {
   "cell_type": "code",
   "execution_count": 232,
   "metadata": {
    "ExecuteTime": {
     "end_time": "2019-02-15T00:29:08.076021Z",
     "start_time": "2019-02-15T00:29:08.071124Z"
    }
   },
   "outputs": [],
   "source": [
    "# CaV terms\n",
    "v_cav = 4.0\n",
    "k_cav = 1.4\n",
    "e_cav = -20\n",
    "q = 1 # Hill coefficient\n",
    "\n",
    "# Ionic terms\n",
    "v_ion = 1.12\n",
    "e_ion = -67.2\n",
    "\n",
    "# Membrane capacitance\n",
    "c_m = 0.0017e3\n",
    "\n",
    "# Initial conditions\n",
    "v0 = -59.076\n",
    "\n",
    "# Modified parameters\n",
    "r_decay2 = 0.06\n",
    "\n",
    "# V-induced IP3 term\n",
    "v_vip = 30\n",
    "k_vip = -58"
   ]
  },
  {
   "cell_type": "markdown",
   "metadata": {},
   "source": [
    "### Functions\n",
    "\n",
    "Still, the equilibrium conditions need to be satisfied separately for ER terms and membrane terms. \n",
    "\n",
    "Except for the above two equations (1) and (2), one more equation should hold at equilibrium:\n",
    "\n",
    "$$j_{cav} - j_{ionic} = 0$$"
   ]
  },
  {
   "cell_type": "code",
   "execution_count": 233,
   "metadata": {
    "ExecuteTime": {
     "end_time": "2019-02-15T00:29:09.650660Z",
     "start_time": "2019-02-15T00:29:09.645927Z"
    }
   },
   "outputs": [],
   "source": [
    "def j_cav(c, v):\n",
    "    '''calcium-induced voltage channel'''\n",
    "    return v_cav * c**q / (c**q + k_cav**q) * (v - e_cav)\n",
    "\n",
    "def j_ionic(v):\n",
    "    '''passive ionic leak channel'''\n",
    "    return v_ion * (v - e_ion)\n",
    "\n",
    "def j_vip(v, r):\n",
    "    '''voltage-induced ip3 synthesis'''\n",
    "    return v_vip * (v-v0)**r/((v-v0)**r + k_vip**r)"
   ]
  },
  {
   "cell_type": "markdown",
   "metadata": {},
   "source": [
    "### Simulation"
   ]
  },
  {
   "cell_type": "markdown",
   "metadata": {},
   "source": [
    "Five cellular variables will be integrated:\n",
    "\n",
    "- **c(t)**: cytosolic Ca2+ concentration\n",
    "- **c_t(t)**: stores Ca2+ concentration\n",
    "- **ip(t)**: cytosolic IP3 concentration\n",
    "- **h(t)**: IP3 inactivation variable\n",
    "- **v(t)**: membrane potential"
   ]
  },
  {
   "cell_type": "code",
   "execution_count": 234,
   "metadata": {
    "ExecuteTime": {
     "end_time": "2019-02-15T00:29:12.105839Z",
     "start_time": "2019-02-15T00:29:12.098387Z"
    }
   },
   "outputs": [],
   "source": [
    "def rhs2(y, t):\n",
    "    '''right-hand side for integration in section II'''\n",
    "    c, c_t, h, ip, v = y\n",
    "    \n",
    "    dcdt = j_ip3r(c, c_t, h, ip) - j_serca(c) + j_leak(c, c_t) + \\\n",
    "    (j_in() - j_out(c) - j_pmca(c) + j_soc(c,c_t))*delta\n",
    "    \n",
    "    dctdt =  (j_in() - j_out(c) - j_pmca(c) + j_soc(c,c_t))*delta\n",
    "    \n",
    "    dhdt =  (h_inf(c, ip)-h)/tau_h(c, ip)\n",
    "    \n",
    "    dipdt = r_rise * stim(t) - r_decay2 * ip + j_vip(v,4)\n",
    "    \n",
    "    dvdt = - (j_cav(c,v) + j_ionic(v)) / c_m\n",
    "    \n",
    "    return [dcdt, dctdt, dhdt, dipdt, dvdt]"
   ]
  },
  {
   "cell_type": "code",
   "execution_count": 263,
   "metadata": {
    "ExecuteTime": {
     "end_time": "2019-02-15T00:40:42.226080Z",
     "start_time": "2019-02-15T00:40:41.348077Z"
    }
   },
   "outputs": [],
   "source": [
    "# initial conditions\n",
    "t = np.linspace(0, T, int(T/dt))\n",
    "y0 = [c0, ct0, h0, ip0, v0]\n",
    "\n",
    "# integrate\n",
    "sol = odeint(rhs2, y0, t, hmax = 0.005)\n",
    "\n",
    "c = sol[:, 0]\n",
    "c_t = sol[:, 1]\n",
    "h = sol[:, 2]\n",
    "ip = sol[:, 3]\n",
    "v = sol[:, 4]"
   ]
  },
  {
   "cell_type": "markdown",
   "metadata": {},
   "source": [
    "### Plot the results"
   ]
  },
  {
   "cell_type": "code",
   "execution_count": 264,
   "metadata": {
    "ExecuteTime": {
     "end_time": "2019-02-15T00:40:44.450906Z",
     "start_time": "2019-02-15T00:40:42.514460Z"
    }
   },
   "outputs": [
    {
     "data": {
      "image/png": "[encoded data removed]",
      "text/plain": [
       "<Figure size 432x288 with 4 Axes>"
      ]
     },
     "metadata": {
      "needs_background": "light"
     },
     "output_type": "display_data"
    },
    {
     "data": {
      "image/png": "[encoded data removed]",
      "text/plain": [
       "<Figure size 432x288 with 3 Axes>"
      ]
     },
     "metadata": {
      "needs_background": "light"
     },
     "output_type": "display_data"
    }
   ],
   "source": [
    "plt.figure()\n",
    "plt.subplot(2,2,1)\n",
    "plt.plot(TIME[0:-1], c, 'k-', label = 'c(t)')\n",
    "plt.plot(TIME[0:-1], ip, 'r--', label = 'ip(t)')\n",
    "plt.xlabel('time/s')\n",
    "plt.ylabel('concentration/uM')\n",
    "plt.legend()\n",
    "#plt.show()\n",
    "\n",
    "plt.subplot(2,2,2)\n",
    "#plt.plot(TIME[0:-1], c_t, 'b-', label = 'c_t(t)')\n",
    "plt.plot(TIME[0:-1], (c_t-c)*gamma, 'g-', label = 'c_ER(t)')\n",
    "plt.xlabel('time/s')\n",
    "#plt.ylabel('concentration/uM')\n",
    "plt.legend()\n",
    "#plt.show()\n",
    "\n",
    "plt.subplot(2,2,3)\n",
    "plt.plot(TIME[0:-1], j_ip3r(c, c_t, h, ip), 'r-', label = 'j_ip3r')\n",
    "plt.plot(TIME[0:-1], j_serca(c), 'g-', label = 'j_serca')\n",
    "plt.plot(TIME[0:-1], j_leak(c,c_t), 'b-', label = 'j_leak')\n",
    "plt.xlabel('time/s')\n",
    "plt.ylabel('current/uM')\n",
    "plt.legend()\n",
    "#plt.show()\n",
    "\n",
    "plt.subplot(2,2,4)\n",
    "plt.plot(TIME[0:-1], [j_in()]*40000, 'k--', label = 'j_in')\n",
    "plt.plot(TIME[0:-1], j_out(c), 'r-', label = 'j_out')\n",
    "plt.plot(TIME[0:-1], j_pmca(c), 'g-', label = 'j_pmca')\n",
    "plt.plot(TIME[0:-1], j_soc(c,c_t), 'b-', label = 'j_soc')\n",
    "plt.xlabel('time/s')\n",
    "# plt.ylabel('current/uM')\n",
    "plt.legend()\n",
    "\n",
    "plt.show()\n",
    "\n",
    "plt.figure()\n",
    "plt.subplot(3,1,1)\n",
    "plt.plot(TIME[0:-1], v, 'k-', label = 'membrane potential')\n",
    "plt.xlabel('time/s')\n",
    "plt.ylabel('voltage/mV')\n",
    "plt.legend()\n",
    "\n",
    "plt.subplot(3,1,2)\n",
    "plt.plot(TIME[0:-1], j_cav(c,v), 'r-', label = 'j_cav')\n",
    "plt.plot(TIME[0:-1], j_ionic(v), 'b-', label = 'j_ionic')\n",
    "plt.xlabel('time/s')\n",
    "plt.ylabel('currents/uA')\n",
    "plt.legend()\n",
    "\n",
    "plt.subplot(3,1,3)\n",
    "plt.plot(TIME[0:-1], j_vip(v,4), 'r-', label = 'j_cav')\n",
    "plt.xlabel('time/s')\n",
    "plt.ylabel('currents/uA')\n",
    "plt.legend()\n",
    "plt.show()"
   ]
  },
  {
   "cell_type": "markdown",
   "metadata": {},
   "source": [
    "# Multicellular dynamics\n",
    "\n",
    "Simulations of intercellular calcium dynamics\n",
    "\n",
    "Cells coupled through gap-junctions"
   ]
  },
  {
   "cell_type": "code",
   "execution_count": 168,
   "metadata": {
    "ExecuteTime": {
     "end_time": "2019-02-15T00:05:11.295923Z",
     "start_time": "2019-02-15T00:05:11.292081Z"
    }
   },
   "outputs": [],
   "source": [
    "from scipy.sparse import spdiags"
   ]
  },
  {
   "cell_type": "markdown",
   "metadata": {
    "ExecuteTime": {
     "end_time": "2019-02-14T22:33:42.013024Z",
     "start_time": "2019-02-14T22:33:42.009552Z"
    }
   },
   "source": [
    "## III. Inexcitable cells (chemical diffusion coupling)"
   ]
  },
  {
   "cell_type": "code",
   "execution_count": null,
   "metadata": {},
   "outputs": [],
   "source": []
  },
  {
   "cell_type": "markdown",
   "metadata": {},
   "source": [
    "## IV. Excitable cells (electrical coupling) "
   ]
  },
  {
   "cell_type": "markdown",
   "metadata": {},
   "source": [
    "- ## 1D case\n",
    "\n",
    "Cells are aligned in sequence as a chain."
   ]
  },
  {
   "cell_type": "markdown",
   "metadata": {},
   "source": [
    "### Layout"
   ]
  },
  {
   "cell_type": "code",
   "execution_count": 265,
   "metadata": {
    "ExecuteTime": {
     "end_time": "2019-02-15T00:41:18.080038Z",
     "start_time": "2019-02-15T00:41:18.074683Z"
    }
   },
   "outputs": [],
   "source": [
    "# Number of cells\n",
    "N = 5\n",
    "\n",
    "# Electrical coupling coefficient\n",
    "gc = 50\n",
    "\n",
    "# Grid initialization\n",
    "vec_c = np.zeros(N)\n",
    "vec_ct = np.zeros(N)\n",
    "vec_h = np.zeros(N)\n",
    "vec_ip = np.zeros(N)\n",
    "vec_v = np.zeros(N)"
   ]
  },
  {
   "cell_type": "markdown",
   "metadata": {},
   "source": [
    "### Define coupling matrix"
   ]
  },
  {
   "cell_type": "code",
   "execution_count": 266,
   "metadata": {
    "ExecuteTime": {
     "end_time": "2019-02-15T00:41:18.954566Z",
     "start_time": "2019-02-15T00:41:18.946617Z"
    }
   },
   "outputs": [],
   "source": [
    "onex = np.ones(N)\n",
    "Dx = spdiags(np.array([onex,-2*onex,onex]),\\\n",
    "        np.array([-1,0,1]),N,N).toarray()\n",
    "Dx[0,0] = -1; Dx[N-1,N-1] = -1"
   ]
  },
  {
   "cell_type": "markdown",
   "metadata": {
    "ExecuteTime": {
     "end_time": "2019-02-14T22:59:23.810524Z",
     "start_time": "2019-02-14T22:59:23.806630Z"
    }
   },
   "source": [
    "### Simulation"
   ]
  },
  {
   "cell_type": "code",
   "execution_count": 267,
   "metadata": {
    "ExecuteTime": {
     "end_time": "2019-02-15T00:41:19.901763Z",
     "start_time": "2019-02-15T00:41:19.892303Z"
    }
   },
   "outputs": [],
   "source": [
    "def rhs3(y,t):\n",
    "    '''right-hand side for integration in section III'''\n",
    "    c, c_t, h, ip, v = \\\n",
    "    y[0:N], y[N:2*N], y[2*N:3*N], y[3*N:4*N], y[4*N:5*N]\n",
    "    \n",
    "    dipdt = np.zeros(N)\n",
    "    \n",
    "    dcdt = j_ip3r(c, c_t, h, ip) - j_serca(c) + j_leak(c, c_t) + \\\n",
    "    (j_in() - j_out(c) - j_pmca(c) + j_soc(c,c_t))*delta\n",
    "    \n",
    "    dctdt =  (j_in() - j_out(c) - j_pmca(c) + j_soc(c,c_t))*delta\n",
    "    \n",
    "    dhdt =  (h_inf(c, ip)-h)/tau_h(c, ip)\n",
    "\n",
    "    dipdt = - r_decay2 * ip + j_vip(v,4)\n",
    "    dipdt[0] = r_rise * stim(t) - r_decay2 * ip[0] + j_vip(v[0],4)\n",
    "\n",
    "    dvdt = - (j_cav(c,v) + j_ionic(v)) / c_m + gc * Dx@v\n",
    "    \n",
    "    deriv = np.array([dcdt, dctdt, dhdt, dipdt, dvdt])\n",
    "    \n",
    "    dydt = np.reshape(deriv, N*N)\n",
    "    \n",
    "    return dydt\n",
    "        "
   ]
  },
  {
   "cell_type": "code",
   "execution_count": 268,
   "metadata": {
    "ExecuteTime": {
     "end_time": "2019-02-15T00:41:30.270393Z",
     "start_time": "2019-02-15T00:41:20.334543Z"
    }
   },
   "outputs": [],
   "source": [
    "# initial conditions\n",
    "t = np.linspace(0, T, int(T/dt))\n",
    "y0 = np.array([[c0]*N, [ct0]*N, [h0]*N, [ip0]*N, [v0]*N])\n",
    "y0 = np.reshape(y0, N*N)\n",
    "\n",
    "# integrate\n",
    "sol = odeint(rhs3, y0, t, hmax = 0.005) "
   ]
  },
  {
   "cell_type": "code",
   "execution_count": 269,
   "metadata": {
    "ExecuteTime": {
     "end_time": "2019-02-15T00:41:30.640193Z",
     "start_time": "2019-02-15T00:41:30.635143Z"
    },
    "scrolled": false
   },
   "outputs": [],
   "source": [
    "c = sol[:, 0:N]\n",
    "c_t = sol[:, N:2*N]\n",
    "h = sol[:, 2*N:3*N]\n",
    "ip = sol[:, 3*N:4*N]\n",
    "v = sol[:, 4*N:5*N]"
   ]
  },
  {
   "cell_type": "markdown",
   "metadata": {
    "ExecuteTime": {
     "end_time": "2019-02-14T23:43:59.568094Z",
     "start_time": "2019-02-14T23:43:59.562443Z"
    }
   },
   "source": [
    "### Plot the results"
   ]
  },
  {
   "cell_type": "code",
   "execution_count": 270,
   "metadata": {
    "ExecuteTime": {
     "end_time": "2019-02-15T00:41:31.471832Z",
     "start_time": "2019-02-15T00:41:30.964601Z"
    }
   },
   "outputs": [
    {
     "data": {
      "image/png": "[encoded data removed]",
      "text/plain": [
       "<Figure size 432x288 with 1 Axes>"
      ]
     },
     "metadata": {
      "needs_background": "light"
     },
     "output_type": "display_data"
    },
    {
     "data": {
      "image/png": "[encoded data removed]",
      "text/plain": [
       "<Figure size 432x288 with 1 Axes>"
      ]
     },
     "metadata": {
      "needs_background": "light"
     },
     "output_type": "display_data"
    }
   ],
   "source": [
    "plt.figure()\n",
    "plt.plot(TIME[0:-1], c, 'k-', label = 'c(t)')\n",
    "plt.plot(TIME[0:-1], ip, 'r--', label = 'ip(t)')\n",
    "plt.xlabel('time/s')\n",
    "plt.ylabel('concentration/uM')\n",
    "#plt.legend()\n",
    "plt.show()\n",
    "\n",
    "plt.figure()\n",
    "plt.plot(TIME[0:-1], v, label = 'membrane potential')\n",
    "plt.xlabel('time/s')\n",
    "plt.ylabel('voltage/mV')\n",
    "#plt.legend()\n",
    "plt.show()"
   ]
  },
  {
   "cell_type": "code",
   "execution_count": 257,
   "metadata": {
    "ExecuteTime": {
     "end_time": "2019-02-15T00:36:03.337734Z",
     "start_time": "2019-02-15T00:36:03.331620Z"
    }
   },
   "outputs": [
    {
     "data": {
      "text/plain": [
       "array([[-1.,  1.,  0.,  0.,  0.],\n",
       "       [ 1., -2.,  1.,  0.,  0.],\n",
       "       [ 0.,  1., -2.,  1.,  0.],\n",
       "       [ 0.,  0.,  1., -2.,  1.],\n",
       "       [ 0.,  0.,  0.,  1., -1.]])"
      ]
     },
     "execution_count": 257,
     "metadata": {},
     "output_type": "execute_result"
    }
   ],
   "source": [
    "Dx"
   ]
  },
  {
   "cell_type": "code",
   "execution_count": null,
   "metadata": {},
   "outputs": [],
   "source": []
  }
 ],
 "metadata": {
  "kernelspec": {
   "display_name": "Python 3",
   "language": "python",
   "name": "python3"
  },
  "language_info": {
   "codemirror_mode": {
    "name": "ipython",
    "version": 3
   },
   "file_extension": ".py",
   "mimetype": "text/x-python",
   "name": "python",
   "nbconvert_exporter": "python",
   "pygments_lexer": "ipython3",
   "version": "3.6.8"
  },
  "latex_envs": {
   "LaTeX_envs_menu_present": true,
   "autoclose": false,
   "autocomplete": true,
   "bibliofile": "biblio.bib",
   "cite_by": "apalike",
   "current_citInitial": 1,
   "eqLabelWithNumbers": true,
   "eqNumInitial": 1,
   "hotkeys": {
    "equation": "Ctrl-E",
    "itemize": "Ctrl-I"
   },
   "labels_anchors": false,
   "latex_user_defs": false,
   "report_style_numbering": false,
   "user_envs_cfg": false
  },
  "varInspector": {
   "cols": {
    "lenName": 16,
    "lenType": 16,
    "lenVar": 40
   },
   "kernels_config": {
    "python": {
     "delete_cmd_postfix": "",
     "delete_cmd_prefix": "del ",
     "library": "var_list.py",
     "varRefreshCmd": "print(var_dic_list())"
    },
    "r": {
     "delete_cmd_postfix": ") ",
     "delete_cmd_prefix": "rm(",
     "library": "var_list.r",
     "varRefreshCmd": "cat(var_dic_list()) "
    }
   },
   "position": {
    "height": "652px",
    "left": "364px",
    "right": "20px",
    "top": "120px",
    "width": "336px"
   },
   "types_to_exclude": [
    "module",
    "function",
    "builtin_function_or_method",
    "instance",
    "_Feature"
   ],
   "window_display": false
  }
 },
 "nbformat": 4,
 "nbformat_minor": 2
}
