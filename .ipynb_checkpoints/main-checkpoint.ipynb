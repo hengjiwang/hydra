{
 "cells": [
  {
   "cell_type": "markdown",
   "metadata": {},
   "source": [
    "# Hydra myoepithelial cells calcium model"
   ]
  },
  {
   "cell_type": "code",
   "execution_count": 3,
   "metadata": {
    "ExecuteTime": {
     "end_time": "2019-02-06T00:36:44.790844Z",
     "start_time": "2019-02-06T00:36:43.661442Z"
    }
   },
   "outputs": [],
   "source": [
    "import numpy as np\n",
    "import matplotlib.pyplot as plt\n",
    "import csv"
   ]
  },
  {
   "cell_type": "markdown",
   "metadata": {},
   "source": [
    "## Single cellular dynamics"
   ]
  },
  {
   "cell_type": "markdown",
   "metadata": {},
   "source": [
    "### Parameters"
   ]
  },
  {
   "cell_type": "code",
   "execution_count": 6,
   "metadata": {
    "ExecuteTime": {
     "end_time": "2019-02-06T00:48:56.705815Z",
     "start_time": "2019-02-06T00:48:56.652730Z"
    }
   },
   "outputs": [],
   "source": [
    "# Numerical parameters\n",
    "T = 200\n",
    "DT = 0.005\n",
    "TIME = np.arange(0, T+dt, dt)\n",
    "\n",
    "# Initial conditions \n",
    "c0 = 0.0865415\n",
    "h0 = 0.6255124\n",
    "ct0 = 36.49084\n",
    "\n",
    "# Volume ratio\n",
    "gamma=5.4054\n",
    "\n",
    "# Leak for ER\n",
    "v_leak = 0.002\n",
    "\n",
    "# Leak across plasma membrane\n",
    "v_in = 0.05\n",
    "k_out = 1.2\n",
    "\n",
    "# IP3R parameters\n",
    "v_ip3r = 0.222\n",
    "d_1 = 0.13; d_2 = 1.049; d_3 = 0.9434; d_5= 0.08234; \n",
    "a_2 = 0.04\n",
    "\n",
    "# PMCA terms\n",
    "v_pmca = 10\n",
    "k_pmca = 2.5\n",
    "\n",
    "# SOC terms\n",
    "v_soc = 1.57\n",
    "k_soc = 90\n",
    "\n",
    "# SERCA terms\n",
    "v_serca = 0.9\n",
    "k_serca = 0.1\n",
    "\n",
    "# Sneyd Parameter\n",
    "delta = 0.2\n",
    "\n",
    "# IP3 parameters\n",
    "amp = 0.2\n",
    "d_rise = 1\n",
    "r_rise = 0.2\n",
    "d_decay = 30\n",
    "stim_time = 20\n",
    "stim_time2 = 28; stim_time3 = 34; stim_time4 = 38.5;   \n",
    "stim_time5 = 42; stim_time6 = 46; stim_time7 = 50; stim_time8 = 58"
   ]
  },
  {
   "cell_type": "markdown",
   "metadata": {},
   "source": [
    "### Functions\n",
    "\n",
    "In the stable state, the amount of currents through ER and through membrane should separately be zero, which means \n",
    "$$j_{IP_3R} + j_{leak} - j_{serca} = 0$$\n",
    "and \n",
    "$$j_{in} - j_{out} - j_{pmca} + j_{soc} = 0$$"
   ]
  },
  {
   "cell_type": "code",
   "execution_count": 22,
   "metadata": {
    "ExecuteTime": {
     "end_time": "2019-02-06T07:15:40.886594Z",
     "start_time": "2019-02-06T07:15:40.884406Z"
    }
   },
   "outputs": [],
   "source": [
    "#class cell:\n",
    "#    def __init__(self, x, y):\n",
    "#        self.x = x\n",
    "#        self.y = y\n",
    "#        self.c = zeros(len(TIME))\n",
    "#        self.c_t = zeros(len(TIME))\n",
    "#        self.h = zeros(len(TIME))\n",
    "#        # self.ip = zeros(len(TIME))"
   ]
  },
  {
   "cell_type": "code",
   "execution_count": 38,
   "metadata": {
    "ExecuteTime": {
     "end_time": "2019-02-06T07:37:47.146298Z",
     "start_time": "2019-02-06T07:37:47.116520Z"
    }
   },
   "outputs": [],
   "source": [
    "# Terms on ER\n",
    "def j_ip3r(c, c_t, h, ip):\n",
    "    '''IP3R current, ER -> cytosol'''\n",
    "    m_inf = ip/(ip+d_1)\n",
    "    n_inf = c/(c+d_5)\n",
    "    h_inf = d_2*(ip+d_1)/(ip+d_3)\n",
    "\n",
    "    return v_ip3r * m_inf**3 * n_inf**3 * h**3 * \\\n",
    "    ((c_t-c)*gamma - c)\n",
    "\n",
    "def j_leak(c, c_t):\n",
    "    '''leak current, ER -> cytosol'''\n",
    "    return v_leak * ((c_t-c)*gamma - c)\n",
    "\n",
    "def j_serca(c):\n",
    "    '''SERCA pump, cytosol -> ER'''\n",
    "    return v_serca* c**1.75 / (c**1.75 + k_serca**1.75)\n",
    "\n",
    "# Terms on membrane\n",
    "def j_in():\n",
    "    '''input current, outside -> cytosol'''\n",
    "    return v_in\n",
    "\n",
    "def j_out(c):\n",
    "    '''output current, cytosol -> outside'''\n",
    "    return k_out * c\n",
    "\n",
    "def j_pmca(c):\n",
    "    '''PMCA pump, cytosol -> outside'''\n",
    "    return v_pmca * c**2 / (k_pmca**2 + c**2)\n",
    "\n",
    "def j_soc(c):\n",
    "    '''SOCC, outside -> cytosol'''\n",
    "    return v_soc * k_soc**4 / (k_soc**4 + ((c_t-c)*gamma)**4)"
   ]
  },
  {
   "cell_type": "markdown",
   "metadata": {},
   "source": [
    "## Multicellular dynamics"
   ]
  },
  {
   "cell_type": "markdown",
   "metadata": {},
   "source": [
    "### Parameters"
   ]
  },
  {
   "cell_type": "code",
   "execution_count": 25,
   "metadata": {
    "ExecuteTime": {
     "end_time": "2019-02-06T07:16:20.633519Z",
     "start_time": "2019-02-06T07:16:20.626527Z"
    }
   },
   "outputs": [],
   "source": [
    "# Grid layout\n",
    "N = 5\n",
    "\n",
    "# Diffusion coefficient\n",
    "DIP = 30"
   ]
  },
  {
   "cell_type": "markdown",
   "metadata": {},
   "source": [
    "### Grid initialization"
   ]
  },
  {
   "cell_type": "code",
   "execution_count": 34,
   "metadata": {
    "ExecuteTime": {
     "end_time": "2019-02-06T07:19:35.827887Z",
     "start_time": "2019-02-06T07:19:35.822560Z"
    }
   },
   "outputs": [],
   "source": [
    "matc = np.zeros((N,N))\n",
    "matct = np.zeros((N,N))\n",
    "math = np.zeros((N,N))\n",
    "matip = np.zeros((N,N))"
   ]
  },
  {
   "cell_type": "markdown",
   "metadata": {},
   "source": [
    "### Time stepping"
   ]
  },
  {
   "cell_type": "code",
   "execution_count": 30,
   "metadata": {
    "ExecuteTime": {
     "end_time": "2019-02-06T07:16:43.760630Z",
     "start_time": "2019-02-06T07:16:43.751598Z"
    }
   },
   "outputs": [
    {
     "data": {
      "text/plain": [
       "array([[0., 0., 0., 0., 0.],\n",
       "       [0., 0., 0., 0., 0.],\n",
       "       [0., 0., 0., 0., 0.],\n",
       "       [0., 0., 0., 0., 0.],\n",
       "       [0., 0., 0., 0., 0.]])"
      ]
     },
     "execution_count": 30,
     "metadata": {},
     "output_type": "execute_result"
    }
   ],
   "source": [
    "def rhs(col):\n",
    "    '''right-hand side for odeint'''\n",
    "    \n",
    "    # separate c,c_t and h\n",
    "    colc = col[0:N*N]\n",
    "    colct = col[N*N:2*N*N]\n",
    "    colh = col[2*N*N:]\n",
    "    \n",
    "    # "
   ]
  },
  {
   "cell_type": "code",
   "execution_count": null,
   "metadata": {},
   "outputs": [],
   "source": []
  }
 ],
 "metadata": {
  "kernelspec": {
   "display_name": "Python 3",
   "language": "python",
   "name": "python3"
  },
  "language_info": {
   "codemirror_mode": {
    "name": "ipython",
    "version": 3
   },
   "file_extension": ".py",
   "mimetype": "text/x-python",
   "name": "python",
   "nbconvert_exporter": "python",
   "pygments_lexer": "ipython3",
   "version": "3.6.5"
  },
  "latex_envs": {
   "LaTeX_envs_menu_present": true,
   "autoclose": false,
   "autocomplete": true,
   "bibliofile": "biblio.bib",
   "cite_by": "apalike",
   "current_citInitial": 1,
   "eqLabelWithNumbers": true,
   "eqNumInitial": 1,
   "hotkeys": {
    "equation": "Ctrl-E",
    "itemize": "Ctrl-I"
   },
   "labels_anchors": false,
   "latex_user_defs": false,
   "report_style_numbering": false,
   "user_envs_cfg": false
  },
  "varInspector": {
   "cols": {
    "lenName": 16,
    "lenType": 16,
    "lenVar": 40
   },
   "kernels_config": {
    "python": {
     "delete_cmd_postfix": "",
     "delete_cmd_prefix": "del ",
     "library": "var_list.py",
     "varRefreshCmd": "print(var_dic_list())"
    },
    "r": {
     "delete_cmd_postfix": ") ",
     "delete_cmd_prefix": "rm(",
     "library": "var_list.r",
     "varRefreshCmd": "cat(var_dic_list()) "
    }
   },
   "types_to_exclude": [
    "module",
    "function",
    "builtin_function_or_method",
    "instance",
    "_Feature"
   ],
   "window_display": false
  }
 },
 "nbformat": 4,
 "nbformat_minor": 2
}
