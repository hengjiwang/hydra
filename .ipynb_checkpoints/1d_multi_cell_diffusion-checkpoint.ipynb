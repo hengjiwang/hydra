{
 "cells": [
  {
   "cell_type": "code",
   "execution_count": 1,
   "metadata": {},
   "outputs": [],
   "source": [
    "from single_cell_model_hh2 import SingleCellCalciumModelHH2\n",
    "import numpy as np\n",
    "import matplotlib.pyplot as plt\n",
    "from scipy.sparse import spdiags\n",
    "from scipy.integrate import odeint\n",
    "from fluorescence_encoder import FluorescenceEncoder"
   ]
  },
  {
   "cell_type": "code",
   "execution_count": 2,
   "metadata": {},
   "outputs": [],
   "source": [
    "T = 20\n",
    "dt = 0.001"
   ]
  },
  {
   "cell_type": "code",
   "execution_count": 3,
   "metadata": {},
   "outputs": [],
   "source": [
    "class CellChainCalciumModel(SingleCellCalciumModelCaL2):\n",
    "    def __init__(self, num):\n",
    "        super().__init__()\n",
    "        self.num = num\n",
    "        self.g_ip3 = 10\n",
    "        onex = np.ones(self.num)\n",
    "        oney = np.ones(self.num)\n",
    "        \n",
    "        self.Dx = spdiags(np.array([onex,-2*onex,onex]),\\\n",
    "        np.array([-1,0,1]),self.num,self.num).toarray()\n",
    "        \n",
    "        self.Dx[0,0] = -1\n",
    "        self.Dx[self.num-1,self.num-1] = -1 \n",
    "        self.time = np.linspace(0, T, int(T/dt))\n",
    "    \n",
    "    # Override\n",
    "    def rhs(self, y, t):\n",
    "        \n",
    "        c, c_t, hh, ip, v, m, h, n, m_cal, h_cal = y[0:self.num], \\\n",
    "        y[self.num:2*self.num], y[2*self.num:3*self.num], \\\n",
    "        y[3*self.num:4*self.num], y[4*self.num:5*self.num], \\\n",
    "        y[5*self.num:6*self.num], y[6*self.num:7*self.num], \\\n",
    "        y[7*self.num:8*self.num], y[8*self.num:9*self.num], \\\n",
    "        y[9*self.num:10*self.num]\n",
    "    \n",
    "        dcdt = (self.i_ip3r(c, c_t, hh, ip) \\\n",
    "             - self.i_serca(c) \\\n",
    "             + self.i_leak(c, c_t)) \\\n",
    "             + (- self.i_pmca(c) \\\n",
    "                - self.i_cal(v, m_cal, h_cal) \\\n",
    "                + self.i_soc(c, c_t) \\\n",
    "                - self.i_out(c)) * self.delta\n",
    "        \n",
    "        dctdt = (- self.i_pmca(c) - self.i_cal(v, m_cal, h_cal) + self.i_soc(c, c_t) - self.i_out(c))\\\n",
    "                 * self.delta\n",
    "\n",
    "        dhhdt = (self.hh_inf(c, ip) - hh) / self.tau_hh(c, ip)\n",
    "\n",
    "        dipdt = np.zeros(self.num)\n",
    "        \n",
    "        dvdt = - (self.i_na(v,m,h) \\\n",
    "                  + self.i_k(v,n) \\\n",
    "                  + self.i_bk(v) \\\n",
    "                  + 2*self.i_cal(v, m_cal, h_cal))/self.c_m\\\n",
    "               + self.gc * self.Dx@v\n",
    "        \n",
    "        dvdt[0:3] += self.stim(t)/self.c_m\n",
    "        \n",
    "        dmdt = self.alpha_m(v) * (1-m) - self.beta_m(v) * m\n",
    "        dhdt = self.alpha_h(v) * (1-h) - self.beta_h(v) * h\n",
    "        dndt = self.alpha_n(v) * (1-n) - self.beta_n(v) * n\n",
    "        dmcaldt = (self.m_cal_inf(v) - m_cal) / self.tau_cal_m(v)\n",
    "        dhcaldt = (self.h_cal_inf(v) - h_cal) / self.tau_cal_h(v)\n",
    "        \n",
    "        deriv = np.array([dcdt, dctdt, \\\n",
    "                          dhhdt, dipdt, dvdt, dmdt, dhdt, dndt, dmcaldt, dhcaldt])\n",
    "        \n",
    "        dydt = np.reshape(deriv, 10*self.num)  \n",
    "        \n",
    "        return dydt\n",
    "    \n",
    "    # Override\n",
    "    def step(self):\n",
    "        self.hh0 = self.hh_inf(self.c0, self.ip0)\n",
    "        \n",
    "        y0 = np.array([[self.c0]*self.num, \\\n",
    "                       [self.ct0]*self.num, \\\n",
    "                       [self.hh0]*self.num, \\\n",
    "                       [self.ip0]*self.num, \\\n",
    "                       [self.v0]*self.num, \\\n",
    "                       [self.m0]*self.num, \\\n",
    "                       [self.h0]*self.num, \\\n",
    "                       [self.n0]*self.num, \\\n",
    "                       [self.m_cal0]*self.num, \\\n",
    "                       [self.h_cal0]*self.num])\n",
    "        y0 = np.reshape(y0, 10*self.num)\n",
    "        \n",
    "        sol = odeint(self.rhs, y0, self.time, hmax = 0.005)\n",
    "        return sol\n",
    "    \n",
    "    # Plot\n",
    "    def plot(self, a, tmin=0, tmax=-1):\n",
    "        \n",
    "        plt.figure(figsize=(7,4))\n",
    "        plt.plot(self.time[int(tmin/dt):int(tmax/dt)], a[int(tmin/dt):int(tmax/dt)])\n",
    "        plt.show()"
   ]
  },
  {
   "cell_type": "code",
   "execution_count": 4,
   "metadata": {},
   "outputs": [],
   "source": [
    "if __name__ == '__main__':\n",
    "    \n",
    "    n_cel = 10\n",
    "    \n",
    "    model = CellChainCalciumModel(n_cel)\n",
    "    sol = model.step()\n",
    "    c = sol[:, 0:n_cel]\n",
    "    c_t = sol[:, n_cel:2*n_cel]\n",
    "    hh = sol[:, 2*n_cel:3*n_cel]\n",
    "    ip = sol[:, 3*n_cel:4*n_cel]\n",
    "    v = sol[:, 4*n_cel:5*n_cel]"
   ]
  },
  {
   "cell_type": "code",
   "execution_count": 14,
   "metadata": {},
   "outputs": [
    {
     "data": {
      "text/plain": [
       "[<matplotlib.lines.Line2D at 0x7fed87228390>]"
      ]
     },
     "execution_count": 14,
     "metadata": {},
     "output_type": "execute_result"
    },
    {
     "data": {
      "image/png": "[encoded data removed]",
      "text/plain": [
       "<Figure size 432x288 with 1 Axes>"
      ]
     },
     "metadata": {
      "needs_background": "light"
     },
     "output_type": "display_data"
    }
   ],
   "source": [
    "plt.plot(c[:,0])"
   ]
  },
  {
   "cell_type": "code",
   "execution_count": 58,
   "metadata": {},
   "outputs": [
    {
     "data": {
      "image/png": "[encoded data removed]",
      "text/plain": [
       "<Figure size 1080x144 with 1 Axes>"
      ]
     },
     "metadata": {
      "needs_background": "light"
     },
     "output_type": "display_data"
    }
   ],
   "source": [
    "plt.figure(figsize = (15,2))\n",
    "plt.plot(model.time, FluorescenceEncoder(c[:,0], T, dt).step())\n",
    "plt.show()"
   ]
  },
  {
   "cell_type": "code",
   "execution_count": 55,
   "metadata": {},
   "outputs": [
    {
     "data": {
      "text/plain": [
       "(20000,)"
      ]
     },
     "execution_count": 55,
     "metadata": {},
     "output_type": "execute_result"
    }
   ],
   "source": [
    "np.sum(c,1).shape"
   ]
  },
  {
   "cell_type": "code",
   "execution_count": null,
   "metadata": {},
   "outputs": [],
   "source": []
  }
 ],
 "metadata": {
  "kernelspec": {
   "display_name": "Python 3",
   "language": "python",
   "name": "python3"
  },
  "language_info": {
   "codemirror_mode": {
    "name": "ipython",
    "version": 3
   },
   "file_extension": ".py",
   "mimetype": "text/x-python",
   "name": "python",
   "nbconvert_exporter": "python",
   "pygments_lexer": "ipython3",
   "version": "3.6.8"
  }
 },
 "nbformat": 4,
 "nbformat_minor": 2
}
