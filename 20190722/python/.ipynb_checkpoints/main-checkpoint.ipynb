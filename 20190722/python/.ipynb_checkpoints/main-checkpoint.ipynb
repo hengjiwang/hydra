{
 "cells": [
  {
   "cell_type": "markdown",
   "metadata": {},
   "source": [
    "# Modeling Calcium Dynamics for Myoepithelial Cells in Hydra¶"
   ]
  },
  {
   "cell_type": "code",
   "execution_count": 1,
   "metadata": {
    "ExecuteTime": {
     "end_time": "2019-04-01T16:59:28.887624Z",
     "start_time": "2019-04-01T16:59:28.412348Z"
    }
   },
   "outputs": [],
   "source": [
    "import numpy as np\n",
    "import matplotlib.pyplot as plt\n",
    "import matplotlib.animation as anim\n",
    "from IPython.display import HTML\n",
    "import csv\n",
    "from imp import reload\n",
    "from scipy.integrate import odeint\n",
    "from tqdm import tqdm_notebook, _tqdm_notebook, tnrange\n",
    "import functions\n",
    "import plot_results\n",
    "from functions import *"
   ]
  },
  {
   "cell_type": "markdown",
   "metadata": {},
   "source": [
    "#### v_serca"
   ]
  },
  {
   "cell_type": "code",
   "execution_count": 2,
   "metadata": {
    "ExecuteTime": {
     "end_time": "2019-03-30T18:06:50.398546Z",
     "start_time": "2019-03-30T18:06:50.393205Z"
    }
   },
   "outputs": [
    {
     "data": {
      "text/plain": [
       "1.44705290611436"
      ]
     },
     "execution_count": 2,
     "metadata": {},
     "output_type": "execute_result"
    }
   ],
   "source": [
    "(j_ip3r(c0, ct0, h0, ip0) + j_leak(c0, ct0))/(c0**1.75 / (c0**1.75 + k_serca**1.75))"
   ]
  },
  {
   "cell_type": "markdown",
   "metadata": {},
   "source": [
    "#### e_l"
   ]
  },
  {
   "cell_type": "code",
   "execution_count": 3,
   "metadata": {
    "ExecuteTime": {
     "end_time": "2019-03-30T18:06:51.508471Z",
     "start_time": "2019-03-30T18:06:51.504605Z"
    }
   },
   "outputs": [
    {
     "data": {
      "text/plain": [
       "-57.03158532907785"
      ]
     },
     "execution_count": 3,
     "metadata": {},
     "output_type": "execute_result"
    }
   ],
   "source": [
    "v0 - (- j_k(v0, n0) - j_na(v0, m0, hh0) - 2*j_vgcc(v0)) / v_l "
   ]
  },
  {
   "cell_type": "markdown",
   "metadata": {},
   "source": [
    "#### v_in"
   ]
  },
  {
   "cell_type": "code",
   "execution_count": 4,
   "metadata": {
    "ExecuteTime": {
     "end_time": "2019-03-30T18:06:52.278945Z",
     "start_time": "2019-03-30T18:06:52.276710Z"
    }
   },
   "outputs": [
    {
     "data": {
      "text/plain": [
       "0.4447377986652488"
      ]
     },
     "execution_count": 4,
     "metadata": {},
     "output_type": "execute_result"
    }
   ],
   "source": [
    "0.05 - j_vgcc(v0)"
   ]
  },
  {
   "cell_type": "markdown",
   "metadata": {},
   "source": [
    "## Time Stepping"
   ]
  },
  {
   "cell_type": "markdown",
   "metadata": {},
   "source": [
    "### Single cell"
   ]
  },
  {
   "cell_type": "code",
   "execution_count": 5,
   "metadata": {
    "ExecuteTime": {
     "end_time": "2019-04-01T05:39:46.776694Z",
     "start_time": "2019-04-01T05:39:46.267366Z"
    }
   },
   "outputs": [],
   "source": [
    "# initial conditions\n",
    "t = np.linspace(0, T, int(T/dt))\n",
    "y0 = [c0, ct0, h0, ip0, v0, n0, m0, hh0]\n",
    "\n",
    "# integrate\n",
    "sol = odeint(rhs1, y0, t, hmax = 0.005)\n",
    "\n",
    "c = sol[:, 0]\n",
    "c_t = sol[:, 1]\n",
    "h = sol[:, 2]\n",
    "ip = sol[:, 3]\n",
    "v = sol[:, 4]\n",
    "n = sol[:, 5]\n",
    "m = sol[:, 6]\n",
    "hh = sol[:, 7]"
   ]
  },
  {
   "cell_type": "markdown",
   "metadata": {},
   "source": [
    "### 1D multiple cells"
   ]
  },
  {
   "cell_type": "code",
   "execution_count": 16,
   "metadata": {
    "ExecuteTime": {
     "end_time": "2019-04-01T05:40:22.662335Z",
     "start_time": "2019-04-01T05:40:22.653782Z"
    }
   },
   "outputs": [],
   "source": [
    "# initial conditions\n",
    "t = np.linspace(0, T, int(T/dt))\n",
    "y0 = np.array([[c0]*N, [ct0]*N, [h0]*N, [ip0]*N, [v0]*N, \\\n",
    "              [n0]*N, [m0]*N, [hh0]*N])\n",
    "y0 = np.reshape(y0, 8*N)\n",
    "\n",
    "# integrate and store speeds\n",
    "\n",
    "speeds = []\n",
    "\n",
    "for gc in np.arange(0,1000,50):\n",
    "    \n",
    "    sol = odeint(rhs2, y0, t, args = (gc,), hmax = 0.005) \n",
    "\n",
    "    c = sol[:, 0:N]\n",
    "    c_t = sol[:, N:2*N]\n",
    "    h = sol[:, 2*N:3*N]\n",
    "    ip = sol[:, 3*N:4*N]\n",
    "    v = sol[:, 4*N:5*N]\n",
    "    n = sol[:, 5*N:6*N]\n",
    "    m = sol[:, 6*N:7*N]\n",
    "    hh = sol[:, 7*N:8*N]\n",
    "    \n",
    "    time_delay = (np.where(c[:,-1] == np.max(c[:,-1]))[0][0] - np.where(c[:,0]==np.max(c[:,0]))[0][0])*dt\n",
    "    speeds.append(N*0.03/time_delay)"
   ]
  },
  {
   "cell_type": "code",
   "execution_count": 19,
   "metadata": {},
   "outputs": [
    {
     "data": {
      "text/plain": [
       "[<matplotlib.lines.Line2D at 0x7fb14c6e2160>]"
      ]
     },
     "execution_count": 19,
     "metadata": {},
     "output_type": "execute_result"
    },
    {
     "data": {
      "image/png": "[encoded data removed]",
      "text/plain": [
       "<Figure size 432x288 with 1 Axes>"
      ]
     },
     "metadata": {
      "needs_background": "light"
     },
     "output_type": "display_data"
    }
   ],
   "source": [
    "plt.plot(np.arange(0,1000,50), speeds, 'ro-')"
   ]
  },
  {
   "cell_type": "markdown",
   "metadata": {},
   "source": [
    "### 2D multiple cells"
   ]
  },
  {
   "cell_type": "code",
   "execution_count": null,
   "metadata": {
    "ExecuteTime": {
     "end_time": "2019-04-01T17:02:29.298574Z",
     "start_time": "2019-04-01T16:59:33.658584Z"
    }
   },
   "outputs": [],
   "source": [
    "# initial conditions\n",
    "t = np.linspace(0, T, int(T/dt))\n",
    "y0 = np.array([c0*np.ones((N,N)), ct0*np.ones((N,N)), h0*np.ones((N,N)), \\\n",
    "              ip0*np.ones((N,N)), v0*np.ones((N,N)), \\\n",
    "              n0*np.ones((N,N)), m0*np.ones((N,N)), hh0*np.ones((N,N))])\n",
    "y0 = np.reshape(y0, 8*N*N)\n",
    "\n",
    "# integrate\n",
    "sol = odeint(rhs21, y0, t, hmax = 0.005) "
   ]
  },
  {
   "cell_type": "code",
   "execution_count": null,
   "metadata": {
    "ExecuteTime": {
     "end_time": "2019-04-01T17:02:29.484543Z",
     "start_time": "2019-04-01T17:02:29.482648Z"
    }
   },
   "outputs": [],
   "source": [
    "c = np.reshape(sol[:,0:N*N], (-1,N,N))"
   ]
  },
  {
   "cell_type": "code",
   "execution_count": null,
   "metadata": {
    "ExecuteTime": {
     "start_time": "2019-04-01T17:05:30.713Z"
    },
    "scrolled": false
   },
   "outputs": [],
   "source": [
    "%matplotlib notebook\n",
    "fig, ax = plt.subplots()\n",
    "ims = []\n",
    "for j in tnrange(np.int(T/(100*dt))):\n",
    "    im = plt.imshow(c[j*100], cmap = 'jet', animated = True, vmin=0, vmax=1.4)\n",
    "    ims.append([im])\n",
    "\n",
    "ani = anim.ArtistAnimation(fig, ims, interval = 1, blit=False)\n",
    "\n",
    "plt.show()"
   ]
  },
  {
   "cell_type": "code",
   "execution_count": 29,
   "metadata": {
    "ExecuteTime": {
     "end_time": "2019-04-01T07:54:52.702547Z",
     "start_time": "2019-04-01T07:54:52.429423Z"
    }
   },
   "outputs": [
    {
     "data": {
      "text/plain": [
       "(array([201483]), array([0]), array([6]))"
      ]
     },
     "execution_count": 29,
     "metadata": {},
     "output_type": "execute_result"
    }
   ],
   "source": [
    "np.where(np.max(c)==c)"
   ]
  },
  {
   "cell_type": "markdown",
   "metadata": {},
   "source": [
    "## Plot Results"
   ]
  },
  {
   "cell_type": "code",
   "execution_count": 8,
   "metadata": {
    "ExecuteTime": {
     "end_time": "2019-04-01T05:40:28.120274Z",
     "start_time": "2019-04-01T05:40:22.700426Z"
    }
   },
   "outputs": [
    {
     "data": {
      "image/png": "[encoded data removed]",
      "text/plain": [
       "<Figure size 1080x360 with 2 Axes>"
      ]
     },
     "metadata": {
      "needs_background": "light"
     },
     "output_type": "display_data"
    }
   ],
   "source": [
    "plt.figure(figsize=(15,5))\n",
    "plt.subplot(121)\n",
    "plt.plot(TIME[190000:208000], c[190000:208000, -10:-1], '-', label = 'c(t)')\n",
    "# plt.plot(TIME[0:-1], c, '-', label = 'c(t)')\n",
    "plt.xlabel('time/s')\n",
    "plt.ylabel('concentration/uM')\n",
    "#plt.legend()\n",
    "# plt.show()\n",
    "\n",
    "plt.subplot(122)\n",
    "# plt.plot(TIME[190000:210000], v[190000:210000], label = 'membrane potential')\n",
    "plt.plot(TIME[0:-1], ip, '-', label = 'ip(t)')\n",
    "plt.xlabel('time/s')\n",
    "plt.ylabel('voltage/mV')\n",
    "#plt.legend()\n",
    "plt.show()"
   ]
  },
  {
   "cell_type": "markdown",
   "metadata": {},
   "source": [
    "## Propagation Speed"
   ]
  },
  {
   "cell_type": "code",
   "execution_count": 42,
   "metadata": {},
   "outputs": [],
   "source": []
  },
  {
   "cell_type": "code",
   "execution_count": 43,
   "metadata": {},
   "outputs": [
    {
     "data": {
      "text/plain": [
       "14.19558359621451"
      ]
     },
     "execution_count": 43,
     "metadata": {},
     "output_type": "execute_result"
    }
   ],
   "source": [
    "speed"
   ]
  },
  {
   "cell_type": "markdown",
   "metadata": {},
   "source": [
    "# HH model"
   ]
  },
  {
   "cell_type": "code",
   "execution_count": 12,
   "metadata": {
    "ExecuteTime": {
     "end_time": "2019-03-30T05:05:52.135000Z",
     "start_time": "2019-03-30T05:05:52.126886Z"
    }
   },
   "outputs": [],
   "source": [
    "dt = 0.0001\n",
    "t = np.linspace(0, 5, int(5/dt))\n",
    "z0 = [v0, n0, m0, hh0]\n",
    "\n",
    "def hh_rhs(z,t):\n",
    "    v, n, m, hh = z\n",
    "    dndt = 1000*(alpha_n(v) * (1 - n) - beta_n(v) * n) * phi\n",
    "\n",
    "    dmdt = 1000*(alpha_m(v) * (1 - m) - beta_m(v) * m) * phi\n",
    "\n",
    "    dhhdt = 1000*(alpha_hh(v) * (1 - hh) - beta_hh(v) * hh) * phi\n",
    "    dvdt = 1000*(10 - j_k(v, n) - j_na(v, m, hh) \\\n",
    "        - j_l(v))\n",
    "    return [dvdt, dndt, dmdt, dhhdt]"
   ]
  },
  {
   "cell_type": "code",
   "execution_count": 13,
   "metadata": {
    "ExecuteTime": {
     "end_time": "2019-03-30T05:06:00.444324Z",
     "start_time": "2019-03-30T05:05:52.438344Z"
    }
   },
   "outputs": [],
   "source": [
    "hh_sol = odeint(hh_rhs, z0, t, hmax = 0.005)\n",
    "v = hh_sol[:, 0]\n",
    "n = hh_sol[:, 1]\n",
    "m = hh_sol[:, 2]\n",
    "hh = hh_sol[:, 3]"
   ]
  },
  {
   "cell_type": "code",
   "execution_count": 16,
   "metadata": {
    "ExecuteTime": {
     "end_time": "2019-03-30T05:06:14.465180Z",
     "start_time": "2019-03-30T05:06:14.377007Z"
    }
   },
   "outputs": [
    {
     "data": {
      "text/plain": [
       "[<matplotlib.lines.Line2D at 0x7fea220b3908>]"
      ]
     },
     "execution_count": 16,
     "metadata": {},
     "output_type": "execute_result"
    },
    {
     "data": {
      "image/png": "[encoded data removed]",
      "text/plain": [
       "<Figure size 432x288 with 1 Axes>"
      ]
     },
     "metadata": {},
     "output_type": "display_data"
    }
   ],
   "source": [
    "plt.plot(t[0:1000], v[0:1000])"
   ]
  },
  {
   "cell_type": "code",
   "execution_count": null,
   "metadata": {},
   "outputs": [],
   "source": []
  }
 ],
 "metadata": {
  "kernelspec": {
   "display_name": "Python 3",
   "language": "python",
   "name": "python3"
  },
  "language_info": {
   "codemirror_mode": {
    "name": "ipython",
    "version": 3
   },
   "file_extension": ".py",
   "mimetype": "text/x-python",
   "name": "python",
   "nbconvert_exporter": "python",
   "pygments_lexer": "ipython3",
   "version": "3.6.6"
  },
  "latex_envs": {
   "LaTeX_envs_menu_present": true,
   "autoclose": false,
   "autocomplete": true,
   "bibliofile": "biblio.bib",
   "cite_by": "apalike",
   "current_citInitial": 1,
   "eqLabelWithNumbers": true,
   "eqNumInitial": 1,
   "hotkeys": {
    "equation": "Ctrl-E",
    "itemize": "Ctrl-I"
   },
   "labels_anchors": false,
   "latex_user_defs": false,
   "report_style_numbering": false,
   "user_envs_cfg": false
  },
  "varInspector": {
   "cols": {
    "lenName": 16,
    "lenType": 16,
    "lenVar": 40
   },
   "kernels_config": {
    "python": {
     "delete_cmd_postfix": "",
     "delete_cmd_prefix": "del ",
     "library": "var_list.py",
     "varRefreshCmd": "print(var_dic_list())"
    },
    "r": {
     "delete_cmd_postfix": ") ",
     "delete_cmd_prefix": "rm(",
     "library": "var_list.r",
     "varRefreshCmd": "cat(var_dic_list()) "
    }
   },
   "position": {
    "height": "460.5px",
    "left": "559px",
    "right": "20px",
    "top": "120px",
    "width": "340px"
   },
   "types_to_exclude": [
    "module",
    "function",
    "builtin_function_or_method",
    "instance",
    "_Feature"
   ],
   "window_display": false
  }
 },
 "nbformat": 4,
 "nbformat_minor": 2
}
