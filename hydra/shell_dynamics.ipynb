{
 "cells": [
  {
   "cell_type": "code",
   "execution_count": 1,
   "metadata": {},
   "outputs": [],
   "source": [
    "%load_ext autoreload\n",
    "%autoreload 2\n",
    "\n",
    "import sys, os, multiprocessing\n",
    "sys.path.insert(0, os.path.abspath(os.path.join(os.path.abspath(''), '..')))\n",
    "\n",
    "import numpy as np\n",
    "import pandas as pd\n",
    "import matplotlib.pyplot as plt\n",
    "from matplotlib.ticker import MaxNLocator\n",
    "import time\n",
    "import h5py\n",
    "\n",
    "from hydra.model.smc import SMC\n",
    "from hydra.model.force_encoder_ecto import ForceEncoderEcto\n",
    "from hydra.model.force_encoder_endo import ForceEncoderEndo\n",
    "from hydra.model.fluo_encoder import FluoEncoder\n",
    "from hydra.model import plot\n",
    "import hydra.model.helper as helper"
   ]
  },
  {
   "cell_type": "code",
   "execution_count": 16,
   "metadata": {},
   "outputs": [
    {
     "name": "stdout",
     "output_type": "stream",
     "text": [
      "numx=200,numy=200,gc=1000.0,gip3=10.0,sparsity=0.1,T=100,dt=0.0002,k_ipr=0.2,s0=100,d=0.002,v_delta=0.04,k_deg=0.15,shell\n"
     ]
    }
   ],
   "source": [
    "FILENAME = \"2020-06-03-14-40-07-937711\"\n",
    "METAPATH = \"./results/data/meta.txt\"\n",
    "\n",
    "# Load metadata\n",
    "data = pd.read_csv(METAPATH, sep=\"\\s+\")\n",
    "print(data.Metadata[data.Filename == FILENAME].values[0])"
   ]
  },
  {
   "cell_type": "code",
   "execution_count": 17,
   "metadata": {},
   "outputs": [],
   "source": [
    "# Read the simulation results\n",
    "calcium = pd.read_hdf(\"./results/data/calcium/\" + FILENAME + \".h5\")\n",
    "calcium = calcium.values.reshape(len(calcium), 400, 200)"
   ]
  },
  {
   "cell_type": "code",
   "execution_count": null,
   "metadata": {},
   "outputs": [],
   "source": []
  }
 ],
 "metadata": {
  "kernelspec": {
   "display_name": "Python 3",
   "language": "python",
   "name": "python3"
  },
  "language_info": {
   "codemirror_mode": {
    "name": "ipython",
    "version": 3
   },
   "file_extension": ".py",
   "mimetype": "text/x-python",
   "name": "python",
   "nbconvert_exporter": "python",
   "pygments_lexer": "ipython3",
   "version": "3.7.6"
  }
 },
 "nbformat": 4,
 "nbformat_minor": 4
}
