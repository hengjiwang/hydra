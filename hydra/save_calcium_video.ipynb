{
 "cells": [
  {
   "cell_type": "code",
   "execution_count": 17,
   "metadata": {},
   "outputs": [
    {
     "name": "stdout",
     "output_type": "stream",
     "text": [
      "The autoreload extension is already loaded. To reload it, use:\n",
      "  %reload_ext autoreload\n"
     ]
    }
   ],
   "source": [
    "%load_ext autoreload\n",
    "%autoreload 2\n",
    "\n",
    "import sys, os\n",
    "import numpy as np\n",
    "import matplotlib.pyplot as plt\n",
    "sys.path.insert(0, os.path.abspath(os.path.join(os.path.abspath(''), '..')))\n",
    "\n",
    "\n",
    "import pandas as pd\n",
    "import hydra.model.helper as helper\n",
    "\n",
    "from tqdm import tqdm\n",
    "import cv2"
   ]
  },
  {
   "cell_type": "code",
   "execution_count": 18,
   "metadata": {},
   "outputs": [],
   "source": [
    "def load_calcium(filename):\n",
    "\n",
    "    # Read the simulation results\n",
    "    calcium = pd.read_hdf(\"./results/data/calcium/\" + filename + \".h5\")\n",
    "    calcium = calcium.values.reshape(len(calcium), 60, 60)\n",
    "\n",
    "    # Separate ectoderm and endoderm\n",
    "    calcium_ecto = calcium[:, :30, :]\n",
    "    calcium_endo = calcium[:, 30:, :]\n",
    "    \n",
    "    return calcium_ecto, calcium_endo"
   ]
  },
  {
   "cell_type": "code",
   "execution_count": 20,
   "metadata": {},
   "outputs": [],
   "source": [
    "calcium_ecto, calcium_endo = load_calcium(\"2020-09-23-16-11-16-728521\")"
   ]
  },
  {
   "cell_type": "code",
   "execution_count": 21,
   "metadata": {
    "scrolled": true
   },
   "outputs": [
    {
     "name": "stderr",
     "output_type": "stream",
     "text": [
      "100%|██████████| 5000/5000 [09:03<00:00,  9.20it/s]\n"
     ]
    },
    {
     "data": {
      "image/png": "[encoded data removed]",
      "text/plain": [
       "<Figure size 216x216 with 2 Axes>"
      ]
     },
     "metadata": {},
     "output_type": "display_data"
    }
   ],
   "source": [
    "numx = 30\n",
    "numy = 60\n",
    "dpi = 100\n",
    "fps = 200\n",
    "savepath = './results/videos/calcium/'\n",
    "\n",
    "fig = plt.figure(figsize=(300/dpi, 300/dpi))\n",
    "\n",
    "for iframe in tqdm(range(0, len(calcium_ecto), 5)):\n",
    "\n",
    "    plt.clf()\n",
    "\n",
    "    frame_ecto = calcium_ecto[iframe]\n",
    "    frame_endo = calcium_endo[iframe]\n",
    "    frame_ecto = np.flip(frame_ecto.T, 0)\n",
    "    frame_endo = np.flip(frame_endo.T, 0)\n",
    "    \n",
    "    ax1 = fig.add_subplot(1, 2, 1)\n",
    "    ax1.imshow(frame_ecto, cmap='hot', vmin=0, vmax=1)\n",
    "    ax1.set_xticks([])\n",
    "    ax1.set_yticks([])\n",
    "    ax1.patch.set_edgecolor('g')  \n",
    "    ax1.patch.set_alpha(1)\n",
    "    ax1.patch.set_linewidth('10')  \n",
    "    ax1.text(0.05, 0.9, str(int(iframe*0.02)) + 's', size=15, weight=\"bold\", color='white', transform=ax1.transAxes)\n",
    "    \n",
    "    ax2 = fig.add_subplot(1, 2, 2)\n",
    "    ax2.imshow(frame_endo, cmap='hot', vmin=0, vmax=1)\n",
    "    ax2.set_xticks([])\n",
    "    ax2.set_yticks([])\n",
    "    ax2.patch.set_edgecolor('r')  \n",
    "    ax2.patch.set_alpha(1)\n",
    "    ax2.patch.set_linewidth('10') \n",
    "    ax2.text(0.05, 0.9, str(int(iframe*0.02)) + 's', size=15, weight=\"bold\", color='white', transform=ax2.transAxes)\n",
    "\n",
    "    plt.gca().xaxis.set_major_locator(plt.NullLocator())\n",
    "    plt.gca().yaxis.set_major_locator(plt.NullLocator())\n",
    "\n",
    "#     plt.xlim(0, numx)\n",
    "#     plt.ylim(0, numy)\n",
    "#     plt.subplots_adjust(top=1, bottom=0, left=0, right=1, hspace=0, wspace=0)\n",
    "    plt.margins(0, 0)\n",
    "\n",
    "    plt.savefig(savepath + 'frames/img' + str(iframe) + '.jpg', dpi=dpi)\n"
   ]
  },
  {
   "cell_type": "code",
   "execution_count": 22,
   "metadata": {
    "scrolled": true
   },
   "outputs": [
    {
     "name": "stderr",
     "output_type": "stream",
     "text": [
      "100%|██████████| 25000/25000 [00:18<00:00, 1383.44it/s]\n"
     ]
    }
   ],
   "source": [
    "# Save video\n",
    "fourcc = cv2.VideoWriter_fourcc(*'MJPG')\n",
    "videoWriter = cv2.VideoWriter(savepath + '/video.avi', fourcc, fps, (300, 300))\n",
    "\n",
    "for iframe in tqdm(range(len(calcium_ecto))):\n",
    "    frame = cv2.imread(savepath + 'frames/img' + str(iframe) + '.jpg')\n",
    "    videoWriter.write(frame)\n",
    "videoWriter.release()\n",
    "cv2.destroyAllWindows()"
   ]
  },
  {
   "cell_type": "code",
   "execution_count": null,
   "metadata": {},
   "outputs": [],
   "source": []
  }
 ],
 "metadata": {
  "kernelspec": {
   "display_name": "Python 3",
   "language": "python",
   "name": "python3"
  },
  "language_info": {
   "codemirror_mode": {
    "name": "ipython",
    "version": 3
   },
   "file_extension": ".py",
   "mimetype": "text/x-python",
   "name": "python",
   "nbconvert_exporter": "python",
   "pygments_lexer": "ipython3",
   "version": "3.7.6"
  }
 },
 "nbformat": 4,
 "nbformat_minor": 4
}
