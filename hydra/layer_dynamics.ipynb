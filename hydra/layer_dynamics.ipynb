{
 "cells": [
  {
   "cell_type": "code",
   "execution_count": 1,
   "metadata": {},
   "outputs": [],
   "source": [
    "%load_ext autoreload\n",
    "%autoreload 2\n",
    "\n",
    "import sys, os, multiprocessing\n",
    "sys.path.insert(0, os.path.abspath(os.path.join(os.path.abspath(''), '..')))\n",
    "\n",
    "import numpy as np\n",
    "import pandas as pd\n",
    "import matplotlib.pyplot as plt\n",
    "from matplotlib.ticker import MaxNLocator\n",
    "import time\n",
    "import h5py\n",
    "\n",
    "from hydra.model.smc import SMC\n",
    "from hydra.model.force_encoder_ecto import ForceEncoderEcto\n",
    "from hydra.model.force_encoder_endo import ForceEncoderEndo\n",
    "from hydra.model.fluo_encoder import FluoEncoder\n",
    "from hydra.model import plot\n",
    "import hydra.model.helper as helper"
   ]
  },
  {
   "cell_type": "code",
   "execution_count": 2,
   "metadata": {},
   "outputs": [
    {
     "name": "stdout",
     "output_type": "stream",
     "text": [
      "numx=200,numy=200,gc=1000.0,gip3=5.0,sparsity=0.0001,T=100,dt=0.0002,k_ipr=0.2,s0=100,d=0.002,v_delta=0.04,k_deg=0.15,shell\n"
     ]
    }
   ],
   "source": [
    "FILENAME = \"2020-05-28-07-53-29-389459\"\n",
    "METAPATH = \"./results/data/meta.txt\"\n",
    "\n",
    "# Load metadata\n",
    "data = pd.read_csv(METAPATH, sep=\"\\s+\")\n",
    "print(data.Metadata[data.Filename == FILENAME].values[0])"
   ]
  },
  {
   "cell_type": "code",
   "execution_count": null,
   "metadata": {},
   "outputs": [],
   "source": [
    "# Read the simulation results\n",
    "calcium = pd.read_hdf(\"./results/data/calcium/\" + FILENAME + \".h5\")\n",
    "calcium = calcium.values.reshape(len(calcium), 200, 200)"
   ]
  },
  {
   "cell_type": "code",
   "execution_count": null,
   "metadata": {},
   "outputs": [],
   "source": [
    "# Plot calcium patterns at specified times\n",
    "plot.plot_frame_patterns(calcium, list(range(10, 350, 10)), vmin=0, vmax=1, dt=0.02)"
   ]
  },
  {
   "cell_type": "code",
   "execution_count": null,
   "metadata": {},
   "outputs": [],
   "source": [
    "# Plot the calcium traces in different directions\n",
    "plot.plot_1d_traces(calcium, interval=10, dt=0.02)"
   ]
  },
  {
   "cell_type": "code",
   "execution_count": null,
   "metadata": {},
   "outputs": [],
   "source": [
    "# Track the wavefront \n",
    "timeline = np.linspace(0, 100, int(100/0.02))\n",
    "wavefront = helper.track_wavefront(calcium[:, 100:200, 0], 0.2)\n",
    "ax = plt.figure().gca()\n",
    "ax.yaxis.set_major_locator(MaxNLocator(integer=True))\n",
    "ax.plot(timeline, wavefront)\n",
    "ax.set_xlabel(\"time (s)\")\n",
    "ax.set_ylabel(\"Wavefront #\")\n",
    "plt.show()"
   ]
  },
  {
   "cell_type": "code",
   "execution_count": null,
   "metadata": {},
   "outputs": [],
   "source": []
  }
 ],
 "metadata": {
  "kernelspec": {
   "display_name": "Python 3",
   "language": "python",
   "name": "python3"
  },
  "language_info": {
   "codemirror_mode": {
    "name": "ipython",
    "version": 3
   },
   "file_extension": ".py",
   "mimetype": "text/x-python",
   "name": "python",
   "nbconvert_exporter": "python",
   "pygments_lexer": "ipython3",
   "version": "3.7.6"
  }
 },
 "nbformat": 4,
 "nbformat_minor": 4
}
