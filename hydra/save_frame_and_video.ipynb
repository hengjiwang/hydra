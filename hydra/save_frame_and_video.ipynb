{
 "cells": [
  {
   "cell_type": "code",
   "execution_count": null,
   "metadata": {},
   "outputs": [],
   "source": [
    "from tqdm import tqdm\n",
    "import cv2\n",
    "data = force\n",
    "numx = 200\n",
    "numy = 200\n",
    "dpi = 50\n",
    "fps = 200\n",
    "savepath = './results/video/force/'\n",
    "\n",
    "plt.figure(figsize=(numx/dpi, numy/dpi))\n",
    "\n",
    "for iframe in tqdm(range(len(data))):\n",
    "\n",
    "    plt.clf()\n",
    "\n",
    "    frame = data[iframe]\n",
    "    # if flip:\n",
    "    #     frame = np.flip(frame.T, 0)\n",
    "\n",
    "    plt.imshow(frame.T, cmap='hot', vmin=0, vmax=4)\n",
    "\n",
    "    plt.axis('off')\n",
    "\n",
    "    plt.gca().xaxis.set_major_locator(plt.NullLocator())\n",
    "    plt.gca().yaxis.set_major_locator(plt.NullLocator())\n",
    "\n",
    "    plt.xlim(0, numx)\n",
    "    plt.ylim(0, numy)\n",
    "    plt.subplots_adjust(top=1, bottom=0, left=0, right=1, hspace=0, wspace=0)\n",
    "    plt.margins(0, 0)\n",
    "\n",
    "    plt.savefig(savepath + 'frames/img' + str(iframe) + '.jpg', dpi=dpi)\n",
    "\n",
    "# Save video\n",
    "fourcc = cv2.VideoWriter_fourcc(*'MJPG')\n",
    "videoWriter = cv2.VideoWriter(savepath + '/video.avi', fourcc, fps, (numx, numy))\n",
    "\n",
    "for iframe in tqdm(range(len(data))):\n",
    "    frame = cv2.imread(savepath + 'frames/img' + str(iframe) + '.jpg')\n",
    "    videoWriter.write(frame)\n",
    "videoWriter.release()\n",
    "cv2.destroyAllWindows()"
   ]
  },
  {
   "cell_type": "code",
   "execution_count": 19,
   "metadata": {},
   "outputs": [],
   "source": [
    "import numpy as np\n",
    "aa = np.random.uniform(0, 1, (100, 100))"
   ]
  },
  {
   "cell_type": "code",
   "execution_count": 22,
   "metadata": {},
   "outputs": [],
   "source": [
    "aa = (aa < 0.1).astype(float)"
   ]
  },
  {
   "cell_type": "code",
   "execution_count": 23,
   "metadata": {},
   "outputs": [
    {
     "data": {
      "text/plain": [
       "array([[0., 0., 0., ..., 1., 1., 0.],\n",
       "       [0., 0., 1., ..., 0., 0., 0.],\n",
       "       [0., 0., 0., ..., 0., 0., 1.],\n",
       "       ...,\n",
       "       [0., 0., 0., ..., 0., 1., 0.],\n",
       "       [0., 1., 0., ..., 0., 0., 0.],\n",
       "       [0., 0., 0., ..., 0., 0., 0.]])"
      ]
     },
     "execution_count": 23,
     "metadata": {},
     "output_type": "execute_result"
    }
   ],
   "source": [
    "aa"
   ]
  },
  {
   "cell_type": "code",
   "execution_count": null,
   "metadata": {},
   "outputs": [],
   "source": []
  }
 ],
 "metadata": {
  "kernelspec": {
   "display_name": "Python 3",
   "language": "python",
   "name": "python3"
  },
  "language_info": {
   "codemirror_mode": {
    "name": "ipython",
    "version": 3
   },
   "file_extension": ".py",
   "mimetype": "text/x-python",
   "name": "python",
   "nbconvert_exporter": "python",
   "pygments_lexer": "ipython3",
   "version": "3.7.6"
  }
 },
 "nbformat": 4,
 "nbformat_minor": 4
}
