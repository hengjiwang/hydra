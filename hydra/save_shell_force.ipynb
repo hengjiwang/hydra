{
 "cells": [
  {
   "cell_type": "code",
   "execution_count": 34,
   "metadata": {},
   "outputs": [
    {
     "name": "stdout",
     "output_type": "stream",
     "text": [
      "The autoreload extension is already loaded. To reload it, use:\n",
      "  %reload_ext autoreload\n"
     ]
    }
   ],
   "source": [
    "%load_ext autoreload\n",
    "%autoreload 2\n",
    "\n",
    "import sys, os\n",
    "import numpy as np\n",
    "import matplotlib.pyplot as plt\n",
    "sys.path.insert(0, os.path.abspath(os.path.join(os.path.abspath(''), '..')))\n",
    "\n",
    "\n",
    "import pandas as pd\n",
    "from hydra.model.force_encoder_ecto import ForceEncoderEcto\n",
    "from hydra.model.force_encoder_endo import ForceEncoderEndo\n",
    "import hydra.model.helper as helper"
   ]
  },
  {
   "cell_type": "code",
   "execution_count": 35,
   "metadata": {},
   "outputs": [],
   "source": [
    "# Load calcium\n",
    "FILENAME = \"2020-07-13-16-35-39-323801\"\n",
    "encoder = ForceEncoderEndo\n",
    "\n",
    "calcium = pd.read_hdf(\"./results/data/calcium/\" + FILENAME + \".h5\")\n",
    "calcium = calcium.values.reshape(len(calcium), 100, 100)"
   ]
  },
  {
   "cell_type": "code",
   "execution_count": 36,
   "metadata": {},
   "outputs": [],
   "source": [
    "# Separate ecto and endo\n",
    "ca_ecto = calcium[:, :50, :]\n",
    "ca_endo = calcium[:, 50:, :]"
   ]
  },
  {
   "cell_type": "code",
   "execution_count": 38,
   "metadata": {},
   "outputs": [
    {
     "name": "stderr",
     "output_type": "stream",
     "text": [
      "100%|██████████████████████████████████████████████████████████████████████████| 15000/15000 [00:08<00:00, 1812.82it/s]\n",
      "100%|██████████████████████████████████████████████████████████████████████████| 15000/15000 [00:08<00:00, 1824.15it/s]\n"
     ]
    }
   ],
   "source": [
    "# Encode force\n",
    "fo_ecto = helper.encode_force_2d(ForceEncoderEcto, ca_ecto, 50, 100, 0.02, save_interval=5)\n",
    "fo_endo = helper.encode_force_2d(ForceEncoderEndo, ca_endo, 50, 100, 0.02, save_interval=5)"
   ]
  },
  {
   "cell_type": "code",
   "execution_count": 39,
   "metadata": {},
   "outputs": [],
   "source": [
    "# Average force and save\n",
    "fo_ecto_avg = helper.average_force(fo_ecto, 50, 100, 10, 20)\n",
    "df = pd.DataFrame(fo_ecto_avg.reshape(-1, 200))\n",
    "df.to_csv(\"./results/data/force/\" + FILENAME + \"_ecto.csv\", index = False)\n",
    "\n",
    "fo_endo_avg = helper.average_force(fo_endo, 50, 100, 10, 20)\n",
    "df = pd.DataFrame(fo_endo_avg.reshape(-1, 200))\n",
    "df.to_csv(\"./results/data/force/\" + FILENAME + \"_endo.csv\", index = False)"
   ]
  },
  {
   "cell_type": "code",
   "execution_count": 45,
   "metadata": {},
   "outputs": [
    {
     "data": {
      "text/plain": [
       "<matplotlib.image.AxesImage at 0x1dd3a99bac8>"
      ]
     },
     "execution_count": 45,
     "metadata": {},
     "output_type": "execute_result"
    },
    {
     "data": {
      "image/png": "[encoded data removed]",
      "text/plain": [
       "<Figure size 432x288 with 1 Axes>"
      ]
     },
     "metadata": {
      "needs_background": "light"
     },
     "output_type": "display_data"
    }
   ],
   "source": [
    "# Load to double check / compare\n",
    "fo = pd.read_csv(\"./results/data/force/\" + FILENAME + \"_ecto\" + \".csv\")\n",
    "fo = fo.values.reshape(-1, 10, 20)\n",
    "plt.imshow(fo[100], vmin=0, vmax=4)"
   ]
  },
  {
   "cell_type": "code",
   "execution_count": 46,
   "metadata": {},
   "outputs": [
    {
     "data": {
      "image/png": "[encoded data removed]",
      "text/plain": [
       "<Figure size 432x288 with 1 Axes>"
      ]
     },
     "metadata": {
      "needs_background": "light"
     },
     "output_type": "display_data"
    }
   ],
   "source": [
    "plt.figure()\n",
    "plt.plot(fo[:, 0, 0])\n",
    "plt.show()"
   ]
  },
  {
   "cell_type": "code",
   "execution_count": 4,
   "metadata": {},
   "outputs": [
    {
     "data": {
      "text/plain": [
       "(3000, 10, 20)"
      ]
     },
     "execution_count": 4,
     "metadata": {},
     "output_type": "execute_result"
    }
   ],
   "source": [
    "fo.shape"
   ]
  },
  {
   "cell_type": "code",
   "execution_count": 5,
   "metadata": {},
   "outputs": [],
   "source": [
    "fo_front = fo[:, 3:7, :]\n",
    "fo_left = fo[:, 0:2, :]\n",
    "fo_right = fo[:, 8:10, :]"
   ]
  },
  {
   "cell_type": "code",
   "execution_count": 31,
   "metadata": {},
   "outputs": [
    {
     "data": {
      "text/plain": [
       "10899.86561801458"
      ]
     },
     "execution_count": 31,
     "metadata": {},
     "output_type": "execute_result"
    }
   ],
   "source": [
    "np.sum(fo_front[:500, :, :5])"
   ]
  },
  {
   "cell_type": "code",
   "execution_count": 32,
   "metadata": {},
   "outputs": [
    {
     "data": {
      "text/plain": [
       "10934.468830037738"
      ]
     },
     "execution_count": 32,
     "metadata": {},
     "output_type": "execute_result"
    }
   ],
   "source": [
    "np.sum(fo_left[:500, :, :5] + fo_right[:500, :, :5])"
   ]
  },
  {
   "cell_type": "code",
   "execution_count": null,
   "metadata": {},
   "outputs": [],
   "source": []
  }
 ],
 "metadata": {
  "kernelspec": {
   "display_name": "Python 3",
   "language": "python",
   "name": "python3"
  },
  "language_info": {
   "codemirror_mode": {
    "name": "ipython",
    "version": 3
   },
   "file_extension": ".py",
   "mimetype": "text/x-python",
   "name": "python",
   "nbconvert_exporter": "python",
   "pygments_lexer": "ipython3",
   "version": "3.7.6"
  }
 },
 "nbformat": 4,
 "nbformat_minor": 4
}
