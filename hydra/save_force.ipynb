{
 "cells": [
  {
   "cell_type": "code",
   "execution_count": 1,
   "metadata": {},
   "outputs": [],
   "source": [
    "%load_ext autoreload\n",
    "%autoreload 2\n",
    "\n",
    "import sys, os\n",
    "import numpy as np\n",
    "import matplotlib.pyplot as plt\n",
    "sys.path.insert(0, os.path.abspath(os.path.join(os.path.abspath(''), '..')))\n",
    "\n",
    "\n",
    "import pandas as pd\n",
    "from hydra.model.force_encoder_ecto import ForceEncoderEcto\n",
    "from hydra.model.force_encoder_endo import ForceEncoderEndo\n",
    "import hydra.model.helper as helper"
   ]
  },
  {
   "cell_type": "code",
   "execution_count": 2,
   "metadata": {},
   "outputs": [
    {
     "name": "stderr",
     "output_type": "stream",
     "text": [
      "100%|██████████████████████████████████████████████████████████████████████████████| 3500/3500 [00:48<00:00, 71.62it/s]\n"
     ]
    }
   ],
   "source": [
    "# Encode the calium into force\n",
    "\n",
    "FILENAME = \"2020-06-01-19-38-45-405549\"\n",
    "\n",
    "encoder = ForceEncoderEndo\n",
    "\n",
    "calcium = pd.read_hdf(\"./results/data/calcium/\" + FILENAME + \".h5\")\n",
    "calcium = calcium.values.reshape(len(calcium), 200, 200)\n",
    "calcium = calcium[::5, :, :] # Slice calcium\n",
    "force = helper.encode_force_2d(encoder, calcium, 200, 200, 0.02, save_interval=1)"
   ]
  },
  {
   "cell_type": "code",
   "execution_count": 7,
   "metadata": {},
   "outputs": [
    {
     "data": {
      "image/png": "[encoded data removed]",
      "text/plain": [
       "<Figure size 432x288 with 1 Axes>"
      ]
     },
     "metadata": {
      "needs_background": "light"
     },
     "output_type": "display_data"
    }
   ],
   "source": [
    "# Test on one cell\n",
    "force_single = ForceEncoderEcto.encode(calcium[:, 0, 0], 0.02)\n",
    "plt.plot(np.arange(0,350,0.02), force_single)\n",
    "plt.show()"
   ]
  },
  {
   "cell_type": "code",
   "execution_count": 8,
   "metadata": {},
   "outputs": [],
   "source": [
    "# Average the force and save\n",
    "force_averaged = helper.average_force(force, 200, 200)\n",
    "df = pd.DataFrame(force_averaged.reshape(-1, 400))\n",
    "df.to_csv(\"./results/data/force/\" + FILENAME + \".csv\", index = False)\n",
    "del force"
   ]
  },
  {
   "cell_type": "code",
   "execution_count": 3,
   "metadata": {},
   "outputs": [
    {
     "name": "stderr",
     "output_type": "stream",
     "text": [
      "100%|██████████████████████████████████████████████████████████████████████████████| 3500/3500 [01:48<00:00, 32.31it/s]\n",
      "100%|█████████████████████████████████████████████████████████████████████████████| 3500/3500 [00:05<00:00, 666.78it/s]\n"
     ]
    },
    {
     "data": {
      "image/png": "[encoded data removed]",
      "text/plain": [
       "<Figure size 288x288 with 1 Axes>"
      ]
     },
     "metadata": {},
     "output_type": "display_data"
    }
   ],
   "source": [
    "from tqdm import tqdm\n",
    "import cv2\n",
    "data = force\n",
    "numx = 200\n",
    "numy = 200\n",
    "dpi = 50\n",
    "fps = 200\n",
    "savepath = './results/video/force/'\n",
    "\n",
    "plt.figure(figsize=(numx/dpi, numy/dpi))\n",
    "\n",
    "for iframe in tqdm(range(len(data))):\n",
    "\n",
    "    plt.clf()\n",
    "\n",
    "    frame = data[iframe]\n",
    "    # if flip:\n",
    "    #     frame = np.flip(frame.T, 0)\n",
    "\n",
    "    plt.imshow(frame.T, cmap='hot', vmin=0, vmax=4)\n",
    "\n",
    "    plt.axis('off')\n",
    "\n",
    "    plt.gca().xaxis.set_major_locator(plt.NullLocator())\n",
    "    plt.gca().yaxis.set_major_locator(plt.NullLocator())\n",
    "\n",
    "    plt.xlim(0, numx)\n",
    "    plt.ylim(0, numy)\n",
    "    plt.subplots_adjust(top=1, bottom=0, left=0, right=1, hspace=0, wspace=0)\n",
    "    plt.margins(0, 0)\n",
    "\n",
    "    plt.savefig(savepath + 'frames/img' + str(iframe) + '.jpg', dpi=dpi)\n",
    "\n",
    "# Save video\n",
    "fourcc = cv2.VideoWriter_fourcc(*'MJPG')\n",
    "videoWriter = cv2.VideoWriter(savepath + '/video.avi', fourcc, fps, (numx, numy))\n",
    "\n",
    "for iframe in tqdm(range(len(data))):\n",
    "    frame = cv2.imread(savepath + 'frames/img' + str(iframe) + '.jpg')\n",
    "    videoWriter.write(frame)\n",
    "videoWriter.release()\n",
    "cv2.destroyAllWindows()"
   ]
  },
  {
   "cell_type": "code",
   "execution_count": null,
   "metadata": {},
   "outputs": [],
   "source": []
  }
 ],
 "metadata": {
  "kernelspec": {
   "display_name": "Python 3",
   "language": "python",
   "name": "python3"
  },
  "language_info": {
   "codemirror_mode": {
    "name": "ipython",
    "version": 3
   },
   "file_extension": ".py",
   "mimetype": "text/x-python",
   "name": "python",
   "nbconvert_exporter": "python",
   "pygments_lexer": "ipython3",
   "version": "3.7.6"
  }
 },
 "nbformat": 4,
 "nbformat_minor": 4
}
