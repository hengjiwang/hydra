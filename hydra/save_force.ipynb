{
 "cells": [
  {
   "cell_type": "code",
   "execution_count": 12,
   "metadata": {},
   "outputs": [
    {
     "name": "stdout",
     "output_type": "stream",
     "text": [
      "The autoreload extension is already loaded. To reload it, use:\n",
      "  %reload_ext autoreload\n"
     ]
    }
   ],
   "source": [
    "%load_ext autoreload\n",
    "%autoreload 2\n",
    "\n",
    "import sys, os, multiprocessing\n",
    "import numpy as np\n",
    "import matplotlib.pyplot as plt\n",
    "sys.path.insert(0, os.path.abspath(os.path.join(os.path.abspath(''), '..')))\n",
    "\n",
    "import pandas as pd\n",
    "from hydra.model.force_encoder_ecto import ForceEncoderEcto\n",
    "from hydra.model.force_encoder_endo import ForceEncoderEndo\n",
    "import hydra.model.helper as helper"
   ]
  },
  {
   "cell_type": "code",
   "execution_count": 48,
   "metadata": {},
   "outputs": [
    {
     "name": "stderr",
     "output_type": "stream",
     "text": [
      "100%|██████████████████████████████████████████████████████████████████████████████| 5000/5000 [01:23<00:00, 59.77it/s]\n"
     ]
    }
   ],
   "source": [
    "# Encode the calium into force\n",
    "\n",
    "FILENAME = \"2020-05-26-13-27-14-097356\"\n",
    "\n",
    "encoder = ForceEncoderEcto\n",
    "\n",
    "calcium = pd.read_hdf(\"./results/data/calcium/\" + FILENAME + \".h5\")\n",
    "calcium = calcium.values.reshape(len(calcium), 200, 200)\n",
    "force = helper.encode_force_2d(encoder, calcium, 200, 200, 0.02)"
   ]
  },
  {
   "cell_type": "code",
   "execution_count": 46,
   "metadata": {},
   "outputs": [
    {
     "data": {
      "image/png": "[encoded data removed]",
      "text/plain": [
       "<Figure size 432x288 with 1 Axes>"
      ]
     },
     "metadata": {
      "needs_background": "light"
     },
     "output_type": "display_data"
    }
   ],
   "source": [
    "# Test on one cell\n",
    "force_single = ForceEncoderEcto.encode(calcium[:, 0, 0], 0.02)\n",
    "plt.plot(np.arange(0,100,0.02), force_single)\n",
    "plt.show()"
   ]
  },
  {
   "cell_type": "code",
   "execution_count": 49,
   "metadata": {},
   "outputs": [],
   "source": [
    "# Average the force and save\n",
    "force_averaged = helper.average_force(force, 200, 200)\n",
    "df = pd.DataFrame(force_averaged.reshape(-1, 400))\n",
    "df.to_csv(\"./results/data/force/\" + FILENAME + \".csv\", index = False)\n",
    "del force"
   ]
  },
  {
   "cell_type": "code",
   "execution_count": null,
   "metadata": {},
   "outputs": [],
   "source": []
  }
 ],
 "metadata": {
  "kernelspec": {
   "display_name": "Python 3",
   "language": "python",
   "name": "python3"
  },
  "language_info": {
   "codemirror_mode": {
    "name": "ipython",
    "version": 3
   },
   "file_extension": ".py",
   "mimetype": "text/x-python",
   "name": "python",
   "nbconvert_exporter": "python",
   "pygments_lexer": "ipython3",
   "version": "3.7.6"
  }
 },
 "nbformat": 4,
 "nbformat_minor": 4
}
